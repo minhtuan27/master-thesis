{
 "cells": [
  {
   "cell_type": "markdown",
   "metadata": {},
   "source": [
    "# A tensorflow model for Dictionary Filter"
   ]
  },
  {
   "cell_type": "code",
   "execution_count": 1,
   "metadata": {},
   "outputs": [
    {
     "name": "stderr",
     "output_type": "stream",
     "text": [
      "2024-07-11 22:24:07.155405: I tensorflow/core/util/port.cc:113] oneDNN custom operations are on. You may see slightly different numerical results due to floating-point round-off errors from different computation orders. To turn them off, set the environment variable `TF_ENABLE_ONEDNN_OPTS=0`.\n",
      "2024-07-11 22:24:07.498167: I tensorflow/core/platform/cpu_feature_guard.cc:210] This TensorFlow binary is optimized to use available CPU instructions in performance-critical operations.\n",
      "To enable the following instructions: AVX2 AVX512F AVX512_VNNI AVX512_BF16 FMA, in other operations, rebuild TensorFlow with the appropriate compiler flags.\n",
      "2024-07-11 22:24:08.217527: W tensorflow/compiler/tf2tensorrt/utils/py_utils.cc:38] TF-TRT Warning: Could not find TensorRT\n"
     ]
    }
   ],
   "source": [
    "import numpy as np\n",
    "import pandas as pd\n",
    "import tensorflow as tf\n",
    "from tqdm import tqdm\n",
    "import time\n",
    "import matplotlib.pyplot as plt"
   ]
  },
  {
   "cell_type": "code",
   "execution_count": 2,
   "metadata": {},
   "outputs": [],
   "source": [
    "import sys\n",
    "sys.path.append('../Library')\n",
    "\n",
    "from Metrics.NMSE import NMSE\n",
    "from Modules.GaussianDictionaryFilter import GaussianDictionaryFilter as DictionaryFilter"
   ]
  },
  {
   "cell_type": "code",
   "execution_count": 3,
   "metadata": {},
   "outputs": [],
   "source": [
    "np.random.seed(42)\n",
    "tf.random.set_seed(42)"
   ]
  },
  {
   "cell_type": "markdown",
   "metadata": {},
   "source": [
    "## Test on the Full Netflix dataset"
   ]
  },
  {
   "cell_type": "code",
   "execution_count": 4,
   "metadata": {},
   "outputs": [
    {
     "data": {
      "text/html": [
       "<div>\n",
       "<style scoped>\n",
       "    .dataframe tbody tr th:only-of-type {\n",
       "        vertical-align: middle;\n",
       "    }\n",
       "\n",
       "    .dataframe tbody tr th {\n",
       "        vertical-align: top;\n",
       "    }\n",
       "\n",
       "    .dataframe thead th {\n",
       "        text-align: right;\n",
       "    }\n",
       "</style>\n",
       "<table border=\"1\" class=\"dataframe\">\n",
       "  <thead>\n",
       "    <tr style=\"text-align: right;\">\n",
       "      <th></th>\n",
       "      <th>Movie Index</th>\n",
       "      <th>User Index</th>\n",
       "      <th>Rating</th>\n",
       "    </tr>\n",
       "  </thead>\n",
       "  <tbody>\n",
       "    <tr>\n",
       "      <th>0</th>\n",
       "      <td>0</td>\n",
       "      <td>270045</td>\n",
       "      <td>3</td>\n",
       "    </tr>\n",
       "    <tr>\n",
       "      <th>1</th>\n",
       "      <td>0</td>\n",
       "      <td>149546</td>\n",
       "      <td>5</td>\n",
       "    </tr>\n",
       "    <tr>\n",
       "      <th>2</th>\n",
       "      <td>0</td>\n",
       "      <td>160878</td>\n",
       "      <td>4</td>\n",
       "    </tr>\n",
       "    <tr>\n",
       "      <th>3</th>\n",
       "      <td>0</td>\n",
       "      <td>5466</td>\n",
       "      <td>4</td>\n",
       "    </tr>\n",
       "    <tr>\n",
       "      <th>4</th>\n",
       "      <td>0</td>\n",
       "      <td>149791</td>\n",
       "      <td>3</td>\n",
       "    </tr>\n",
       "  </tbody>\n",
       "</table>\n",
       "</div>"
      ],
      "text/plain": [
       "   Movie Index  User Index  Rating\n",
       "0            0      270045       3\n",
       "1            0      149546       5\n",
       "2            0      160878       4\n",
       "3            0        5466       4\n",
       "4            0      149791       3"
      ]
     },
     "execution_count": 4,
     "metadata": {},
     "output_type": "execute_result"
    }
   ],
   "source": [
    "# Read the dataset\n",
    "dataset = pd.read_csv('../Data/Netflix/Full/dataset.csv')\n",
    "\n",
    "# Display the dataset\n",
    "dataset.head()"
   ]
  },
  {
   "cell_type": "code",
   "execution_count": 5,
   "metadata": {},
   "outputs": [
    {
     "name": "stdout",
     "output_type": "stream",
     "text": [
      "Train data shape: (72345938, 3)\n",
      "Validation data shape: (8038438, 3)\n",
      "Test data shape: (20096131, 3)\n"
     ]
    }
   ],
   "source": [
    "from sklearn.model_selection import train_test_split\n",
    "from AdvancedModelSelection import user_based_train_test_split\n",
    "\n",
    "# Split the dataset into train and test data\n",
    "train_val_data, test_data = user_based_train_test_split(dataset, test_size=0.2, random_state=42)\n",
    "\n",
    "# Split the train and validation data\n",
    "train_data, val_data = train_test_split(train_val_data, test_size=0.1, random_state=42)\n",
    "\n",
    "# Print the shapes of train and test data\n",
    "print(\"Train data shape:\", train_data.shape)\n",
    "print(\"Validation data shape:\", val_data.shape)\n",
    "print(\"Test data shape:\", test_data.shape)"
   ]
  },
  {
   "cell_type": "code",
   "execution_count": 6,
   "metadata": {},
   "outputs": [],
   "source": [
    "NUM_MOVIES = dataset['Movie Index'].max() + 1\n",
    "NUM_USERS = dataset['User Index'].max() + 1\n",
    "NUM_FACTORS = 16\n",
    "BATCH_SIZE = 128\n",
    "TRAIN_LAMBDA = 2.0\n",
    "INIT_SCALE = dataset['Rating'].mean() / NUM_FACTORS\n",
    "NUM_EPOCHS = 20"
   ]
  },
  {
   "cell_type": "code",
   "execution_count": 7,
   "metadata": {},
   "outputs": [
    {
     "name": "stderr",
     "output_type": "stream",
     "text": [
      "2024-07-11 22:26:14.494413: I external/local_xla/xla/stream_executor/cuda/cuda_executor.cc:984] could not open file to read NUMA node: /sys/bus/pci/devices/0000:01:00.0/numa_node\n",
      "Your kernel may have been built without NUMA support.\n",
      "2024-07-11 22:26:14.752073: I external/local_xla/xla/stream_executor/cuda/cuda_executor.cc:984] could not open file to read NUMA node: /sys/bus/pci/devices/0000:01:00.0/numa_node\n",
      "Your kernel may have been built without NUMA support.\n",
      "2024-07-11 22:26:14.752131: I external/local_xla/xla/stream_executor/cuda/cuda_executor.cc:984] could not open file to read NUMA node: /sys/bus/pci/devices/0000:01:00.0/numa_node\n",
      "Your kernel may have been built without NUMA support.\n",
      "2024-07-11 22:26:14.776779: I external/local_xla/xla/stream_executor/cuda/cuda_executor.cc:984] could not open file to read NUMA node: /sys/bus/pci/devices/0000:01:00.0/numa_node\n",
      "Your kernel may have been built without NUMA support.\n",
      "2024-07-11 22:26:14.776814: I external/local_xla/xla/stream_executor/cuda/cuda_executor.cc:984] could not open file to read NUMA node: /sys/bus/pci/devices/0000:01:00.0/numa_node\n",
      "Your kernel may have been built without NUMA support.\n",
      "2024-07-11 22:26:14.776835: I external/local_xla/xla/stream_executor/cuda/cuda_executor.cc:984] could not open file to read NUMA node: /sys/bus/pci/devices/0000:01:00.0/numa_node\n",
      "Your kernel may have been built without NUMA support.\n",
      "2024-07-11 22:26:15.003972: I external/local_xla/xla/stream_executor/cuda/cuda_executor.cc:984] could not open file to read NUMA node: /sys/bus/pci/devices/0000:01:00.0/numa_node\n",
      "Your kernel may have been built without NUMA support.\n",
      "2024-07-11 22:26:15.004457: I external/local_xla/xla/stream_executor/cuda/cuda_executor.cc:984] could not open file to read NUMA node: /sys/bus/pci/devices/0000:01:00.0/numa_node\n",
      "Your kernel may have been built without NUMA support.\n",
      "2024-07-11 22:26:15.004620: I tensorflow/core/common_runtime/gpu/gpu_device.cc:2019] Could not identify NUMA node of platform GPU id 0, defaulting to 0.  Your kernel may not have been built with NUMA support.\n",
      "2024-07-11 22:26:15.004670: I external/local_xla/xla/stream_executor/cuda/cuda_executor.cc:984] could not open file to read NUMA node: /sys/bus/pci/devices/0000:01:00.0/numa_node\n",
      "Your kernel may have been built without NUMA support.\n",
      "2024-07-11 22:26:15.005045: I tensorflow/core/common_runtime/gpu/gpu_device.cc:1928] Created device /job:localhost/replica:0/task:0/device:GPU:0 with 9558 MB memory:  -> device: 0, name: NVIDIA GeForce RTX 4070, pci bus id: 0000:01:00.0, compute capability: 8.9\n"
     ]
    }
   ],
   "source": [
    "# Convert train data to sparse tensor\n",
    "train_sparse_tensor = tf.sparse.SparseTensor(\n",
    "    indices=train_data[['Movie Index', 'User Index']].values,\n",
    "    values=train_data['Rating'].values,\n",
    "    dense_shape=[NUM_MOVIES, NUM_USERS]\n",
    ")\n",
    "train_sparse_tensor = tf.sparse.reorder(train_sparse_tensor)\n",
    "\n",
    "# Convert validation data to sparse tensor\n",
    "val_sparse_tensor = tf.sparse.SparseTensor(\n",
    "    indices=val_data[['Movie Index', 'User Index']].values,\n",
    "    values=val_data['Rating'].values,\n",
    "    dense_shape=[NUM_MOVIES, NUM_USERS]\n",
    ")\n",
    "val_sparse_tensor = tf.sparse.reorder(val_sparse_tensor)\n",
    "\n",
    "# Convert test data to sparse tensor\n",
    "test_sparse_tensor = tf.sparse.SparseTensor(\n",
    "    indices=test_data[['Movie Index', 'User Index']].values,\n",
    "    values=test_data['Rating'].values,\n",
    "    dense_shape=[NUM_MOVIES, NUM_USERS]\n",
    ")\n",
    "test_sparse_tensor = tf.sparse.reorder(test_sparse_tensor)"
   ]
  },
  {
   "cell_type": "code",
   "execution_count": 8,
   "metadata": {},
   "outputs": [],
   "source": [
    "# Create dataset\n",
    "def create_train_dataset(batch_size=BATCH_SIZE):\n",
    "    def data_generator():\n",
    "        train_slices = tf.sparse.split(sp_input=train_sparse_tensor, num_split=NUM_USERS // batch_size, axis=1)\n",
    "        val_slices = tf.sparse.split(sp_input=val_sparse_tensor, num_split=NUM_USERS // batch_size, axis=1)\n",
    "        for i in range(NUM_USERS // batch_size):\n",
    "            yield (tf.sparse.to_dense(train_slices[i]), tf.sparse.to_dense(val_slices[i]))\n",
    "\n",
    "    dataset = tf.data.Dataset.from_generator(\n",
    "        data_generator, \n",
    "        output_signature=(\n",
    "            tf.TensorSpec(shape=[NUM_MOVIES, None], dtype=tf.float32),\n",
    "            tf.TensorSpec(shape=[NUM_MOVIES, None], dtype=tf.float32)\n",
    "        )\n",
    "    )\n",
    "\n",
    "    return dataset\n",
    "\n",
    "def create_full_dataset(batch_size=BATCH_SIZE):\n",
    "    def data_generator():\n",
    "        train_slices = tf.sparse.split(sp_input=train_sparse_tensor, num_split=NUM_USERS // batch_size, axis=1)\n",
    "        val_slices = tf.sparse.split(sp_input=val_sparse_tensor, num_split=NUM_USERS // batch_size, axis=1)\n",
    "        test_slices = tf.sparse.split(sp_input=test_sparse_tensor, num_split=NUM_USERS // batch_size, axis=1)\n",
    "        for i in range(NUM_USERS // batch_size):\n",
    "            yield (tf.sparse.to_dense(train_slices[i]), tf.sparse.to_dense(val_slices[i]), tf.sparse.to_dense(test_slices[i]))\n",
    "\n",
    "    dataset = tf.data.Dataset.from_generator(\n",
    "        data_generator, \n",
    "        output_signature=(\n",
    "            tf.TensorSpec(shape=[NUM_MOVIES, None], dtype=tf.float32),\n",
    "            tf.TensorSpec(shape=[NUM_MOVIES, None], dtype=tf.float32),\n",
    "            tf.TensorSpec(shape=[NUM_MOVIES, None], dtype=tf.float32)\n",
    "        )\n",
    "    )\n",
    "\n",
    "    return dataset"
   ]
  },
  {
   "cell_type": "markdown",
   "metadata": {},
   "source": [
    "## Experiments\n",
    "### 1. Batch size vs train time vs NMSE"
   ]
  },
  {
   "cell_type": "code",
   "execution_count": 9,
   "metadata": {},
   "outputs": [
    {
     "name": "stderr",
     "output_type": "stream",
     "text": [
      "Epoch 1:   0%|          | 0/60023 [00:00<?, ?batch/s]2024-07-10 15:35:44.661176: I tensorflow/core/util/cuda_solvers.cc:178] Creating GpuSolver handles for stream 0x556dfbae56f0\n",
      "Epoch 1: 100%|█████████▉| 60017/60023 [12:09<00:00, 83.95batch/s] 2024-07-10 15:47:25.940705: W tensorflow/core/framework/local_rendezvous.cc:404] Local rendezvous is aborting with status: OUT_OF_RANGE: End of sequence\n",
      "Epoch 1: 100%|██████████| 60023/60023 [12:09<00:00, 82.23batch/s]\n"
     ]
    },
    {
     "name": "stdout",
     "output_type": "stream",
     "text": [
      "Train NMSE: 0.0631296\n",
      "Val NMSE: 0.06513961\n"
     ]
    },
    {
     "name": "stderr",
     "output_type": "stream",
     "text": [
      "Epoch 2: 100%|█████████▉| 60022/60023 [11:55<00:00, 86.69batch/s] 2024-07-10 15:59:21.372780: W tensorflow/core/framework/local_rendezvous.cc:404] Local rendezvous is aborting with status: OUT_OF_RANGE: End of sequence\n",
      "Epoch 2: 100%|██████████| 60023/60023 [11:55<00:00, 83.90batch/s]\n"
     ]
    },
    {
     "name": "stdout",
     "output_type": "stream",
     "text": [
      "Train NMSE: 0.062964916\n",
      "Val NMSE: 0.06496293\n"
     ]
    },
    {
     "name": "stderr",
     "output_type": "stream",
     "text": [
      "Epoch 3: 100%|█████████▉| 60016/60023 [12:14<00:00, 84.12batch/s]2024-07-10 16:11:36.668486: W tensorflow/core/framework/local_rendezvous.cc:404] Local rendezvous is aborting with status: OUT_OF_RANGE: End of sequence\n",
      "Epoch 3: 100%|██████████| 60023/60023 [12:15<00:00, 81.63batch/s]\n"
     ]
    },
    {
     "name": "stdout",
     "output_type": "stream",
     "text": [
      "Train NMSE: 0.06287442\n",
      "Val NMSE: 0.064868726\n"
     ]
    },
    {
     "name": "stderr",
     "output_type": "stream",
     "text": [
      "Epoch 4: 100%|█████████▉| 60016/60023 [12:05<00:00, 83.93batch/s]2024-07-10 16:23:42.866897: W tensorflow/core/framework/local_rendezvous.cc:404] Local rendezvous is aborting with status: OUT_OF_RANGE: End of sequence\n",
      "Epoch 4: 100%|██████████| 60023/60023 [12:06<00:00, 82.65batch/s]\n"
     ]
    },
    {
     "name": "stdout",
     "output_type": "stream",
     "text": [
      "Train NMSE: 0.06281213\n",
      "Val NMSE: 0.06480091\n"
     ]
    },
    {
     "name": "stderr",
     "output_type": "stream",
     "text": [
      "Epoch 5: 100%|█████████▉| 60015/60023 [11:58<00:00, 83.70batch/s]2024-07-10 16:35:41.806200: W tensorflow/core/framework/local_rendezvous.cc:404] Local rendezvous is aborting with status: OUT_OF_RANGE: End of sequence\n",
      "Epoch 5: 100%|██████████| 60023/60023 [11:58<00:00, 83.49batch/s]\n"
     ]
    },
    {
     "name": "stdout",
     "output_type": "stream",
     "text": [
      "Train NMSE: 0.0627643\n",
      "Val NMSE: 0.06474967\n"
     ]
    },
    {
     "name": "stderr",
     "output_type": "stream",
     "text": [
      "Epoch 1: 100%|█████████▉| 15003/15005 [08:37<00:00, 29.57batch/s]2024-07-10 16:44:18.988737: W tensorflow/core/framework/local_rendezvous.cc:404] Local rendezvous is aborting with status: OUT_OF_RANGE: End of sequence\n",
      "Epoch 1: 100%|██████████| 15005/15005 [08:37<00:00, 29.01batch/s]\n"
     ]
    },
    {
     "name": "stdout",
     "output_type": "stream",
     "text": [
      "Train NMSE: 0.06384371\n",
      "Val NMSE: 0.06585838\n"
     ]
    },
    {
     "name": "stderr",
     "output_type": "stream",
     "text": [
      "Epoch 2: 100%|█████████▉| 15003/15005 [08:37<00:00, 29.06batch/s]2024-07-10 16:52:56.472526: W tensorflow/core/framework/local_rendezvous.cc:404] Local rendezvous is aborting with status: OUT_OF_RANGE: End of sequence\n",
      "Epoch 2: 100%|██████████| 15005/15005 [08:37<00:00, 29.00batch/s]\n"
     ]
    },
    {
     "name": "stdout",
     "output_type": "stream",
     "text": [
      "Train NMSE: 0.063684806\n",
      "Val NMSE: 0.065699175\n"
     ]
    },
    {
     "name": "stderr",
     "output_type": "stream",
     "text": [
      "Epoch 3: 100%|█████████▉| 15004/15005 [08:36<00:00, 28.37batch/s]2024-07-10 17:01:33.037145: W tensorflow/core/framework/local_rendezvous.cc:404] Local rendezvous is aborting with status: OUT_OF_RANGE: End of sequence\n",
      "Epoch 3: 100%|██████████| 15005/15005 [08:36<00:00, 29.05batch/s]\n"
     ]
    },
    {
     "name": "stdout",
     "output_type": "stream",
     "text": [
      "Train NMSE: 0.063597985\n",
      "Val NMSE: 0.06561142\n"
     ]
    },
    {
     "name": "stderr",
     "output_type": "stream",
     "text": [
      "Epoch 4: 100%|█████████▉| 15003/15005 [08:35<00:00, 29.47batch/s]2024-07-10 17:10:08.591941: W tensorflow/core/framework/local_rendezvous.cc:404] Local rendezvous is aborting with status: OUT_OF_RANGE: End of sequence\n",
      "Epoch 4: 100%|██████████| 15005/15005 [08:35<00:00, 29.10batch/s]\n"
     ]
    },
    {
     "name": "stdout",
     "output_type": "stream",
     "text": [
      "Train NMSE: 0.06353847\n",
      "Val NMSE: 0.065549955\n"
     ]
    },
    {
     "name": "stderr",
     "output_type": "stream",
     "text": [
      "Epoch 5: 100%|██████████| 15005/15005 [08:35<00:00, 28.96batch/s]2024-07-10 17:18:44.102649: W tensorflow/core/framework/local_rendezvous.cc:404] Local rendezvous is aborting with status: OUT_OF_RANGE: End of sequence\n",
      "Epoch 5: 100%|██████████| 15005/15005 [08:35<00:00, 29.11batch/s]\n"
     ]
    },
    {
     "name": "stdout",
     "output_type": "stream",
     "text": [
      "Train NMSE: 0.06349358\n",
      "Val NMSE: 0.065503575\n"
     ]
    },
    {
     "name": "stderr",
     "output_type": "stream",
     "text": [
      "Epoch 1: 100%|██████████| 3751/3751 [06:56<00:00,  8.92batch/s]2024-07-10 17:25:40.989456: W tensorflow/core/framework/local_rendezvous.cc:404] Local rendezvous is aborting with status: OUT_OF_RANGE: End of sequence\n",
      "Epoch 1: 100%|██████████| 3751/3751 [06:56<00:00,  9.00batch/s]\n"
     ]
    },
    {
     "name": "stdout",
     "output_type": "stream",
     "text": [
      "Train NMSE: 0.064176776\n",
      "Val NMSE: 0.06622289\n"
     ]
    },
    {
     "name": "stderr",
     "output_type": "stream",
     "text": [
      "Epoch 2: 100%|██████████| 3751/3751 [06:58<00:00,  9.24batch/s]2024-07-10 17:32:39.538858: W tensorflow/core/framework/local_rendezvous.cc:404] Local rendezvous is aborting with status: OUT_OF_RANGE: End of sequence\n",
      "Epoch 2: 100%|██████████| 3751/3751 [06:58<00:00,  8.96batch/s]\n"
     ]
    },
    {
     "name": "stdout",
     "output_type": "stream",
     "text": [
      "Train NMSE: 0.06399124\n",
      "Val NMSE: 0.06602937\n"
     ]
    },
    {
     "name": "stderr",
     "output_type": "stream",
     "text": [
      "Epoch 3: 100%|██████████| 3751/3751 [06:57<00:00,  8.97batch/s]2024-07-10 17:39:36.933957: W tensorflow/core/framework/local_rendezvous.cc:404] Local rendezvous is aborting with status: OUT_OF_RANGE: End of sequence\n",
      "Epoch 3: 100%|██████████| 3751/3751 [06:57<00:00,  8.99batch/s]\n"
     ]
    },
    {
     "name": "stdout",
     "output_type": "stream",
     "text": [
      "Train NMSE: 0.06389094\n",
      "Val NMSE: 0.065927625\n"
     ]
    },
    {
     "name": "stderr",
     "output_type": "stream",
     "text": [
      "Epoch 4: 100%|██████████| 3751/3751 [06:57<00:00,  8.78batch/s]2024-07-10 17:46:34.041669: W tensorflow/core/framework/local_rendezvous.cc:404] Local rendezvous is aborting with status: OUT_OF_RANGE: End of sequence\n",
      "Epoch 4: 100%|██████████| 3751/3751 [06:57<00:00,  8.99batch/s]\n"
     ]
    },
    {
     "name": "stdout",
     "output_type": "stream",
     "text": [
      "Train NMSE: 0.06382322\n",
      "Val NMSE: 0.065858126\n"
     ]
    },
    {
     "name": "stderr",
     "output_type": "stream",
     "text": [
      "Epoch 5: 100%|██████████| 3751/3751 [06:57<00:00,  9.09batch/s]2024-07-10 17:53:31.424050: W tensorflow/core/framework/local_rendezvous.cc:404] Local rendezvous is aborting with status: OUT_OF_RANGE: End of sequence\n",
      "Epoch 5: 100%|██████████| 3751/3751 [06:57<00:00,  8.99batch/s]\n"
     ]
    },
    {
     "name": "stdout",
     "output_type": "stream",
     "text": [
      "Train NMSE: 0.063772455\n",
      "Val NMSE: 0.06580708\n"
     ]
    },
    {
     "name": "stderr",
     "output_type": "stream",
     "text": [
      "Epoch 1: 100%|██████████| 937/937 [06:43<00:00,  2.17batch/s]2024-07-10 18:00:15.404939: W tensorflow/core/framework/local_rendezvous.cc:404] Local rendezvous is aborting with status: OUT_OF_RANGE: End of sequence\n",
      "Epoch 1: 100%|██████████| 937/937 [06:43<00:00,  2.32batch/s]\n"
     ]
    },
    {
     "name": "stdout",
     "output_type": "stream",
     "text": [
      "Train NMSE: 0.064119406\n",
      "Val NMSE: 0.06615217\n"
     ]
    },
    {
     "name": "stderr",
     "output_type": "stream",
     "text": [
      "Epoch 2: 100%|██████████| 937/937 [06:43<00:00,  2.37batch/s]2024-07-10 18:06:59.077720: W tensorflow/core/framework/local_rendezvous.cc:404] Local rendezvous is aborting with status: OUT_OF_RANGE: End of sequence\n",
      "Epoch 2: 100%|██████████| 937/937 [06:43<00:00,  2.32batch/s]\n"
     ]
    },
    {
     "name": "stdout",
     "output_type": "stream",
     "text": [
      "Train NMSE: 0.0638253\n",
      "Val NMSE: 0.065849364\n"
     ]
    },
    {
     "name": "stderr",
     "output_type": "stream",
     "text": [
      "Epoch 3: 100%|██████████| 937/937 [06:44<00:00,  2.42batch/s]2024-07-10 18:13:43.989921: W tensorflow/core/framework/local_rendezvous.cc:404] Local rendezvous is aborting with status: OUT_OF_RANGE: End of sequence\n",
      "Epoch 3: 100%|██████████| 937/937 [06:44<00:00,  2.31batch/s]\n"
     ]
    },
    {
     "name": "stdout",
     "output_type": "stream",
     "text": [
      "Train NMSE: 0.063668266\n",
      "Val NMSE: 0.06568723\n"
     ]
    },
    {
     "name": "stderr",
     "output_type": "stream",
     "text": [
      "Epoch 4: 100%|██████████| 937/937 [06:42<00:00,  2.34batch/s]2024-07-10 18:20:26.865652: W tensorflow/core/framework/local_rendezvous.cc:404] Local rendezvous is aborting with status: OUT_OF_RANGE: End of sequence\n",
      "Epoch 4: 100%|██████████| 937/937 [06:42<00:00,  2.33batch/s]\n"
     ]
    },
    {
     "name": "stdout",
     "output_type": "stream",
     "text": [
      "Train NMSE: 0.063562684\n",
      "Val NMSE: 0.065578364\n"
     ]
    },
    {
     "name": "stderr",
     "output_type": "stream",
     "text": [
      "Epoch 5: 100%|██████████| 937/937 [06:44<00:00,  2.36batch/s]2024-07-10 18:27:11.018824: W tensorflow/core/framework/local_rendezvous.cc:404] Local rendezvous is aborting with status: OUT_OF_RANGE: End of sequence\n",
      "Epoch 5: 100%|██████████| 937/937 [06:44<00:00,  2.32batch/s]"
     ]
    },
    {
     "name": "stdout",
     "output_type": "stream",
     "text": [
      "Train NMSE: 0.06348362\n",
      "Val NMSE: 0.06549626\n"
     ]
    },
    {
     "name": "stderr",
     "output_type": "stream",
     "text": [
      "\n"
     ]
    }
   ],
   "source": [
    "# Initialize variables\n",
    "batch_sizes = [8, 32, 128, 512]\n",
    "nmse_train_results = np.zeros((len(batch_sizes), 5))\n",
    "nmse_val_results = np.zeros((len(batch_sizes), 5))\n",
    "train_timer = np.zeros((len(batch_sizes)))\n",
    "\n",
    "for i, batch_size in enumerate(batch_sizes):\n",
    "\n",
    "    # Create the model\n",
    "    model = DictionaryFilter(NUM_MOVIES, NUM_FACTORS, INIT_SCALE, TRAIN_LAMBDA)\n",
    "    nmse_train = NMSE()\n",
    "    nmse_val = NMSE()\n",
    "\n",
    "    # Create the dataset\n",
    "    dataset = create_train_dataset(batch_size)\n",
    "        \n",
    "    start_time = time.time()  # Start the timer\n",
    "\n",
    "    # Train the model\n",
    "    for epoch in range(5):\n",
    "        progress_bar = tqdm(total=NUM_USERS // batch_size, desc=f\"Epoch {epoch+1}\", unit=\"batch\")\n",
    "        \n",
    "        for train_batch, val_batch in dataset:\n",
    "            x = model(train_batch)\n",
    "            nmse_train.update_state(train_batch, tf.matmul(model.C, x), tf.cast(tf.not_equal(train_batch, 0.0), tf.float32))\n",
    "            nmse_val.update_state(val_batch, tf.matmul(model.C, x), tf.cast(tf.not_equal(val_batch, 0.0), tf.float32))\n",
    "            progress_bar.update(1)\n",
    "        \n",
    "        progress_bar.close()\n",
    "\n",
    "        print(\"Train NMSE:\", nmse_train.result().numpy())\n",
    "        print(\"Val NMSE:\", nmse_val.result().numpy())\n",
    "        nmse_train_results[i, epoch] = nmse_train.result().numpy()\n",
    "        nmse_val_results[i, epoch] = nmse_val.result().numpy()\n",
    "\n",
    "    elapsed_time = time.time() - start_time  # Calculate the elapsed time\n",
    "    train_timer[i] = elapsed_time  # Store the elapsed time"
   ]
  },
  {
   "cell_type": "code",
   "execution_count": 10,
   "metadata": {},
   "outputs": [
    {
     "data": {
      "image/png": "[encoded data removed]",
      "text/plain": [
       "<Figure size 640x480 with 1 Axes>"
      ]
     },
     "metadata": {},
     "output_type": "display_data"
    }
   ],
   "source": [
    "# Plot time taken to train the model vs batch size\n",
    "plt.plot(batch_sizes, train_timer, marker='o')\n",
    "plt.xlabel('Batch Size')\n",
    "plt.ylabel('Time (s)')\n",
    "plt.title('Time taken to train the model vs Batch Size')\n",
    "plt.grid()\n",
    "plt.show()"
   ]
  },
  {
   "cell_type": "code",
   "execution_count": 11,
   "metadata": {},
   "outputs": [
    {
     "data": {
      "image/png": "[encoded data removed]",
      "text/plain": [
       "<Figure size 640x480 with 1 Axes>"
      ]
     },
     "metadata": {},
     "output_type": "display_data"
    }
   ],
   "source": [
    "# Plot NMSE of the last epoch vs batch size\n",
    "plt.plot(batch_sizes, nmse_train_results[:, -1], marker='o', label='Train')\n",
    "plt.plot(batch_sizes, nmse_val_results[:, -1], marker='o', label='Validation')\n",
    "plt.xlabel('Batch Size')\n",
    "plt.ylabel('NMSE')\n",
    "plt.title('NMSE vs Batch Size')\n",
    "plt.legend()\n",
    "plt.grid()\n",
    "plt.show()"
   ]
  },
  {
   "cell_type": "markdown",
   "metadata": {},
   "source": [
    "### 2. Number of factors vs NMSE"
   ]
  },
  {
   "cell_type": "code",
   "execution_count": 9,
   "metadata": {},
   "outputs": [
    {
     "name": "stderr",
     "output_type": "stream",
     "text": [
      "Epoch 1:   0%|          | 0/3751 [00:00<?, ?batch/s]2024-07-10 18:48:22.126583: I tensorflow/core/util/cuda_solvers.cc:178] Creating GpuSolver handles for stream 0x563425559070\n",
      "Epoch 1: 100%|██████████| 3751/3751 [06:46<00:00,  8.95batch/s]2024-07-10 18:55:05.035251: W tensorflow/core/framework/local_rendezvous.cc:404] Local rendezvous is aborting with status: OUT_OF_RANGE: End of sequence\n",
      "Epoch 1: 100%|██████████| 3751/3751 [06:46<00:00,  9.24batch/s]\n"
     ]
    },
    {
     "name": "stdout",
     "output_type": "stream",
     "text": [
      "Train NMSE: 0.06491671\n",
      "Val NMSE: 0.06589751\n"
     ]
    },
    {
     "name": "stderr",
     "output_type": "stream",
     "text": [
      "Epoch 2: 100%|██████████| 3751/3751 [06:46<00:00,  9.39batch/s]2024-07-10 19:01:51.239022: W tensorflow/core/framework/local_rendezvous.cc:404] Local rendezvous is aborting with status: OUT_OF_RANGE: End of sequence\n",
      "Epoch 2: 100%|██████████| 3751/3751 [06:46<00:00,  9.23batch/s]\n"
     ]
    },
    {
     "name": "stdout",
     "output_type": "stream",
     "text": [
      "Train NMSE: 0.06472089\n",
      "Val NMSE: 0.065699555\n"
     ]
    },
    {
     "name": "stderr",
     "output_type": "stream",
     "text": [
      "Epoch 3: 100%|██████████| 3751/3751 [06:42<00:00,  9.14batch/s]2024-07-10 19:08:34.093195: W tensorflow/core/framework/local_rendezvous.cc:404] Local rendezvous is aborting with status: OUT_OF_RANGE: End of sequence\n",
      "Epoch 3: 100%|██████████| 3751/3751 [06:42<00:00,  9.31batch/s]\n"
     ]
    },
    {
     "name": "stdout",
     "output_type": "stream",
     "text": [
      "Train NMSE: 0.06461506\n",
      "Val NMSE: 0.065592706\n"
     ]
    },
    {
     "name": "stderr",
     "output_type": "stream",
     "text": [
      "Epoch 4: 100%|██████████| 3751/3751 [06:41<00:00,  9.13batch/s]2024-07-10 19:15:15.630307: W tensorflow/core/framework/local_rendezvous.cc:404] Local rendezvous is aborting with status: OUT_OF_RANGE: End of sequence\n",
      "Epoch 4: 100%|██████████| 3751/3751 [06:41<00:00,  9.34batch/s]\n"
     ]
    },
    {
     "name": "stdout",
     "output_type": "stream",
     "text": [
      "Train NMSE: 0.06454362\n",
      "Val NMSE: 0.06552058\n"
     ]
    },
    {
     "name": "stderr",
     "output_type": "stream",
     "text": [
      "Epoch 5: 100%|█████████▉| 3750/3751 [06:42<00:00,  9.66batch/s]2024-07-10 19:21:57.928681: W tensorflow/core/framework/local_rendezvous.cc:404] Local rendezvous is aborting with status: OUT_OF_RANGE: End of sequence\n",
      "Epoch 5: 100%|██████████| 3751/3751 [06:42<00:00,  9.32batch/s]\n"
     ]
    },
    {
     "name": "stdout",
     "output_type": "stream",
     "text": [
      "Train NMSE: 0.064489946\n",
      "Val NMSE: 0.065466404\n"
     ]
    },
    {
     "name": "stderr",
     "output_type": "stream",
     "text": [
      "Epoch 1: 100%|██████████| 3751/3751 [06:53<00:00,  9.18batch/s]2024-07-10 19:28:51.867501: W tensorflow/core/framework/local_rendezvous.cc:404] Local rendezvous is aborting with status: OUT_OF_RANGE: End of sequence\n",
      "Epoch 1: 100%|██████████| 3751/3751 [06:53<00:00,  9.06batch/s]\n"
     ]
    },
    {
     "name": "stdout",
     "output_type": "stream",
     "text": [
      "Train NMSE: 0.06394732\n",
      "Val NMSE: 0.06597164\n"
     ]
    },
    {
     "name": "stderr",
     "output_type": "stream",
     "text": [
      "Epoch 2: 100%|██████████| 3751/3751 [06:53<00:00,  9.63batch/s]2024-07-10 19:35:44.958614: W tensorflow/core/framework/local_rendezvous.cc:404] Local rendezvous is aborting with status: OUT_OF_RANGE: End of sequence\n",
      "Epoch 2: 100%|██████████| 3751/3751 [06:53<00:00,  9.08batch/s]\n"
     ]
    },
    {
     "name": "stdout",
     "output_type": "stream",
     "text": [
      "Train NMSE: 0.06373166\n",
      "Val NMSE: 0.06574561\n"
     ]
    },
    {
     "name": "stderr",
     "output_type": "stream",
     "text": [
      "Epoch 3: 100%|██████████| 3751/3751 [06:54<00:00,  9.56batch/s]2024-07-10 19:42:39.492964: W tensorflow/core/framework/local_rendezvous.cc:404] Local rendezvous is aborting with status: OUT_OF_RANGE: End of sequence\n",
      "Epoch 3: 100%|██████████| 3751/3751 [06:54<00:00,  9.05batch/s]\n"
     ]
    },
    {
     "name": "stdout",
     "output_type": "stream",
     "text": [
      "Train NMSE: 0.06361384\n",
      "Val NMSE: 0.06562425\n"
     ]
    },
    {
     "name": "stderr",
     "output_type": "stream",
     "text": [
      "Epoch 4: 100%|██████████| 3751/3751 [06:55<00:00,  8.44batch/s]2024-07-10 19:49:34.711136: W tensorflow/core/framework/local_rendezvous.cc:404] Local rendezvous is aborting with status: OUT_OF_RANGE: End of sequence\n",
      "Epoch 4: 100%|██████████| 3751/3751 [06:55<00:00,  9.03batch/s]\n"
     ]
    },
    {
     "name": "stdout",
     "output_type": "stream",
     "text": [
      "Train NMSE: 0.06353379\n",
      "Val NMSE: 0.06554346\n"
     ]
    },
    {
     "name": "stderr",
     "output_type": "stream",
     "text": [
      "Epoch 5: 100%|██████████| 3751/3751 [06:55<00:00,  9.51batch/s]2024-07-10 19:56:29.760175: W tensorflow/core/framework/local_rendezvous.cc:404] Local rendezvous is aborting with status: OUT_OF_RANGE: End of sequence\n",
      "Epoch 5: 100%|██████████| 3751/3751 [06:55<00:00,  9.04batch/s]\n"
     ]
    },
    {
     "name": "stdout",
     "output_type": "stream",
     "text": [
      "Train NMSE: 0.06347329\n",
      "Val NMSE: 0.065481886\n"
     ]
    },
    {
     "name": "stderr",
     "output_type": "stream",
     "text": [
      "Epoch 1: 100%|██████████| 3751/3751 [09:45<00:00,  7.02batch/s]2024-07-10 20:06:15.304371: W tensorflow/core/framework/local_rendezvous.cc:404] Local rendezvous is aborting with status: OUT_OF_RANGE: End of sequence\n",
      "Epoch 1: 100%|██████████| 3751/3751 [09:45<00:00,  6.41batch/s]\n"
     ]
    },
    {
     "name": "stdout",
     "output_type": "stream",
     "text": [
      "Train NMSE: 0.06239084\n",
      "Val NMSE: 0.06649409\n"
     ]
    },
    {
     "name": "stderr",
     "output_type": "stream",
     "text": [
      "Epoch 2: 100%|██████████| 3751/3751 [09:52<00:00,  6.69batch/s]2024-07-10 20:16:07.913034: W tensorflow/core/framework/local_rendezvous.cc:404] Local rendezvous is aborting with status: OUT_OF_RANGE: End of sequence\n",
      "Epoch 2: 100%|██████████| 3751/3751 [09:52<00:00,  6.33batch/s]\n"
     ]
    },
    {
     "name": "stdout",
     "output_type": "stream",
     "text": [
      "Train NMSE: 0.062138017\n",
      "Val NMSE: 0.06623272\n"
     ]
    },
    {
     "name": "stderr",
     "output_type": "stream",
     "text": [
      "Epoch 3: 100%|██████████| 3751/3751 [09:47<00:00,  6.06batch/s]2024-07-10 20:25:55.803133: W tensorflow/core/framework/local_rendezvous.cc:404] Local rendezvous is aborting with status: OUT_OF_RANGE: End of sequence\n",
      "Epoch 3: 100%|██████████| 3751/3751 [09:47<00:00,  6.38batch/s]\n"
     ]
    },
    {
     "name": "stdout",
     "output_type": "stream",
     "text": [
      "Train NMSE: 0.062000893\n",
      "Val NMSE: 0.06609196\n"
     ]
    },
    {
     "name": "stderr",
     "output_type": "stream",
     "text": [
      "Epoch 4: 100%|██████████| 3751/3751 [09:53<00:00,  6.79batch/s]2024-07-10 20:35:48.984589: W tensorflow/core/framework/local_rendezvous.cc:404] Local rendezvous is aborting with status: OUT_OF_RANGE: End of sequence\n",
      "Epoch 4: 100%|██████████| 3751/3751 [09:53<00:00,  6.32batch/s]\n"
     ]
    },
    {
     "name": "stdout",
     "output_type": "stream",
     "text": [
      "Train NMSE: 0.061906945\n",
      "Val NMSE: 0.06599514\n"
     ]
    },
    {
     "name": "stderr",
     "output_type": "stream",
     "text": [
      "Epoch 5: 100%|██████████| 3751/3751 [10:03<00:00,  6.22batch/s]2024-07-10 20:45:52.145250: W tensorflow/core/framework/local_rendezvous.cc:404] Local rendezvous is aborting with status: OUT_OF_RANGE: End of sequence\n",
      "Epoch 5: 100%|██████████| 3751/3751 [10:03<00:00,  6.22batch/s]\n"
     ]
    },
    {
     "name": "stdout",
     "output_type": "stream",
     "text": [
      "Train NMSE: 0.061836388\n",
      "Val NMSE: 0.06592133\n"
     ]
    },
    {
     "name": "stderr",
     "output_type": "stream",
     "text": [
      "Epoch 1: 100%|██████████| 3751/3751 [14:14<00:00,  4.10batch/s]2024-07-10 21:00:06.618701: W tensorflow/core/framework/local_rendezvous.cc:404] Local rendezvous is aborting with status: OUT_OF_RANGE: End of sequence\n",
      "Epoch 1: 100%|██████████| 3751/3751 [14:14<00:00,  4.39batch/s]\n"
     ]
    },
    {
     "name": "stdout",
     "output_type": "stream",
     "text": [
      "Train NMSE: 0.060045518\n",
      "Val NMSE: 0.06741056\n"
     ]
    },
    {
     "name": "stderr",
     "output_type": "stream",
     "text": [
      "Epoch 2: 100%|██████████| 3751/3751 [14:04<00:00,  4.24batch/s]2024-07-10 21:14:11.467459: W tensorflow/core/framework/local_rendezvous.cc:404] Local rendezvous is aborting with status: OUT_OF_RANGE: End of sequence\n",
      "Epoch 2: 100%|██████████| 3751/3751 [14:04<00:00,  4.44batch/s]\n"
     ]
    },
    {
     "name": "stdout",
     "output_type": "stream",
     "text": [
      "Train NMSE: 0.059828974\n",
      "Val NMSE: 0.067154825\n"
     ]
    },
    {
     "name": "stderr",
     "output_type": "stream",
     "text": [
      "Epoch 3: 100%|██████████| 3751/3751 [14:15<00:00,  4.31batch/s]2024-07-10 21:28:26.867651: W tensorflow/core/framework/local_rendezvous.cc:404] Local rendezvous is aborting with status: OUT_OF_RANGE: End of sequence\n",
      "Epoch 3: 100%|██████████| 3751/3751 [14:15<00:00,  4.39batch/s]\n"
     ]
    },
    {
     "name": "stdout",
     "output_type": "stream",
     "text": [
      "Train NMSE: 0.059714247\n",
      "Val NMSE: 0.067011945\n"
     ]
    },
    {
     "name": "stderr",
     "output_type": "stream",
     "text": [
      "Epoch 4: 100%|██████████| 3751/3751 [14:09<00:00,  4.34batch/s]2024-07-10 21:42:36.020228: W tensorflow/core/framework/local_rendezvous.cc:404] Local rendezvous is aborting with status: OUT_OF_RANGE: End of sequence\n",
      "Epoch 4: 100%|██████████| 3751/3751 [14:09<00:00,  4.42batch/s]\n"
     ]
    },
    {
     "name": "stdout",
     "output_type": "stream",
     "text": [
      "Train NMSE: 0.05963584\n",
      "Val NMSE: 0.0669162\n"
     ]
    },
    {
     "name": "stderr",
     "output_type": "stream",
     "text": [
      "Epoch 5: 100%|██████████| 3751/3751 [14:04<00:00,  4.48batch/s]2024-07-10 21:56:40.537597: W tensorflow/core/framework/local_rendezvous.cc:404] Local rendezvous is aborting with status: OUT_OF_RANGE: End of sequence\n",
      "Epoch 5: 100%|██████████| 3751/3751 [14:04<00:00,  4.44batch/s]\n"
     ]
    },
    {
     "name": "stdout",
     "output_type": "stream",
     "text": [
      "Train NMSE: 0.05957682\n",
      "Val NMSE: 0.066842616\n"
     ]
    },
    {
     "name": "stderr",
     "output_type": "stream",
     "text": [
      "Epoch 1: 100%|██████████| 3751/3751 [21:25<00:00,  3.12batch/s]2024-07-10 22:18:06.267839: W tensorflow/core/framework/local_rendezvous.cc:404] Local rendezvous is aborting with status: OUT_OF_RANGE: End of sequence\n",
      "Epoch 1: 100%|██████████| 3751/3751 [21:25<00:00,  2.92batch/s]\n"
     ]
    },
    {
     "name": "stdout",
     "output_type": "stream",
     "text": [
      "Train NMSE: 0.058750905\n",
      "Val NMSE: 0.062891945\n"
     ]
    },
    {
     "name": "stderr",
     "output_type": "stream",
     "text": [
      "Epoch 2: 100%|██████████| 3751/3751 [21:17<00:00,  2.88batch/s]2024-07-10 22:39:24.114738: W tensorflow/core/framework/local_rendezvous.cc:404] Local rendezvous is aborting with status: OUT_OF_RANGE: End of sequence\n",
      "Epoch 2: 100%|██████████| 3751/3751 [21:17<00:00,  2.94batch/s]\n"
     ]
    },
    {
     "name": "stdout",
     "output_type": "stream",
     "text": [
      "Train NMSE: 0.058518704\n",
      "Val NMSE: 0.062576845\n"
     ]
    },
    {
     "name": "stderr",
     "output_type": "stream",
     "text": [
      "Epoch 3: 100%|██████████| 3751/3751 [21:10<00:00,  2.94batch/s]2024-07-10 23:00:34.837930: W tensorflow/core/framework/local_rendezvous.cc:404] Local rendezvous is aborting with status: OUT_OF_RANGE: End of sequence\n",
      "Epoch 3: 100%|██████████| 3751/3751 [21:10<00:00,  2.95batch/s]\n"
     ]
    },
    {
     "name": "stdout",
     "output_type": "stream",
     "text": [
      "Train NMSE: 0.05839846\n",
      "Val NMSE: 0.06241463\n"
     ]
    },
    {
     "name": "stderr",
     "output_type": "stream",
     "text": [
      "Epoch 4: 100%|██████████| 3751/3751 [21:19<00:00,  2.91batch/s]2024-07-10 23:21:54.302987: W tensorflow/core/framework/local_rendezvous.cc:404] Local rendezvous is aborting with status: OUT_OF_RANGE: End of sequence\n",
      "Epoch 4: 100%|██████████| 3751/3751 [21:19<00:00,  2.93batch/s]\n"
     ]
    },
    {
     "name": "stdout",
     "output_type": "stream",
     "text": [
      "Train NMSE: 0.058317937\n",
      "Val NMSE: 0.062307198\n"
     ]
    },
    {
     "name": "stderr",
     "output_type": "stream",
     "text": [
      "Epoch 5: 100%|██████████| 3751/3751 [22:26<00:00,  2.79batch/s]2024-07-10 23:44:21.194261: W tensorflow/core/framework/local_rendezvous.cc:404] Local rendezvous is aborting with status: OUT_OF_RANGE: End of sequence\n",
      "Epoch 5: 100%|██████████| 3751/3751 [22:26<00:00,  2.78batch/s]\n"
     ]
    },
    {
     "name": "stdout",
     "output_type": "stream",
     "text": [
      "Train NMSE: 0.058257908\n",
      "Val NMSE: 0.06222919\n"
     ]
    },
    {
     "name": "stderr",
     "output_type": "stream",
     "text": [
      "Epoch 1: 100%|██████████| 3751/3751 [37:39<00:00,  1.65batch/s]2024-07-11 00:22:00.554201: W tensorflow/core/framework/local_rendezvous.cc:404] Local rendezvous is aborting with status: OUT_OF_RANGE: End of sequence\n",
      "Epoch 1: 100%|██████████| 3751/3751 [37:39<00:00,  1.66batch/s]\n"
     ]
    },
    {
     "name": "stdout",
     "output_type": "stream",
     "text": [
      "Train NMSE: 0.065363914\n",
      "Val NMSE: 0.06664718\n"
     ]
    },
    {
     "name": "stderr",
     "output_type": "stream",
     "text": [
      "Epoch 2: 100%|██████████| 3751/3751 [37:05<00:00,  1.68batch/s]2024-07-11 00:59:05.921905: W tensorflow/core/framework/local_rendezvous.cc:404] Local rendezvous is aborting with status: OUT_OF_RANGE: End of sequence\n",
      "Epoch 2: 100%|██████████| 3751/3751 [37:05<00:00,  1.69batch/s]\n"
     ]
    },
    {
     "name": "stdout",
     "output_type": "stream",
     "text": [
      "Train NMSE: 0.06505397\n",
      "Val NMSE: 0.06634139\n"
     ]
    },
    {
     "name": "stderr",
     "output_type": "stream",
     "text": [
      "Epoch 3: 100%|██████████| 3751/3751 [36:56<00:00,  1.70batch/s]2024-07-11 01:36:02.438871: W tensorflow/core/framework/local_rendezvous.cc:404] Local rendezvous is aborting with status: OUT_OF_RANGE: End of sequence\n",
      "Epoch 3: 100%|██████████| 3751/3751 [36:56<00:00,  1.69batch/s]\n"
     ]
    },
    {
     "name": "stdout",
     "output_type": "stream",
     "text": [
      "Train NMSE: 0.06489203\n",
      "Val NMSE: 0.066180855\n"
     ]
    },
    {
     "name": "stderr",
     "output_type": "stream",
     "text": [
      "Epoch 4: 100%|██████████| 3751/3751 [37:01<00:00,  1.68batch/s]2024-07-11 02:13:03.800860: W tensorflow/core/framework/local_rendezvous.cc:404] Local rendezvous is aborting with status: OUT_OF_RANGE: End of sequence\n",
      "Epoch 4: 100%|██████████| 3751/3751 [37:01<00:00,  1.69batch/s]\n"
     ]
    },
    {
     "name": "stdout",
     "output_type": "stream",
     "text": [
      "Train NMSE: 0.064784676\n",
      "Val NMSE: 0.06607418\n"
     ]
    },
    {
     "name": "stderr",
     "output_type": "stream",
     "text": [
      "Epoch 5: 100%|██████████| 3751/3751 [36:50<00:00,  1.67batch/s]2024-07-11 02:49:53.992304: W tensorflow/core/framework/local_rendezvous.cc:404] Local rendezvous is aborting with status: OUT_OF_RANGE: End of sequence\n",
      "Epoch 5: 100%|██████████| 3751/3751 [36:50<00:00,  1.70batch/s]"
     ]
    },
    {
     "name": "stdout",
     "output_type": "stream",
     "text": [
      "Train NMSE: 0.06470522\n",
      "Val NMSE: 0.06599545\n"
     ]
    },
    {
     "name": "stderr",
     "output_type": "stream",
     "text": [
      "\n"
     ]
    }
   ],
   "source": [
    "# Initialize variables\n",
    "num_factors = [1, 2, 4, 8, 16, 32]\n",
    "nmse_train_results = np.zeros((len(num_factors), 5))\n",
    "nmse_val_results = np.zeros((len(num_factors), 5))\n",
    "train_timer = np.zeros((len(num_factors)))\n",
    "\n",
    "for i, num_factor in enumerate(num_factors):\n",
    "\n",
    "    # Create the model\n",
    "    model = DictionaryFilter(NUM_MOVIES, num_factor, INIT_SCALE, TRAIN_LAMBDA)\n",
    "    nmse_train = NMSE()\n",
    "    nmse_val = NMSE()\n",
    "\n",
    "    # Create the dataset\n",
    "    dataset = create_train_dataset()\n",
    "        \n",
    "    start_time = time.time()  # Start the timer\n",
    "\n",
    "    # Train the model\n",
    "    for epoch in range(5):\n",
    "        progress_bar = tqdm(total=NUM_USERS // BATCH_SIZE, desc=f\"Epoch {epoch+1}\", unit=\"batch\")\n",
    "        \n",
    "        for train_batch, val_batch in dataset:\n",
    "            x = model(train_batch)\n",
    "            nmse_train.update_state(train_batch, tf.matmul(model.C, x), tf.cast(tf.not_equal(train_batch, 0.0), tf.float32))\n",
    "            nmse_val.update_state(val_batch, tf.matmul(model.C, x), tf.cast(tf.not_equal(val_batch, 0.0), tf.float32))\n",
    "            progress_bar.update(1)\n",
    "        \n",
    "        progress_bar.close()\n",
    "\n",
    "        print(\"Train NMSE:\", nmse_train.result().numpy())\n",
    "        print(\"Val NMSE:\", nmse_val.result().numpy())\n",
    "        nmse_train_results[i, epoch] = nmse_train.result().numpy()\n",
    "        nmse_val_results[i, epoch] = nmse_val.result().numpy()\n",
    "\n",
    "    elapsed_time = time.time() - start_time  # Calculate the elapsed time\n",
    "    train_timer[i] = elapsed_time  # Store the elapsed time"
   ]
  },
  {
   "cell_type": "code",
   "execution_count": 10,
   "metadata": {},
   "outputs": [
    {
     "data": {
      "image/png": "[encoded data removed]",
      "text/plain": [
       "<Figure size 640x480 with 1 Axes>"
      ]
     },
     "metadata": {},
     "output_type": "display_data"
    }
   ],
   "source": [
    "# Plot time taken to train the model vs number of factors\n",
    "plt.plot(num_factors, train_timer, marker='o')\n",
    "plt.xlabel('Number of Factors')\n",
    "plt.ylabel('Time (s)')\n",
    "plt.title('Time taken to train the model vs Number of Factors')\n",
    "plt.grid()\n",
    "plt.show()"
   ]
  },
  {
   "cell_type": "code",
   "execution_count": 11,
   "metadata": {},
   "outputs": [
    {
     "data": {
      "image/png": "[encoded data removed]",
      "text/plain": [
       "<Figure size 640x480 with 1 Axes>"
      ]
     },
     "metadata": {},
     "output_type": "display_data"
    }
   ],
   "source": [
    "# Plot NMSE of the last epoch vs number of factors\n",
    "plt.plot(num_factors, nmse_train_results[:, -1], marker='o', label='Train')\n",
    "plt.plot(num_factors, nmse_val_results[:, -1], marker='o', label='Validation')\n",
    "plt.xlabel('Number of Factors')\n",
    "plt.ylabel('NMSE')\n",
    "plt.title('NMSE vs Number of Factors')\n",
    "plt.legend()\n",
    "plt.grid()\n",
    "plt.show()"
   ]
  },
  {
   "cell_type": "markdown",
   "metadata": {},
   "source": [
    "### 3. Number of epochs vs NMSE"
   ]
  },
  {
   "cell_type": "code",
   "execution_count": 9,
   "metadata": {},
   "outputs": [
    {
     "name": "stderr",
     "output_type": "stream",
     "text": [
      "Epoch 1:   0%|          | 0/3751 [00:00<?, ?batch/s]2024-07-11 22:27:17.116926: I tensorflow/core/util/cuda_solvers.cc:178] Creating GpuSolver handles for stream 0x557d8072bab0\n",
      "Epoch 1: 100%|██████████| 3751/3751 [21:55<00:00,  2.95batch/s]2024-07-11 22:49:08.371632: W tensorflow/core/framework/local_rendezvous.cc:404] Local rendezvous is aborting with status: OUT_OF_RANGE: End of sequence\n",
      "Epoch 1: 100%|██████████| 3751/3751 [21:55<00:00,  2.85batch/s]\n"
     ]
    },
    {
     "name": "stdout",
     "output_type": "stream",
     "text": [
      "Train NMSE: 0.0564969\n",
      "Val NMSE: 0.060463846\n",
      "Test NMSE: 0.060406983\n"
     ]
    },
    {
     "name": "stderr",
     "output_type": "stream",
     "text": [
      "Epoch 2: 100%|██████████| 3751/3751 [21:50<00:00,  2.93batch/s]2024-07-11 23:10:58.757620: W tensorflow/core/framework/local_rendezvous.cc:404] Local rendezvous is aborting with status: OUT_OF_RANGE: End of sequence\n",
      "Epoch 2: 100%|██████████| 3751/3751 [21:50<00:00,  2.86batch/s]\n"
     ]
    },
    {
     "name": "stdout",
     "output_type": "stream",
     "text": [
      "Train NMSE: 0.056312904\n",
      "Val NMSE: 0.060230587\n",
      "Test NMSE: 0.060172968\n"
     ]
    },
    {
     "name": "stderr",
     "output_type": "stream",
     "text": [
      "Epoch 3: 100%|██████████| 3751/3751 [21:51<00:00,  2.81batch/s]2024-07-11 23:32:50.159602: W tensorflow/core/framework/local_rendezvous.cc:404] Local rendezvous is aborting with status: OUT_OF_RANGE: End of sequence\n",
      "Epoch 3: 100%|██████████| 3751/3751 [21:51<00:00,  2.86batch/s]\n"
     ]
    },
    {
     "name": "stdout",
     "output_type": "stream",
     "text": [
      "Train NMSE: 0.056222983\n",
      "Val NMSE: 0.060118582\n",
      "Test NMSE: 0.060059253\n"
     ]
    },
    {
     "name": "stderr",
     "output_type": "stream",
     "text": [
      "Epoch 4: 100%|██████████| 3751/3751 [21:54<00:00,  2.79batch/s]2024-07-11 23:54:45.046905: W tensorflow/core/framework/local_rendezvous.cc:404] Local rendezvous is aborting with status: OUT_OF_RANGE: End of sequence\n",
      "Epoch 4: 100%|██████████| 3751/3751 [21:54<00:00,  2.85batch/s]\n"
     ]
    },
    {
     "name": "stdout",
     "output_type": "stream",
     "text": [
      "Train NMSE: 0.05616411\n",
      "Val NMSE: 0.060046036\n",
      "Test NMSE: 0.059985973\n"
     ]
    },
    {
     "name": "stderr",
     "output_type": "stream",
     "text": [
      "Epoch 5: 100%|██████████| 3751/3751 [21:49<00:00,  2.65batch/s]2024-07-12 00:16:34.929014: W tensorflow/core/framework/local_rendezvous.cc:404] Local rendezvous is aborting with status: OUT_OF_RANGE: End of sequence\n",
      "Epoch 5: 100%|██████████| 3751/3751 [21:49<00:00,  2.86batch/s]\n"
     ]
    },
    {
     "name": "stdout",
     "output_type": "stream",
     "text": [
      "Train NMSE: 0.05612126\n",
      "Val NMSE: 0.059993953\n",
      "Test NMSE: 0.05993284\n"
     ]
    },
    {
     "name": "stderr",
     "output_type": "stream",
     "text": [
      "Epoch 6: 100%|██████████| 3751/3751 [21:55<00:00,  2.71batch/s]2024-07-12 00:38:30.373399: W tensorflow/core/framework/local_rendezvous.cc:404] Local rendezvous is aborting with status: OUT_OF_RANGE: End of sequence\n",
      "Epoch 6: 100%|██████████| 3751/3751 [21:55<00:00,  2.85batch/s]\n"
     ]
    },
    {
     "name": "stdout",
     "output_type": "stream",
     "text": [
      "Train NMSE: 0.056087904\n",
      "Val NMSE: 0.05995099\n",
      "Test NMSE: 0.05989165\n"
     ]
    },
    {
     "name": "stderr",
     "output_type": "stream",
     "text": [
      "Epoch 7: 100%|██████████| 3751/3751 [21:45<00:00,  2.83batch/s]2024-07-12 01:00:15.549544: W tensorflow/core/framework/local_rendezvous.cc:404] Local rendezvous is aborting with status: OUT_OF_RANGE: End of sequence\n",
      "Epoch 7: 100%|██████████| 3751/3751 [21:45<00:00,  2.87batch/s]\n"
     ]
    },
    {
     "name": "stdout",
     "output_type": "stream",
     "text": [
      "Train NMSE: 0.05606035\n",
      "Val NMSE: 0.059917476\n",
      "Test NMSE: 0.059857976\n"
     ]
    },
    {
     "name": "stderr",
     "output_type": "stream",
     "text": [
      "Epoch 8: 100%|██████████| 3751/3751 [21:52<00:00,  2.85batch/s]2024-07-12 01:22:07.647180: W tensorflow/core/framework/local_rendezvous.cc:404] Local rendezvous is aborting with status: OUT_OF_RANGE: End of sequence\n",
      "Epoch 8: 100%|██████████| 3751/3751 [21:52<00:00,  2.86batch/s]\n"
     ]
    },
    {
     "name": "stdout",
     "output_type": "stream",
     "text": [
      "Train NMSE: 0.056037\n",
      "Val NMSE: 0.059889168\n",
      "Test NMSE: 0.059828866\n"
     ]
    },
    {
     "name": "stderr",
     "output_type": "stream",
     "text": [
      "Epoch 9: 100%|██████████| 3751/3751 [21:45<00:00,  2.78batch/s]2024-07-12 01:43:52.998703: W tensorflow/core/framework/local_rendezvous.cc:404] Local rendezvous is aborting with status: OUT_OF_RANGE: End of sequence\n",
      "Epoch 9: 100%|██████████| 3751/3751 [21:45<00:00,  2.87batch/s]\n"
     ]
    },
    {
     "name": "stdout",
     "output_type": "stream",
     "text": [
      "Train NMSE: 0.056016877\n",
      "Val NMSE: 0.059864458\n",
      "Test NMSE: 0.059804235\n"
     ]
    },
    {
     "name": "stderr",
     "output_type": "stream",
     "text": [
      "Epoch 10: 100%|██████████| 3751/3751 [21:45<00:00,  2.77batch/s]2024-07-12 02:05:38.337634: W tensorflow/core/framework/local_rendezvous.cc:404] Local rendezvous is aborting with status: OUT_OF_RANGE: End of sequence\n",
      "Epoch 10: 100%|██████████| 3751/3751 [21:45<00:00,  2.87batch/s]\n"
     ]
    },
    {
     "name": "stdout",
     "output_type": "stream",
     "text": [
      "Train NMSE: 0.055999372\n",
      "Val NMSE: 0.059842683\n",
      "Test NMSE: 0.059782695\n"
     ]
    },
    {
     "name": "stderr",
     "output_type": "stream",
     "text": [
      "Epoch 11: 100%|██████████| 3751/3751 [21:51<00:00,  2.82batch/s]2024-07-12 02:27:29.636767: W tensorflow/core/framework/local_rendezvous.cc:404] Local rendezvous is aborting with status: OUT_OF_RANGE: End of sequence\n",
      "Epoch 11: 100%|██████████| 3751/3751 [21:51<00:00,  2.86batch/s]\n"
     ]
    },
    {
     "name": "stdout",
     "output_type": "stream",
     "text": [
      "Train NMSE: 0.055983715\n",
      "Val NMSE: 0.059823204\n",
      "Test NMSE: 0.059763696\n"
     ]
    },
    {
     "name": "stderr",
     "output_type": "stream",
     "text": [
      "Epoch 12: 100%|██████████| 3751/3751 [21:45<00:00,  2.88batch/s]2024-07-12 02:49:15.483195: W tensorflow/core/framework/local_rendezvous.cc:404] Local rendezvous is aborting with status: OUT_OF_RANGE: End of sequence\n",
      "Epoch 12: 100%|██████████| 3751/3751 [21:45<00:00,  2.87batch/s]\n"
     ]
    },
    {
     "name": "stdout",
     "output_type": "stream",
     "text": [
      "Train NMSE: 0.055969805\n",
      "Val NMSE: 0.059805922\n",
      "Test NMSE: 0.059746776\n"
     ]
    },
    {
     "name": "stderr",
     "output_type": "stream",
     "text": [
      "Epoch 13: 100%|██████████| 3751/3751 [21:52<00:00,  2.71batch/s]2024-07-12 03:11:07.692832: W tensorflow/core/framework/local_rendezvous.cc:404] Local rendezvous is aborting with status: OUT_OF_RANGE: End of sequence\n",
      "Epoch 13: 100%|██████████| 3751/3751 [21:52<00:00,  2.86batch/s]\n"
     ]
    },
    {
     "name": "stdout",
     "output_type": "stream",
     "text": [
      "Train NMSE: 0.055957038\n",
      "Val NMSE: 0.05979018\n",
      "Test NMSE: 0.059730604\n"
     ]
    },
    {
     "name": "stderr",
     "output_type": "stream",
     "text": [
      "Epoch 14: 100%|██████████| 3751/3751 [21:51<00:00,  2.75batch/s]2024-07-12 03:32:59.681114: W tensorflow/core/framework/local_rendezvous.cc:404] Local rendezvous is aborting with status: OUT_OF_RANGE: End of sequence\n",
      "Epoch 14: 100%|██████████| 3751/3751 [21:51<00:00,  2.86batch/s]\n"
     ]
    },
    {
     "name": "stdout",
     "output_type": "stream",
     "text": [
      "Train NMSE: 0.05594526\n",
      "Val NMSE: 0.059775904\n",
      "Test NMSE: 0.05971628\n"
     ]
    },
    {
     "name": "stderr",
     "output_type": "stream",
     "text": [
      "Epoch 15: 100%|██████████| 3751/3751 [21:45<00:00,  2.73batch/s]2024-07-12 03:54:45.021995: W tensorflow/core/framework/local_rendezvous.cc:404] Local rendezvous is aborting with status: OUT_OF_RANGE: End of sequence\n",
      "Epoch 15: 100%|██████████| 3751/3751 [21:45<00:00,  2.87batch/s]\n"
     ]
    },
    {
     "name": "stdout",
     "output_type": "stream",
     "text": [
      "Train NMSE: 0.05593427\n",
      "Val NMSE: 0.05976275\n",
      "Test NMSE: 0.059703324\n"
     ]
    },
    {
     "name": "stderr",
     "output_type": "stream",
     "text": [
      "Epoch 16: 100%|██████████| 3751/3751 [21:49<00:00,  2.83batch/s]2024-07-12 04:16:34.764200: W tensorflow/core/framework/local_rendezvous.cc:404] Local rendezvous is aborting with status: OUT_OF_RANGE: End of sequence\n",
      "Epoch 16: 100%|██████████| 3751/3751 [21:49<00:00,  2.86batch/s]\n"
     ]
    },
    {
     "name": "stdout",
     "output_type": "stream",
     "text": [
      "Train NMSE: 0.05592412\n",
      "Val NMSE: 0.059751052\n",
      "Test NMSE: 0.05969121\n"
     ]
    },
    {
     "name": "stderr",
     "output_type": "stream",
     "text": [
      "Epoch 17: 100%|██████████| 3751/3751 [21:47<00:00,  2.64batch/s]2024-07-12 04:38:22.609460: W tensorflow/core/framework/local_rendezvous.cc:404] Local rendezvous is aborting with status: OUT_OF_RANGE: End of sequence\n",
      "Epoch 17: 100%|██████████| 3751/3751 [21:47<00:00,  2.87batch/s]\n"
     ]
    },
    {
     "name": "stdout",
     "output_type": "stream",
     "text": [
      "Train NMSE: 0.055914573\n",
      "Val NMSE: 0.05973984\n",
      "Test NMSE: 0.059679825\n"
     ]
    },
    {
     "name": "stderr",
     "output_type": "stream",
     "text": [
      "Epoch 18: 100%|██████████| 3751/3751 [21:57<00:00,  2.72batch/s]2024-07-12 05:00:20.288007: W tensorflow/core/framework/local_rendezvous.cc:404] Local rendezvous is aborting with status: OUT_OF_RANGE: End of sequence\n",
      "Epoch 18: 100%|██████████| 3751/3751 [21:57<00:00,  2.85batch/s]\n"
     ]
    },
    {
     "name": "stdout",
     "output_type": "stream",
     "text": [
      "Train NMSE: 0.055905804\n",
      "Val NMSE: 0.059729148\n",
      "Test NMSE: 0.059669122\n"
     ]
    },
    {
     "name": "stderr",
     "output_type": "stream",
     "text": [
      "Epoch 19: 100%|██████████| 3751/3751 [21:46<00:00,  2.87batch/s]2024-07-12 05:22:06.928177: W tensorflow/core/framework/local_rendezvous.cc:404] Local rendezvous is aborting with status: OUT_OF_RANGE: End of sequence\n",
      "Epoch 19: 100%|██████████| 3751/3751 [21:46<00:00,  2.87batch/s]\n"
     ]
    },
    {
     "name": "stdout",
     "output_type": "stream",
     "text": [
      "Train NMSE: 0.055897508\n",
      "Val NMSE: 0.05971901\n",
      "Test NMSE: 0.0596594\n"
     ]
    },
    {
     "name": "stderr",
     "output_type": "stream",
     "text": [
      "Epoch 20: 100%|██████████| 3751/3751 [21:52<00:00,  2.82batch/s]2024-07-12 05:43:59.071789: W tensorflow/core/framework/local_rendezvous.cc:404] Local rendezvous is aborting with status: OUT_OF_RANGE: End of sequence\n",
      "Epoch 20: 100%|██████████| 3751/3751 [21:52<00:00,  2.86batch/s]"
     ]
    },
    {
     "name": "stdout",
     "output_type": "stream",
     "text": [
      "Train NMSE: 0.055889625\n",
      "Val NMSE: 0.059709687\n",
      "Test NMSE: 0.059650145\n"
     ]
    },
    {
     "name": "stderr",
     "output_type": "stream",
     "text": [
      "\n"
     ]
    }
   ],
   "source": [
    "# Initialize variables\n",
    "nmse_train_results = np.zeros(NUM_EPOCHS)\n",
    "nmse_val_results = np.zeros(NUM_EPOCHS)\n",
    "nmse_test_results = np.zeros(NUM_EPOCHS)\n",
    "\n",
    "# Create the model\n",
    "model = DictionaryFilter(NUM_MOVIES, NUM_FACTORS, INIT_SCALE, TRAIN_LAMBDA)\n",
    "nmse_train = NMSE()\n",
    "nmse_val = NMSE()\n",
    "nmse_test = NMSE()\n",
    "\n",
    "# Create the dataset\n",
    "dataset = create_full_dataset()\n",
    "\n",
    "# Train the model\n",
    "for epoch in range(NUM_EPOCHS):\n",
    "    progress_bar = tqdm(total=NUM_USERS // BATCH_SIZE, desc=f\"Epoch {epoch+1}\", unit=\"batch\")\n",
    "    \n",
    "    for train_batch, val_batch, test_batch in dataset:\n",
    "        x = model(train_batch)\n",
    "        nmse_train.update_state(train_batch, tf.matmul(model.C, x), tf.cast(tf.not_equal(train_batch, 0.0), tf.float32))\n",
    "        nmse_val.update_state(val_batch, tf.matmul(model.C, x), tf.cast(tf.not_equal(val_batch, 0.0), tf.float32))\n",
    "        nmse_test.update_state(test_batch, tf.matmul(model.C, x), tf.cast(tf.not_equal(test_batch, 0.0), tf.float32))\n",
    "        progress_bar.update(1)\n",
    "    \n",
    "    progress_bar.close()\n",
    "\n",
    "    print(\"Train NMSE:\", nmse_train.result().numpy())\n",
    "    print(\"Val NMSE:\", nmse_val.result().numpy())\n",
    "    print(\"Test NMSE:\", nmse_test.result().numpy())\n",
    "    nmse_train_results[epoch] = nmse_train.result().numpy()\n",
    "    nmse_val_results[epoch] = nmse_val.result().numpy()\n",
    "    nmse_test_results[epoch] = nmse_test.result().numpy()"
   ]
  },
  {
   "cell_type": "code",
   "execution_count": 10,
   "metadata": {},
   "outputs": [
    {
     "data": {
      "image/png": "[encoded data removed]",
      "text/plain": [
       "<Figure size 640x480 with 1 Axes>"
      ]
     },
     "metadata": {},
     "output_type": "display_data"
    }
   ],
   "source": [
    "# Plot NMSE vs number of epochs\n",
    "plt.plot(np.arange(1, NUM_EPOCHS+1), nmse_train_results, marker='.', label='Train')\n",
    "plt.plot(np.arange(1, NUM_EPOCHS+1), nmse_val_results, marker='.', label='Validation')\n",
    "plt.xlabel('Epochs')\n",
    "plt.ylabel('NMSE')\n",
    "plt.title('NMSE vs Epochs')\n",
    "plt.legend()\n",
    "plt.grid()\n",
    "plt.show()"
   ]
  },
  {
   "cell_type": "code",
   "execution_count": 11,
   "metadata": {},
   "outputs": [],
   "source": [
    "# Save results to a CSV file\n",
    "results = pd.DataFrame({\n",
    "    'Train Results': nmse_train_results,\n",
    "    'Validation Results': nmse_val_results,\n",
    "    'Test Results': nmse_test_results\n",
    "})\n",
    "results.to_csv('Results/Netflix/num_epochs.csv', index=False)"
   ]
  },
  {
   "cell_type": "code",
   "execution_count": null,
   "metadata": {},
   "outputs": [],
   "source": []
  }
 ],
 "metadata": {
  "kernelspec": {
   "display_name": "Python 3",
   "language": "python",
   "name": "python3"
  },
  "language_info": {
   "codemirror_mode": {
    "name": "ipython",
    "version": 3
   },
   "file_extension": ".py",
   "mimetype": "text/x-python",
   "name": "python",
   "nbconvert_exporter": "python",
   "pygments_lexer": "ipython3",
   "version": "3.10.12"
  }
 },
 "nbformat": 4,
 "nbformat_minor": 2
}
