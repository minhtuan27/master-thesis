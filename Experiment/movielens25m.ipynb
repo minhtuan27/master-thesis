{
 "cells": [
  {
   "cell_type": "markdown",
   "metadata": {},
   "source": [
    "# A tensorflow model for Dictionary Filter"
   ]
  },
  {
   "cell_type": "code",
   "execution_count": 1,
   "metadata": {},
   "outputs": [
    {
     "name": "stderr",
     "output_type": "stream",
     "text": [
      "2024-07-13 11:46:08.898662: I tensorflow/core/util/port.cc:113] oneDNN custom operations are on. You may see slightly different numerical results due to floating-point round-off errors from different computation orders. To turn them off, set the environment variable `TF_ENABLE_ONEDNN_OPTS=0`.\n",
      "2024-07-13 11:46:08.923864: I tensorflow/core/platform/cpu_feature_guard.cc:210] This TensorFlow binary is optimized to use available CPU instructions in performance-critical operations.\n",
      "To enable the following instructions: AVX2 AVX512F AVX512_VNNI AVX512_BF16 FMA, in other operations, rebuild TensorFlow with the appropriate compiler flags.\n",
      "2024-07-13 11:46:09.294755: W tensorflow/compiler/tf2tensorrt/utils/py_utils.cc:38] TF-TRT Warning: Could not find TensorRT\n"
     ]
    }
   ],
   "source": [
    "import numpy as np\n",
    "import pandas as pd\n",
    "import tensorflow as tf\n",
    "from tqdm import tqdm\n",
    "import time\n",
    "import matplotlib.pyplot as plt"
   ]
  },
  {
   "cell_type": "code",
   "execution_count": 2,
   "metadata": {},
   "outputs": [],
   "source": [
    "import sys\n",
    "sys.path.append('../Library')\n",
    "\n",
    "from Metrics.NMSE import NMSE\n",
    "from Modules.GaussianDictionaryFilter import GaussianDictionaryFilter as DictionaryFilter"
   ]
  },
  {
   "cell_type": "code",
   "execution_count": 3,
   "metadata": {},
   "outputs": [],
   "source": [
    "np.random.seed(42)\n",
    "tf.random.set_seed(42)"
   ]
  },
  {
   "cell_type": "markdown",
   "metadata": {},
   "source": [
    "## Test on Movie Lens 25M dataset"
   ]
  },
  {
   "cell_type": "code",
   "execution_count": 4,
   "metadata": {},
   "outputs": [
    {
     "data": {
      "text/html": [
       "<div>\n",
       "<style scoped>\n",
       "    .dataframe tbody tr th:only-of-type {\n",
       "        vertical-align: middle;\n",
       "    }\n",
       "\n",
       "    .dataframe tbody tr th {\n",
       "        vertical-align: top;\n",
       "    }\n",
       "\n",
       "    .dataframe thead th {\n",
       "        text-align: right;\n",
       "    }\n",
       "</style>\n",
       "<table border=\"1\" class=\"dataframe\">\n",
       "  <thead>\n",
       "    <tr style=\"text-align: right;\">\n",
       "      <th></th>\n",
       "      <th>Movie Index</th>\n",
       "      <th>User Index</th>\n",
       "      <th>Rating</th>\n",
       "    </tr>\n",
       "  </thead>\n",
       "  <tbody>\n",
       "    <tr>\n",
       "      <th>0</th>\n",
       "      <td>7242</td>\n",
       "      <td>58197</td>\n",
       "      <td>3.5</td>\n",
       "    </tr>\n",
       "    <tr>\n",
       "      <th>1</th>\n",
       "      <td>21105</td>\n",
       "      <td>149680</td>\n",
       "      <td>4.0</td>\n",
       "    </tr>\n",
       "    <tr>\n",
       "      <th>2</th>\n",
       "      <td>6762</td>\n",
       "      <td>15512</td>\n",
       "      <td>4.5</td>\n",
       "    </tr>\n",
       "    <tr>\n",
       "      <th>3</th>\n",
       "      <td>2538</td>\n",
       "      <td>128</td>\n",
       "      <td>3.0</td>\n",
       "    </tr>\n",
       "    <tr>\n",
       "      <th>4</th>\n",
       "      <td>522</td>\n",
       "      <td>112086</td>\n",
       "      <td>5.0</td>\n",
       "    </tr>\n",
       "  </tbody>\n",
       "</table>\n",
       "</div>"
      ],
      "text/plain": [
       "   Movie Index  User Index  Rating\n",
       "0         7242       58197     3.5\n",
       "1        21105      149680     4.0\n",
       "2         6762       15512     4.5\n",
       "3         2538         128     3.0\n",
       "4          522      112086     5.0"
      ]
     },
     "execution_count": 4,
     "metadata": {},
     "output_type": "execute_result"
    }
   ],
   "source": [
    "# Read the dataset\n",
    "dataset = pd.read_csv('../Data/MovieLens/Recommended/dataset.csv')\n",
    "\n",
    "# Display the dataset\n",
    "dataset.head()"
   ]
  },
  {
   "cell_type": "code",
   "execution_count": 5,
   "metadata": {},
   "outputs": [
    {
     "name": "stdout",
     "output_type": "stream",
     "text": [
      "Train data shape: (18000798, 3)\n",
      "Validation data shape: (2000089, 3)\n",
      "Test data shape: (4999208, 3)\n"
     ]
    }
   ],
   "source": [
    "from sklearn.model_selection import train_test_split\n",
    "from AdvancedModelSelection import user_based_train_test_split\n",
    "\n",
    "# Split the dataset into train and test data\n",
    "train_val_data, test_data = user_based_train_test_split(dataset, test_size=0.2, random_state=42)\n",
    "\n",
    "# Split the train and validation data\n",
    "train_data, val_data = train_test_split(train_val_data, test_size=0.1, random_state=42)\n",
    "\n",
    "# Print the shapes of train and test data\n",
    "print(\"Train data shape:\", train_data.shape)\n",
    "print(\"Validation data shape:\", val_data.shape)\n",
    "print(\"Test data shape:\", test_data.shape)"
   ]
  },
  {
   "cell_type": "code",
   "execution_count": 6,
   "metadata": {},
   "outputs": [],
   "source": [
    "NUM_MOVIES = dataset['Movie Index'].max() + 1\n",
    "NUM_USERS = dataset['User Index'].max() + 1\n",
    "NUM_FACTORS = 16\n",
    "BATCH_SIZE = 32\n",
    "TRAIN_LAMBDA = 2.0\n",
    "INIT_SCALE = dataset['Rating'].mean() / NUM_FACTORS\n",
    "NUM_EPOCHS = 20"
   ]
  },
  {
   "cell_type": "code",
   "execution_count": 7,
   "metadata": {},
   "outputs": [
    {
     "name": "stderr",
     "output_type": "stream",
     "text": [
      "2024-07-13 11:46:48.454304: I external/local_xla/xla/stream_executor/cuda/cuda_executor.cc:984] could not open file to read NUMA node: /sys/bus/pci/devices/0000:01:00.0/numa_node\n",
      "Your kernel may have been built without NUMA support.\n",
      "2024-07-13 11:46:48.472231: I external/local_xla/xla/stream_executor/cuda/cuda_executor.cc:984] could not open file to read NUMA node: /sys/bus/pci/devices/0000:01:00.0/numa_node\n",
      "Your kernel may have been built without NUMA support.\n",
      "2024-07-13 11:46:48.472272: I external/local_xla/xla/stream_executor/cuda/cuda_executor.cc:984] could not open file to read NUMA node: /sys/bus/pci/devices/0000:01:00.0/numa_node\n",
      "Your kernel may have been built without NUMA support.\n",
      "2024-07-13 11:46:48.473671: I external/local_xla/xla/stream_executor/cuda/cuda_executor.cc:984] could not open file to read NUMA node: /sys/bus/pci/devices/0000:01:00.0/numa_node\n",
      "Your kernel may have been built without NUMA support.\n",
      "2024-07-13 11:46:48.473708: I external/local_xla/xla/stream_executor/cuda/cuda_executor.cc:984] could not open file to read NUMA node: /sys/bus/pci/devices/0000:01:00.0/numa_node\n",
      "Your kernel may have been built without NUMA support.\n",
      "2024-07-13 11:46:48.473728: I external/local_xla/xla/stream_executor/cuda/cuda_executor.cc:984] could not open file to read NUMA node: /sys/bus/pci/devices/0000:01:00.0/numa_node\n",
      "Your kernel may have been built without NUMA support.\n",
      "2024-07-13 11:46:48.600082: I external/local_xla/xla/stream_executor/cuda/cuda_executor.cc:984] could not open file to read NUMA node: /sys/bus/pci/devices/0000:01:00.0/numa_node\n",
      "Your kernel may have been built without NUMA support.\n",
      "2024-07-13 11:46:48.600125: I external/local_xla/xla/stream_executor/cuda/cuda_executor.cc:984] could not open file to read NUMA node: /sys/bus/pci/devices/0000:01:00.0/numa_node\n",
      "Your kernel may have been built without NUMA support.\n",
      "2024-07-13 11:46:48.600131: I tensorflow/core/common_runtime/gpu/gpu_device.cc:2019] Could not identify NUMA node of platform GPU id 0, defaulting to 0.  Your kernel may not have been built with NUMA support.\n",
      "2024-07-13 11:46:48.600159: I external/local_xla/xla/stream_executor/cuda/cuda_executor.cc:984] could not open file to read NUMA node: /sys/bus/pci/devices/0000:01:00.0/numa_node\n",
      "Your kernel may have been built without NUMA support.\n",
      "2024-07-13 11:46:48.600177: I tensorflow/core/common_runtime/gpu/gpu_device.cc:1928] Created device /job:localhost/replica:0/task:0/device:GPU:0 with 9558 MB memory:  -> device: 0, name: NVIDIA GeForce RTX 4070, pci bus id: 0000:01:00.0, compute capability: 8.9\n"
     ]
    }
   ],
   "source": [
    "# Convert train data to sparse tensor\n",
    "train_sparse_tensor = tf.sparse.SparseTensor(\n",
    "    indices=train_data[['Movie Index', 'User Index']].values,\n",
    "    values=train_data['Rating'].values,\n",
    "    dense_shape=[NUM_MOVIES, NUM_USERS]\n",
    ")\n",
    "train_sparse_tensor = tf.sparse.reorder(train_sparse_tensor)\n",
    "\n",
    "# Convert validation data to sparse tensor\n",
    "val_sparse_tensor = tf.sparse.SparseTensor(\n",
    "    indices=val_data[['Movie Index', 'User Index']].values,\n",
    "    values=val_data['Rating'].values,\n",
    "    dense_shape=[NUM_MOVIES, NUM_USERS]\n",
    ")\n",
    "val_sparse_tensor = tf.sparse.reorder(val_sparse_tensor)\n",
    "\n",
    "# Convert test data to sparse tensor\n",
    "test_sparse_tensor = tf.sparse.SparseTensor(\n",
    "    indices=test_data[['Movie Index', 'User Index']].values,\n",
    "    values=test_data['Rating'].values,\n",
    "    dense_shape=[NUM_MOVIES, NUM_USERS]\n",
    ")\n",
    "test_sparse_tensor = tf.sparse.reorder(test_sparse_tensor)"
   ]
  },
  {
   "cell_type": "code",
   "execution_count": 8,
   "metadata": {},
   "outputs": [],
   "source": [
    "# Create dataset\n",
    "def create_train_dataset(batch_size=BATCH_SIZE):\n",
    "    def data_generator():\n",
    "        train_slices = tf.sparse.split(sp_input=train_sparse_tensor, num_split=NUM_USERS // batch_size, axis=1)\n",
    "        val_slices = tf.sparse.split(sp_input=val_sparse_tensor, num_split=NUM_USERS // batch_size, axis=1)\n",
    "        for i in range(NUM_USERS // batch_size):\n",
    "            yield (tf.sparse.to_dense(train_slices[i]), tf.sparse.to_dense(val_slices[i]))\n",
    "\n",
    "    dataset = tf.data.Dataset.from_generator(\n",
    "        data_generator, \n",
    "        output_signature=(\n",
    "            tf.TensorSpec(shape=[NUM_MOVIES, None], dtype=tf.float32),\n",
    "            tf.TensorSpec(shape=[NUM_MOVIES, None], dtype=tf.float32)\n",
    "        )\n",
    "    )\n",
    "\n",
    "    return dataset\n",
    "\n",
    "def create_full_dataset(batch_size=BATCH_SIZE):\n",
    "    def data_generator():\n",
    "        train_slices = tf.sparse.split(sp_input=train_sparse_tensor, num_split=NUM_USERS // batch_size, axis=1)\n",
    "        val_slices = tf.sparse.split(sp_input=val_sparse_tensor, num_split=NUM_USERS // batch_size, axis=1)\n",
    "        test_slices = tf.sparse.split(sp_input=test_sparse_tensor, num_split=NUM_USERS // batch_size, axis=1)\n",
    "        for i in range(NUM_USERS // batch_size):\n",
    "            yield (tf.sparse.to_dense(train_slices[i]), tf.sparse.to_dense(val_slices[i]), tf.sparse.to_dense(test_slices[i]))\n",
    "\n",
    "    dataset = tf.data.Dataset.from_generator(\n",
    "        data_generator, \n",
    "        output_signature=(\n",
    "            tf.TensorSpec(shape=[NUM_MOVIES, None], dtype=tf.float32),\n",
    "            tf.TensorSpec(shape=[NUM_MOVIES, None], dtype=tf.float32),\n",
    "            tf.TensorSpec(shape=[NUM_MOVIES, None], dtype=tf.float32)\n",
    "        )\n",
    "    )\n",
    "\n",
    "    return dataset"
   ]
  },
  {
   "cell_type": "markdown",
   "metadata": {},
   "source": [
    "## Experiments\n",
    "### 1. Batch size vs train time vs NMSE"
   ]
  },
  {
   "cell_type": "code",
   "execution_count": 9,
   "metadata": {},
   "outputs": [
    {
     "name": "stderr",
     "output_type": "stream",
     "text": [
      "Epoch 1:   0%|          | 0/20317 [00:00<?, ?batch/s]2024-07-09 12:02:21.060697: I tensorflow/core/util/cuda_solvers.cc:178] Creating GpuSolver handles for stream 0x557841470670\n",
      "Epoch 1: 100%|██████████| 20317/20317 [04:27<00:00, 77.59batch/s]2024-07-09 12:06:40.032228: W tensorflow/core/framework/local_rendezvous.cc:404] Local rendezvous is aborting with status: OUT_OF_RANGE: End of sequence\n",
      "Epoch 1: 100%|██████████| 20317/20317 [04:28<00:00, 75.79batch/s]\n"
     ]
    },
    {
     "name": "stdout",
     "output_type": "stream",
     "text": [
      "Train NMSE: 0.060329337\n",
      "Val NMSE: 0.06262082\n"
     ]
    },
    {
     "name": "stderr",
     "output_type": "stream",
     "text": [
      "Epoch 2: 100%|█████████▉| 20312/20317 [04:21<00:00, 78.46batch/s]2024-07-09 12:11:01.780834: W tensorflow/core/framework/local_rendezvous.cc:404] Local rendezvous is aborting with status: OUT_OF_RANGE: End of sequence\n",
      "Epoch 2: 100%|██████████| 20317/20317 [04:21<00:00, 77.62batch/s]\n"
     ]
    },
    {
     "name": "stdout",
     "output_type": "stream",
     "text": [
      "Train NMSE: 0.060123205\n",
      "Val NMSE: 0.062408105\n"
     ]
    },
    {
     "name": "stderr",
     "output_type": "stream",
     "text": [
      "Epoch 3: 100%|█████████▉| 20316/20317 [04:21<00:00, 77.95batch/s]2024-07-09 12:15:23.663469: W tensorflow/core/framework/local_rendezvous.cc:404] Local rendezvous is aborting with status: OUT_OF_RANGE: End of sequence\n",
      "Epoch 3: 100%|██████████| 20317/20317 [04:21<00:00, 77.58batch/s]\n"
     ]
    },
    {
     "name": "stdout",
     "output_type": "stream",
     "text": [
      "Train NMSE: 0.06000781\n",
      "Val NMSE: 0.062288824\n"
     ]
    },
    {
     "name": "stderr",
     "output_type": "stream",
     "text": [
      "Epoch 4: 100%|█████████▉| 20313/20317 [04:21<00:00, 78.39batch/s]2024-07-09 12:19:45.027121: W tensorflow/core/framework/local_rendezvous.cc:404] Local rendezvous is aborting with status: OUT_OF_RANGE: End of sequence\n",
      "Epoch 4: 100%|██████████| 20317/20317 [04:21<00:00, 77.74batch/s]\n"
     ]
    },
    {
     "name": "stdout",
     "output_type": "stream",
     "text": [
      "Train NMSE: 0.059927713\n",
      "Val NMSE: 0.062206306\n"
     ]
    },
    {
     "name": "stderr",
     "output_type": "stream",
     "text": [
      "Epoch 5: 100%|█████████▉| 20313/20317 [04:21<00:00, 79.44batch/s]2024-07-09 12:24:06.601444: W tensorflow/core/framework/local_rendezvous.cc:404] Local rendezvous is aborting with status: OUT_OF_RANGE: End of sequence\n",
      "Epoch 5: 100%|██████████| 20317/20317 [04:21<00:00, 77.67batch/s]\n"
     ]
    },
    {
     "name": "stdout",
     "output_type": "stream",
     "text": [
      "Train NMSE: 0.059867036\n",
      "Val NMSE: 0.062143527\n"
     ]
    },
    {
     "name": "stderr",
     "output_type": "stream",
     "text": [
      "Epoch 1: 100%|█████████▉| 5077/5079 [02:47<00:00, 31.45batch/s]2024-07-09 12:26:54.407906: W tensorflow/core/framework/local_rendezvous.cc:404] Local rendezvous is aborting with status: OUT_OF_RANGE: End of sequence\n",
      "Epoch 1: 100%|██████████| 5079/5079 [02:47<00:00, 30.27batch/s]\n"
     ]
    },
    {
     "name": "stdout",
     "output_type": "stream",
     "text": [
      "Train NMSE: 0.06085416\n",
      "Val NMSE: 0.06324184\n"
     ]
    },
    {
     "name": "stderr",
     "output_type": "stream",
     "text": [
      "Epoch 2: 100%|██████████| 5079/5079 [02:47<00:00, 29.77batch/s]2024-07-09 12:29:41.698792: W tensorflow/core/framework/local_rendezvous.cc:404] Local rendezvous is aborting with status: OUT_OF_RANGE: End of sequence\n",
      "Epoch 2: 100%|██████████| 5079/5079 [02:47<00:00, 30.36batch/s]\n"
     ]
    },
    {
     "name": "stdout",
     "output_type": "stream",
     "text": [
      "Train NMSE: 0.060631413\n",
      "Val NMSE: 0.063015595\n"
     ]
    },
    {
     "name": "stderr",
     "output_type": "stream",
     "text": [
      "Epoch 3: 100%|█████████▉| 5076/5079 [02:47<00:00, 31.15batch/s]2024-07-09 12:32:29.070688: W tensorflow/core/framework/local_rendezvous.cc:404] Local rendezvous is aborting with status: OUT_OF_RANGE: End of sequence\n",
      "Epoch 3: 100%|██████████| 5079/5079 [02:47<00:00, 30.35batch/s]\n"
     ]
    },
    {
     "name": "stdout",
     "output_type": "stream",
     "text": [
      "Train NMSE: 0.060507517\n",
      "Val NMSE: 0.062888995\n"
     ]
    },
    {
     "name": "stderr",
     "output_type": "stream",
     "text": [
      "Epoch 4: 100%|█████████▉| 5078/5079 [02:46<00:00, 31.10batch/s]2024-07-09 12:35:15.961920: W tensorflow/core/framework/local_rendezvous.cc:404] Local rendezvous is aborting with status: OUT_OF_RANGE: End of sequence\n",
      "Epoch 4: 100%|██████████| 5079/5079 [02:46<00:00, 30.43batch/s]\n"
     ]
    },
    {
     "name": "stdout",
     "output_type": "stream",
     "text": [
      "Train NMSE: 0.060422186\n",
      "Val NMSE: 0.06280155\n"
     ]
    },
    {
     "name": "stderr",
     "output_type": "stream",
     "text": [
      "Epoch 5: 100%|█████████▉| 5078/5079 [02:46<00:00, 31.99batch/s]2024-07-09 12:38:02.626096: W tensorflow/core/framework/local_rendezvous.cc:404] Local rendezvous is aborting with status: OUT_OF_RANGE: End of sequence\n",
      "Epoch 5: 100%|██████████| 5079/5079 [02:46<00:00, 30.47batch/s]\n"
     ]
    },
    {
     "name": "stdout",
     "output_type": "stream",
     "text": [
      "Train NMSE: 0.06035735\n",
      "Val NMSE: 0.062735185\n"
     ]
    },
    {
     "name": "stderr",
     "output_type": "stream",
     "text": [
      "Epoch 1: 100%|██████████| 1269/1269 [02:35<00:00,  8.75batch/s]2024-07-09 12:40:38.384754: W tensorflow/core/framework/local_rendezvous.cc:404] Local rendezvous is aborting with status: OUT_OF_RANGE: End of sequence\n",
      "Epoch 1: 100%|██████████| 1269/1269 [02:35<00:00,  8.15batch/s]\n"
     ]
    },
    {
     "name": "stdout",
     "output_type": "stream",
     "text": [
      "Train NMSE: 0.061263297\n",
      "Val NMSE: 0.063613705\n"
     ]
    },
    {
     "name": "stderr",
     "output_type": "stream",
     "text": [
      "Epoch 2: 100%|██████████| 1269/1269 [02:35<00:00,  8.46batch/s]2024-07-09 12:43:14.296399: W tensorflow/core/framework/local_rendezvous.cc:404] Local rendezvous is aborting with status: OUT_OF_RANGE: End of sequence\n",
      "Epoch 2: 100%|██████████| 1269/1269 [02:35<00:00,  8.14batch/s]\n"
     ]
    },
    {
     "name": "stdout",
     "output_type": "stream",
     "text": [
      "Train NMSE: 0.061014876\n",
      "Val NMSE: 0.06335949\n"
     ]
    },
    {
     "name": "stderr",
     "output_type": "stream",
     "text": [
      "Epoch 3: 100%|██████████| 1269/1269 [02:33<00:00,  8.30batch/s]2024-07-09 12:45:47.983739: W tensorflow/core/framework/local_rendezvous.cc:404] Local rendezvous is aborting with status: OUT_OF_RANGE: End of sequence\n",
      "Epoch 3: 100%|██████████| 1269/1269 [02:33<00:00,  8.26batch/s]\n"
     ]
    },
    {
     "name": "stdout",
     "output_type": "stream",
     "text": [
      "Train NMSE: 0.060878683\n",
      "Val NMSE: 0.06321999\n"
     ]
    },
    {
     "name": "stderr",
     "output_type": "stream",
     "text": [
      "Epoch 4: 100%|██████████| 1269/1269 [02:34<00:00,  8.10batch/s]2024-07-09 12:48:22.098318: W tensorflow/core/framework/local_rendezvous.cc:404] Local rendezvous is aborting with status: OUT_OF_RANGE: End of sequence\n",
      "Epoch 4: 100%|██████████| 1269/1269 [02:34<00:00,  8.23batch/s]\n"
     ]
    },
    {
     "name": "stdout",
     "output_type": "stream",
     "text": [
      "Train NMSE: 0.060785644\n",
      "Val NMSE: 0.06312441\n"
     ]
    },
    {
     "name": "stderr",
     "output_type": "stream",
     "text": [
      "Epoch 5: 100%|██████████| 1269/1269 [02:34<00:00,  8.53batch/s]2024-07-09 12:50:56.130579: W tensorflow/core/framework/local_rendezvous.cc:404] Local rendezvous is aborting with status: OUT_OF_RANGE: End of sequence\n",
      "Epoch 5: 100%|██████████| 1269/1269 [02:34<00:00,  8.24batch/s]\n"
     ]
    },
    {
     "name": "stdout",
     "output_type": "stream",
     "text": [
      "Train NMSE: 0.06071537\n",
      "Val NMSE: 0.063052095\n"
     ]
    },
    {
     "name": "stderr",
     "output_type": "stream",
     "text": [
      "Epoch 1: 100%|██████████| 317/317 [02:25<00:00,  2.24batch/s]2024-07-09 12:53:21.237554: W tensorflow/core/framework/local_rendezvous.cc:404] Local rendezvous is aborting with status: OUT_OF_RANGE: End of sequence\n",
      "Epoch 1: 100%|██████████| 317/317 [02:25<00:00,  2.18batch/s]\n"
     ]
    },
    {
     "name": "stdout",
     "output_type": "stream",
     "text": [
      "Train NMSE: 0.061296154\n",
      "Val NMSE: 0.06366155\n"
     ]
    },
    {
     "name": "stderr",
     "output_type": "stream",
     "text": [
      "Epoch 2: 100%|██████████| 317/317 [02:25<00:00,  2.31batch/s]2024-07-09 12:55:46.324847: W tensorflow/core/framework/local_rendezvous.cc:404] Local rendezvous is aborting with status: OUT_OF_RANGE: End of sequence\n",
      "Epoch 2: 100%|██████████| 317/317 [02:25<00:00,  2.18batch/s]\n"
     ]
    },
    {
     "name": "stdout",
     "output_type": "stream",
     "text": [
      "Train NMSE: 0.06098438\n",
      "Val NMSE: 0.063336074\n"
     ]
    },
    {
     "name": "stderr",
     "output_type": "stream",
     "text": [
      "Epoch 3: 100%|██████████| 317/317 [02:25<00:00,  2.29batch/s]2024-07-09 12:58:11.543612: W tensorflow/core/framework/local_rendezvous.cc:404] Local rendezvous is aborting with status: OUT_OF_RANGE: End of sequence\n",
      "Epoch 3: 100%|██████████| 317/317 [02:25<00:00,  2.18batch/s]\n"
     ]
    },
    {
     "name": "stdout",
     "output_type": "stream",
     "text": [
      "Train NMSE: 0.060816295\n",
      "Val NMSE: 0.06316062\n"
     ]
    },
    {
     "name": "stderr",
     "output_type": "stream",
     "text": [
      "Epoch 4: 100%|██████████| 317/317 [02:26<00:00,  2.17batch/s]2024-07-09 13:00:38.036446: W tensorflow/core/framework/local_rendezvous.cc:404] Local rendezvous is aborting with status: OUT_OF_RANGE: End of sequence\n",
      "Epoch 4: 100%|██████████| 317/317 [02:26<00:00,  2.16batch/s]\n"
     ]
    },
    {
     "name": "stdout",
     "output_type": "stream",
     "text": [
      "Train NMSE: 0.060702313\n",
      "Val NMSE: 0.06304183\n"
     ]
    },
    {
     "name": "stderr",
     "output_type": "stream",
     "text": [
      "Epoch 5: 100%|██████████| 317/317 [02:24<00:00,  2.30batch/s]2024-07-09 13:03:02.502266: W tensorflow/core/framework/local_rendezvous.cc:404] Local rendezvous is aborting with status: OUT_OF_RANGE: End of sequence\n",
      "Epoch 5: 100%|██████████| 317/317 [02:24<00:00,  2.19batch/s]"
     ]
    },
    {
     "name": "stdout",
     "output_type": "stream",
     "text": [
      "Train NMSE: 0.060616672\n",
      "Val NMSE: 0.06295271\n"
     ]
    },
    {
     "name": "stderr",
     "output_type": "stream",
     "text": [
      "\n"
     ]
    }
   ],
   "source": [
    "# Initialize variables\n",
    "batch_sizes = [8, 32, 128, 512]\n",
    "nmse_train_results = np.zeros((len(batch_sizes), 5))\n",
    "nmse_val_results = np.zeros((len(batch_sizes), 5))\n",
    "train_timer = np.zeros((len(batch_sizes)))\n",
    "\n",
    "for i, batch_size in enumerate(batch_sizes):\n",
    "\n",
    "    # Create the model\n",
    "    model = DictionaryFilter(NUM_MOVIES, NUM_FACTORS, INIT_SCALE, TRAIN_LAMBDA)\n",
    "    nmse_train = NMSE()\n",
    "    nmse_val = NMSE()\n",
    "\n",
    "    # Create the dataset\n",
    "    dataset = create_train_dataset(batch_size)\n",
    "        \n",
    "    start_time = time.time()  # Start the timer\n",
    "\n",
    "    # Train the model\n",
    "    for epoch in range(5):\n",
    "        progress_bar = tqdm(total=NUM_USERS // batch_size, desc=f\"Epoch {epoch+1}\", unit=\"batch\")\n",
    "        \n",
    "        for train_batch, val_batch in dataset:\n",
    "            x = model(train_batch)\n",
    "            nmse_train.update_state(train_batch, tf.matmul(model.C, x), tf.cast(tf.not_equal(train_batch, 0.0), tf.float32))\n",
    "            nmse_val.update_state(val_batch, tf.matmul(model.C, x), tf.cast(tf.not_equal(val_batch, 0.0), tf.float32))\n",
    "            progress_bar.update(1)\n",
    "        \n",
    "        progress_bar.close()\n",
    "\n",
    "        print(\"Train NMSE:\", nmse_train.result().numpy())\n",
    "        print(\"Val NMSE:\", nmse_val.result().numpy())\n",
    "        nmse_train_results[i, epoch] = nmse_train.result().numpy()\n",
    "        nmse_val_results[i, epoch] = nmse_val.result().numpy()\n",
    "\n",
    "    elapsed_time = time.time() - start_time  # Calculate the elapsed time\n",
    "    train_timer[i] = elapsed_time  # Store the elapsed time"
   ]
  },
  {
   "cell_type": "code",
   "execution_count": 10,
   "metadata": {},
   "outputs": [
    {
     "data": {
      "image/png": "[encoded data removed]",
      "text/plain": [
       "<Figure size 640x480 with 1 Axes>"
      ]
     },
     "metadata": {},
     "output_type": "display_data"
    }
   ],
   "source": [
    "# Plot time taken to train the model vs batch size\n",
    "plt.plot(batch_sizes, train_timer, marker='o')\n",
    "plt.xlabel('Batch Size')\n",
    "plt.ylabel('Time (s)')\n",
    "plt.title('Time taken to train the model vs Batch Size')\n",
    "plt.grid()\n",
    "plt.show()"
   ]
  },
  {
   "cell_type": "code",
   "execution_count": 11,
   "metadata": {},
   "outputs": [
    {
     "data": {
      "image/png": "[encoded data removed]",
      "text/plain": [
       "<Figure size 640x480 with 1 Axes>"
      ]
     },
     "metadata": {},
     "output_type": "display_data"
    }
   ],
   "source": [
    "# Plot NMSE of the last epoch vs batch size\n",
    "plt.plot(batch_sizes, nmse_train_results[:, -1], marker='o', label='Train')\n",
    "plt.plot(batch_sizes, nmse_val_results[:, -1], marker='o', label='Validation')\n",
    "plt.xlabel('Batch Size')\n",
    "plt.ylabel('NMSE')\n",
    "plt.title('NMSE vs Batch Size')\n",
    "plt.legend()\n",
    "plt.grid()\n",
    "plt.show()"
   ]
  },
  {
   "cell_type": "markdown",
   "metadata": {},
   "source": [
    "### 2. Number of factors vs NMSE"
   ]
  },
  {
   "cell_type": "code",
   "execution_count": 9,
   "metadata": {},
   "outputs": [
    {
     "name": "stderr",
     "output_type": "stream",
     "text": [
      "Epoch 1:   0%|          | 0/5079 [00:00<?, ?batch/s]2024-07-09 18:01:20.945325: I tensorflow/core/util/cuda_solvers.cc:178] Creating GpuSolver handles for stream 0x55cf5bd2c830\n",
      "Epoch 1: 100%|█████████▉| 5077/5079 [02:35<00:00, 35.24batch/s]2024-07-09 18:03:54.399676: W tensorflow/core/framework/local_rendezvous.cc:404] Local rendezvous is aborting with status: OUT_OF_RANGE: End of sequence\n",
      "Epoch 1: 100%|██████████| 5079/5079 [02:35<00:00, 32.57batch/s]\n"
     ]
    },
    {
     "name": "stdout",
     "output_type": "stream",
     "text": [
      "Train NMSE: 0.061714962\n",
      "Val NMSE: 0.062831774\n"
     ]
    },
    {
     "name": "stderr",
     "output_type": "stream",
     "text": [
      "Epoch 2: 100%|█████████▉| 5076/5079 [02:33<00:00, 33.79batch/s]2024-07-09 18:06:28.305855: W tensorflow/core/framework/local_rendezvous.cc:404] Local rendezvous is aborting with status: OUT_OF_RANGE: End of sequence\n",
      "Epoch 2: 100%|██████████| 5079/5079 [02:33<00:00, 33.00batch/s]\n"
     ]
    },
    {
     "name": "stdout",
     "output_type": "stream",
     "text": [
      "Train NMSE: 0.061500795\n",
      "Val NMSE: 0.062613815\n"
     ]
    },
    {
     "name": "stderr",
     "output_type": "stream",
     "text": [
      "Epoch 3: 100%|██████████| 5079/5079 [02:31<00:00, 35.01batch/s]2024-07-09 18:09:00.238756: W tensorflow/core/framework/local_rendezvous.cc:404] Local rendezvous is aborting with status: OUT_OF_RANGE: End of sequence\n",
      "Epoch 3: 100%|██████████| 5079/5079 [02:31<00:00, 33.43batch/s]\n"
     ]
    },
    {
     "name": "stdout",
     "output_type": "stream",
     "text": [
      "Train NMSE: 0.061382655\n",
      "Val NMSE: 0.062493436\n"
     ]
    },
    {
     "name": "stderr",
     "output_type": "stream",
     "text": [
      "Epoch 4: 100%|█████████▉| 5078/5079 [02:29<00:00, 34.04batch/s]2024-07-09 18:11:30.002496: W tensorflow/core/framework/local_rendezvous.cc:404] Local rendezvous is aborting with status: OUT_OF_RANGE: End of sequence\n",
      "Epoch 4: 100%|██████████| 5079/5079 [02:29<00:00, 33.91batch/s]\n"
     ]
    },
    {
     "name": "stdout",
     "output_type": "stream",
     "text": [
      "Train NMSE: 0.061301682\n",
      "Val NMSE: 0.062410828\n"
     ]
    },
    {
     "name": "stderr",
     "output_type": "stream",
     "text": [
      "Epoch 5: 100%|█████████▉| 5078/5079 [02:30<00:00, 35.71batch/s]2024-07-09 18:14:00.921962: W tensorflow/core/framework/local_rendezvous.cc:404] Local rendezvous is aborting with status: OUT_OF_RANGE: End of sequence\n",
      "Epoch 5: 100%|██████████| 5079/5079 [02:30<00:00, 33.65batch/s]\n"
     ]
    },
    {
     "name": "stdout",
     "output_type": "stream",
     "text": [
      "Train NMSE: 0.06124035\n",
      "Val NMSE: 0.06234851\n"
     ]
    },
    {
     "name": "stderr",
     "output_type": "stream",
     "text": [
      "Epoch 1: 100%|██████████| 5079/5079 [02:45<00:00, 31.61batch/s]2024-07-09 18:16:46.086665: W tensorflow/core/framework/local_rendezvous.cc:404] Local rendezvous is aborting with status: OUT_OF_RANGE: End of sequence\n",
      "Epoch 1: 100%|██████████| 5079/5079 [02:45<00:00, 30.75batch/s]\n"
     ]
    },
    {
     "name": "stdout",
     "output_type": "stream",
     "text": [
      "Train NMSE: 0.06085416\n",
      "Val NMSE: 0.06324184\n"
     ]
    },
    {
     "name": "stderr",
     "output_type": "stream",
     "text": [
      "Epoch 2: 100%|█████████▉| 5078/5079 [02:44<00:00, 29.56batch/s]2024-07-09 18:19:30.754297: W tensorflow/core/framework/local_rendezvous.cc:404] Local rendezvous is aborting with status: OUT_OF_RANGE: End of sequence\n",
      "Epoch 2: 100%|██████████| 5079/5079 [02:44<00:00, 30.84batch/s]\n"
     ]
    },
    {
     "name": "stdout",
     "output_type": "stream",
     "text": [
      "Train NMSE: 0.060631413\n",
      "Val NMSE: 0.063015595\n"
     ]
    },
    {
     "name": "stderr",
     "output_type": "stream",
     "text": [
      "Epoch 3: 100%|█████████▉| 5076/5079 [02:44<00:00, 30.39batch/s]2024-07-09 18:22:15.411088: W tensorflow/core/framework/local_rendezvous.cc:404] Local rendezvous is aborting with status: OUT_OF_RANGE: End of sequence\n",
      "Epoch 3: 100%|██████████| 5079/5079 [02:44<00:00, 30.85batch/s]\n"
     ]
    },
    {
     "name": "stdout",
     "output_type": "stream",
     "text": [
      "Train NMSE: 0.060507517\n",
      "Val NMSE: 0.062888995\n"
     ]
    },
    {
     "name": "stderr",
     "output_type": "stream",
     "text": [
      "Epoch 4: 100%|██████████| 5079/5079 [02:44<00:00, 32.08batch/s]2024-07-09 18:24:59.999751: W tensorflow/core/framework/local_rendezvous.cc:404] Local rendezvous is aborting with status: OUT_OF_RANGE: End of sequence\n",
      "Epoch 4: 100%|██████████| 5079/5079 [02:44<00:00, 30.86batch/s]\n"
     ]
    },
    {
     "name": "stdout",
     "output_type": "stream",
     "text": [
      "Train NMSE: 0.060422186\n",
      "Val NMSE: 0.06280155\n"
     ]
    },
    {
     "name": "stderr",
     "output_type": "stream",
     "text": [
      "Epoch 5: 100%|█████████▉| 5077/5079 [02:46<00:00, 31.69batch/s]2024-07-09 18:27:46.233911: W tensorflow/core/framework/local_rendezvous.cc:404] Local rendezvous is aborting with status: OUT_OF_RANGE: End of sequence\n",
      "Epoch 5: 100%|██████████| 5079/5079 [02:46<00:00, 30.55batch/s]\n"
     ]
    },
    {
     "name": "stdout",
     "output_type": "stream",
     "text": [
      "Train NMSE: 0.06035735\n",
      "Val NMSE: 0.062735185\n"
     ]
    },
    {
     "name": "stderr",
     "output_type": "stream",
     "text": [
      "Epoch 1: 100%|█████████▉| 5078/5079 [03:35<00:00, 24.90batch/s]2024-07-09 18:31:21.619525: W tensorflow/core/framework/local_rendezvous.cc:404] Local rendezvous is aborting with status: OUT_OF_RANGE: End of sequence\n",
      "Epoch 1: 100%|██████████| 5079/5079 [03:35<00:00, 23.58batch/s]\n"
     ]
    },
    {
     "name": "stdout",
     "output_type": "stream",
     "text": [
      "Train NMSE: 0.05904952\n",
      "Val NMSE: 0.063984975\n"
     ]
    },
    {
     "name": "stderr",
     "output_type": "stream",
     "text": [
      "Epoch 2: 100%|█████████▉| 5077/5079 [03:34<00:00, 24.32batch/s]2024-07-09 18:34:56.522973: W tensorflow/core/framework/local_rendezvous.cc:404] Local rendezvous is aborting with status: OUT_OF_RANGE: End of sequence\n",
      "Epoch 2: 100%|██████████| 5079/5079 [03:34<00:00, 23.63batch/s]\n"
     ]
    },
    {
     "name": "stdout",
     "output_type": "stream",
     "text": [
      "Train NMSE: 0.058812916\n",
      "Val NMSE: 0.06373445\n"
     ]
    },
    {
     "name": "stderr",
     "output_type": "stream",
     "text": [
      "Epoch 3: 100%|██████████| 5079/5079 [03:39<00:00, 23.35batch/s]2024-07-09 18:38:35.920238: W tensorflow/core/framework/local_rendezvous.cc:404] Local rendezvous is aborting with status: OUT_OF_RANGE: End of sequence\n",
      "Epoch 3: 100%|██████████| 5079/5079 [03:39<00:00, 23.15batch/s]\n"
     ]
    },
    {
     "name": "stdout",
     "output_type": "stream",
     "text": [
      "Train NMSE: 0.05867989\n",
      "Val NMSE: 0.063584894\n"
     ]
    },
    {
     "name": "stderr",
     "output_type": "stream",
     "text": [
      "Epoch 4: 100%|██████████| 5079/5079 [03:41<00:00, 23.84batch/s]2024-07-09 18:42:17.231657: W tensorflow/core/framework/local_rendezvous.cc:404] Local rendezvous is aborting with status: OUT_OF_RANGE: End of sequence\n",
      "Epoch 4: 100%|██████████| 5079/5079 [03:41<00:00, 22.95batch/s]\n"
     ]
    },
    {
     "name": "stdout",
     "output_type": "stream",
     "text": [
      "Train NMSE: 0.05858901\n",
      "Val NMSE: 0.063487455\n"
     ]
    },
    {
     "name": "stderr",
     "output_type": "stream",
     "text": [
      "Epoch 5: 100%|██████████| 5079/5079 [03:36<00:00, 24.15batch/s]2024-07-09 18:45:53.630919: W tensorflow/core/framework/local_rendezvous.cc:404] Local rendezvous is aborting with status: OUT_OF_RANGE: End of sequence\n",
      "Epoch 5: 100%|██████████| 5079/5079 [03:36<00:00, 23.47batch/s]\n"
     ]
    },
    {
     "name": "stdout",
     "output_type": "stream",
     "text": [
      "Train NMSE: 0.05851942\n",
      "Val NMSE: 0.063414685\n"
     ]
    },
    {
     "name": "stderr",
     "output_type": "stream",
     "text": [
      "Epoch 1: 100%|██████████| 5079/5079 [04:59<00:00, 14.84batch/s]2024-07-09 18:50:52.992768: W tensorflow/core/framework/local_rendezvous.cc:404] Local rendezvous is aborting with status: OUT_OF_RANGE: End of sequence\n",
      "Epoch 1: 100%|██████████| 5079/5079 [04:59<00:00, 16.97batch/s]\n"
     ]
    },
    {
     "name": "stdout",
     "output_type": "stream",
     "text": [
      "Train NMSE: 0.056947496\n",
      "Val NMSE: 0.066792816\n"
     ]
    },
    {
     "name": "stderr",
     "output_type": "stream",
     "text": [
      "Epoch 2: 100%|██████████| 5079/5079 [05:03<00:00, 14.65batch/s]2024-07-09 18:55:56.845166: W tensorflow/core/framework/local_rendezvous.cc:404] Local rendezvous is aborting with status: OUT_OF_RANGE: End of sequence\n",
      "Epoch 2: 100%|██████████| 5079/5079 [05:03<00:00, 16.72batch/s]\n"
     ]
    },
    {
     "name": "stdout",
     "output_type": "stream",
     "text": [
      "Train NMSE: 0.056739323\n",
      "Val NMSE: 0.06655289\n"
     ]
    },
    {
     "name": "stderr",
     "output_type": "stream",
     "text": [
      "Epoch 3: 100%|█████████▉| 5078/5079 [05:03<00:00, 16.64batch/s]2024-07-09 19:01:00.789996: W tensorflow/core/framework/local_rendezvous.cc:404] Local rendezvous is aborting with status: OUT_OF_RANGE: End of sequence\n",
      "Epoch 3: 100%|██████████| 5079/5079 [05:03<00:00, 16.71batch/s]\n"
     ]
    },
    {
     "name": "stdout",
     "output_type": "stream",
     "text": [
      "Train NMSE: 0.056624275\n",
      "Val NMSE: 0.06640673\n"
     ]
    },
    {
     "name": "stderr",
     "output_type": "stream",
     "text": [
      "Epoch 4: 100%|██████████| 5079/5079 [05:01<00:00, 17.13batch/s]2024-07-09 19:06:02.197645: W tensorflow/core/framework/local_rendezvous.cc:404] Local rendezvous is aborting with status: OUT_OF_RANGE: End of sequence\n",
      "Epoch 4: 100%|██████████| 5079/5079 [05:01<00:00, 16.85batch/s]\n"
     ]
    },
    {
     "name": "stdout",
     "output_type": "stream",
     "text": [
      "Train NMSE: 0.056545507\n",
      "Val NMSE: 0.06630557\n"
     ]
    },
    {
     "name": "stderr",
     "output_type": "stream",
     "text": [
      "Epoch 5: 100%|██████████| 5079/5079 [05:01<00:00, 17.85batch/s]2024-07-09 19:11:04.149118: W tensorflow/core/framework/local_rendezvous.cc:404] Local rendezvous is aborting with status: OUT_OF_RANGE: End of sequence\n",
      "Epoch 5: 100%|██████████| 5079/5079 [05:01<00:00, 16.82batch/s]\n"
     ]
    },
    {
     "name": "stdout",
     "output_type": "stream",
     "text": [
      "Train NMSE: 0.05648501\n",
      "Val NMSE: 0.06622721\n"
     ]
    },
    {
     "name": "stderr",
     "output_type": "stream",
     "text": [
      "Epoch 1: 100%|█████████▉| 5078/5079 [07:37<00:00, 10.56batch/s]2024-07-09 19:18:42.013013: W tensorflow/core/framework/local_rendezvous.cc:404] Local rendezvous is aborting with status: OUT_OF_RANGE: End of sequence\n",
      "Epoch 1: 100%|██████████| 5079/5079 [07:37<00:00, 11.09batch/s]\n"
     ]
    },
    {
     "name": "stdout",
     "output_type": "stream",
     "text": [
      "Train NMSE: 0.054941762\n",
      "Val NMSE: 0.06125648\n"
     ]
    },
    {
     "name": "stderr",
     "output_type": "stream",
     "text": [
      "Epoch 2: 100%|█████████▉| 5078/5079 [07:35<00:00, 11.05batch/s]2024-07-09 19:26:17.510408: W tensorflow/core/framework/local_rendezvous.cc:404] Local rendezvous is aborting with status: OUT_OF_RANGE: End of sequence\n",
      "Epoch 2: 100%|██████████| 5079/5079 [07:35<00:00, 11.15batch/s]\n"
     ]
    },
    {
     "name": "stdout",
     "output_type": "stream",
     "text": [
      "Train NMSE: 0.054676525\n",
      "Val NMSE: 0.060870368\n"
     ]
    },
    {
     "name": "stderr",
     "output_type": "stream",
     "text": [
      "Epoch 3: 100%|█████████▉| 5078/5079 [07:33<00:00, 11.23batch/s]2024-07-09 19:33:51.291356: W tensorflow/core/framework/local_rendezvous.cc:404] Local rendezvous is aborting with status: OUT_OF_RANGE: End of sequence\n",
      "Epoch 3: 100%|██████████| 5079/5079 [07:33<00:00, 11.19batch/s]\n"
     ]
    },
    {
     "name": "stdout",
     "output_type": "stream",
     "text": [
      "Train NMSE: 0.054532643\n",
      "Val NMSE: 0.060661793\n"
     ]
    },
    {
     "name": "stderr",
     "output_type": "stream",
     "text": [
      "Epoch 4: 100%|█████████▉| 5078/5079 [07:38<00:00, 11.08batch/s]2024-07-09 19:41:29.716419: W tensorflow/core/framework/local_rendezvous.cc:404] Local rendezvous is aborting with status: OUT_OF_RANGE: End of sequence\n",
      "Epoch 4: 100%|██████████| 5079/5079 [07:38<00:00, 11.08batch/s]\n"
     ]
    },
    {
     "name": "stdout",
     "output_type": "stream",
     "text": [
      "Train NMSE: 0.05443591\n",
      "Val NMSE: 0.06051974\n"
     ]
    },
    {
     "name": "stderr",
     "output_type": "stream",
     "text": [
      "Epoch 5: 100%|█████████▉| 5078/5079 [07:36<00:00, 10.39batch/s]2024-07-09 19:49:06.712825: W tensorflow/core/framework/local_rendezvous.cc:404] Local rendezvous is aborting with status: OUT_OF_RANGE: End of sequence\n",
      "Epoch 5: 100%|██████████| 5079/5079 [07:36<00:00, 11.11batch/s]\n"
     ]
    },
    {
     "name": "stdout",
     "output_type": "stream",
     "text": [
      "Train NMSE: 0.054360986\n",
      "Val NMSE: 0.060415782\n"
     ]
    },
    {
     "name": "stderr",
     "output_type": "stream",
     "text": [
      "Epoch 1: 100%|██████████| 5079/5079 [12:54<00:00,  6.53batch/s]2024-07-09 20:02:00.919565: W tensorflow/core/framework/local_rendezvous.cc:404] Local rendezvous is aborting with status: OUT_OF_RANGE: End of sequence\n",
      "Epoch 1: 100%|██████████| 5079/5079 [12:54<00:00,  6.56batch/s]\n"
     ]
    },
    {
     "name": "stdout",
     "output_type": "stream",
     "text": [
      "Train NMSE: 0.061767794\n",
      "Val NMSE: 0.063390665\n"
     ]
    },
    {
     "name": "stderr",
     "output_type": "stream",
     "text": [
      "Epoch 2: 100%|██████████| 5079/5079 [12:55<00:00,  6.13batch/s]2024-07-09 20:14:55.934313: W tensorflow/core/framework/local_rendezvous.cc:404] Local rendezvous is aborting with status: OUT_OF_RANGE: End of sequence\n",
      "Epoch 2: 100%|██████████| 5079/5079 [12:55<00:00,  6.55batch/s]\n"
     ]
    },
    {
     "name": "stdout",
     "output_type": "stream",
     "text": [
      "Train NMSE: 0.061461452\n",
      "Val NMSE: 0.06309715\n"
     ]
    },
    {
     "name": "stderr",
     "output_type": "stream",
     "text": [
      "Epoch 3: 100%|██████████| 5079/5079 [12:55<00:00,  6.12batch/s]2024-07-09 20:27:51.210069: W tensorflow/core/framework/local_rendezvous.cc:404] Local rendezvous is aborting with status: OUT_OF_RANGE: End of sequence\n",
      "Epoch 3: 100%|██████████| 5079/5079 [12:55<00:00,  6.55batch/s]\n"
     ]
    },
    {
     "name": "stdout",
     "output_type": "stream",
     "text": [
      "Train NMSE: 0.061299615\n",
      "Val NMSE: 0.062940456\n"
     ]
    },
    {
     "name": "stderr",
     "output_type": "stream",
     "text": [
      "Epoch 4: 100%|██████████| 5079/5079 [12:50<00:00,  6.43batch/s]2024-07-09 20:40:41.367490: W tensorflow/core/framework/local_rendezvous.cc:404] Local rendezvous is aborting with status: OUT_OF_RANGE: End of sequence\n",
      "Epoch 4: 100%|██████████| 5079/5079 [12:50<00:00,  6.59batch/s]\n"
     ]
    },
    {
     "name": "stdout",
     "output_type": "stream",
     "text": [
      "Train NMSE: 0.061191387\n",
      "Val NMSE: 0.06283469\n"
     ]
    },
    {
     "name": "stderr",
     "output_type": "stream",
     "text": [
      "Epoch 5: 100%|██████████| 5079/5079 [13:09<00:00,  6.42batch/s]2024-07-09 20:53:50.686413: W tensorflow/core/framework/local_rendezvous.cc:404] Local rendezvous is aborting with status: OUT_OF_RANGE: End of sequence\n",
      "Epoch 5: 100%|██████████| 5079/5079 [13:09<00:00,  6.43batch/s]"
     ]
    },
    {
     "name": "stdout",
     "output_type": "stream",
     "text": [
      "Train NMSE: 0.061110746\n",
      "Val NMSE: 0.06275535\n"
     ]
    },
    {
     "name": "stderr",
     "output_type": "stream",
     "text": [
      "\n"
     ]
    }
   ],
   "source": [
    "# Initialize variables\n",
    "num_factors = [1, 2, 4, 8, 16, 32]\n",
    "nmse_train_results = np.zeros((len(num_factors), 5))\n",
    "nmse_val_results = np.zeros((len(num_factors), 5))\n",
    "train_timer = np.zeros((len(num_factors)))\n",
    "\n",
    "for i, num_factor in enumerate(num_factors):\n",
    "\n",
    "    # Create the model\n",
    "    model = DictionaryFilter(NUM_MOVIES, num_factor, INIT_SCALE, TRAIN_LAMBDA)\n",
    "    nmse_train = NMSE()\n",
    "    nmse_val = NMSE()\n",
    "\n",
    "    # Create the dataset\n",
    "    dataset = create_train_dataset()\n",
    "        \n",
    "    start_time = time.time()  # Start the timer\n",
    "\n",
    "    # Train the model\n",
    "    for epoch in range(5):\n",
    "        progress_bar = tqdm(total=NUM_USERS // BATCH_SIZE, desc=f\"Epoch {epoch+1}\", unit=\"batch\")\n",
    "        \n",
    "        for train_batch, val_batch in dataset:\n",
    "            x = model(train_batch)\n",
    "            nmse_train.update_state(train_batch, tf.matmul(model.C, x), tf.cast(tf.not_equal(train_batch, 0.0), tf.float32))\n",
    "            nmse_val.update_state(val_batch, tf.matmul(model.C, x), tf.cast(tf.not_equal(val_batch, 0.0), tf.float32))\n",
    "            progress_bar.update(1)\n",
    "        \n",
    "        progress_bar.close()\n",
    "\n",
    "        print(\"Train NMSE:\", nmse_train.result().numpy())\n",
    "        print(\"Val NMSE:\", nmse_val.result().numpy())\n",
    "        nmse_train_results[i, epoch] = nmse_train.result().numpy()\n",
    "        nmse_val_results[i, epoch] = nmse_val.result().numpy()\n",
    "\n",
    "    elapsed_time = time.time() - start_time  # Calculate the elapsed time\n",
    "    train_timer[i] = elapsed_time  # Store the elapsed time"
   ]
  },
  {
   "cell_type": "code",
   "execution_count": 10,
   "metadata": {},
   "outputs": [
    {
     "data": {
      "image/png": "[encoded data removed]",
      "text/plain": [
       "<Figure size 640x480 with 1 Axes>"
      ]
     },
     "metadata": {},
     "output_type": "display_data"
    }
   ],
   "source": [
    "# Plot time taken to train the model vs number of factors\n",
    "plt.plot(num_factors, train_timer, marker='o')\n",
    "plt.xlabel('Number of Factors')\n",
    "plt.ylabel('Time (s)')\n",
    "plt.title('Time taken to train the model vs Number of Factors')\n",
    "plt.grid()\n",
    "plt.show()"
   ]
  },
  {
   "cell_type": "code",
   "execution_count": 11,
   "metadata": {},
   "outputs": [
    {
     "data": {
      "image/png": "[encoded data removed]",
      "text/plain": [
       "<Figure size 640x480 with 1 Axes>"
      ]
     },
     "metadata": {},
     "output_type": "display_data"
    }
   ],
   "source": [
    "# Plot NMSE of the last epoch vs number of factors\n",
    "plt.plot(num_factors, nmse_train_results[:, -1], marker='o', label='Train')\n",
    "plt.plot(num_factors, nmse_val_results[:, -1], marker='o', label='Validation')\n",
    "plt.xlabel('Number of Factors')\n",
    "plt.ylabel('NMSE')\n",
    "plt.title('NMSE vs Number of Factors')\n",
    "plt.legend()\n",
    "plt.grid()\n",
    "plt.show()"
   ]
  },
  {
   "cell_type": "markdown",
   "metadata": {},
   "source": [
    "### 3. Number of epochs vs NMSE"
   ]
  },
  {
   "cell_type": "code",
   "execution_count": 9,
   "metadata": {},
   "outputs": [
    {
     "name": "stderr",
     "output_type": "stream",
     "text": [
      "Epoch 1:   0%|          | 0/5079 [00:00<?, ?batch/s]2024-07-13 11:46:52.336058: I tensorflow/core/util/cuda_solvers.cc:178] Creating GpuSolver handles for stream 0x563e34bd8360\n",
      "Epoch 1: 100%|██████████| 5079/5079 [08:05<00:00, 11.00batch/s]2024-07-13 11:54:54.210509: W tensorflow/core/framework/local_rendezvous.cc:404] Local rendezvous is aborting with status: OUT_OF_RANGE: End of sequence\n",
      "Epoch 1: 100%|██████████| 5079/5079 [08:05<00:00, 10.47batch/s]\n"
     ]
    },
    {
     "name": "stdout",
     "output_type": "stream",
     "text": [
      "Train NMSE: 0.052006204\n",
      "Val NMSE: 0.05826269\n",
      "Test NMSE: 0.05838645\n"
     ]
    },
    {
     "name": "stderr",
     "output_type": "stream",
     "text": [
      "Epoch 2: 100%|█████████▉| 5078/5079 [08:01<00:00, 10.79batch/s]2024-07-13 12:02:56.278656: W tensorflow/core/framework/local_rendezvous.cc:404] Local rendezvous is aborting with status: OUT_OF_RANGE: End of sequence\n",
      "Epoch 2: 100%|██████████| 5079/5079 [08:02<00:00, 10.54batch/s]\n"
     ]
    },
    {
     "name": "stdout",
     "output_type": "stream",
     "text": [
      "Train NMSE: 0.051792562\n",
      "Val NMSE: 0.05795282\n",
      "Test NMSE: 0.058068085\n"
     ]
    },
    {
     "name": "stderr",
     "output_type": "stream",
     "text": [
      "Epoch 3: 100%|█████████▉| 5078/5079 [08:19<00:00, 10.56batch/s]2024-07-13 12:11:15.687268: W tensorflow/core/framework/local_rendezvous.cc:404] Local rendezvous is aborting with status: OUT_OF_RANGE: End of sequence\n",
      "Epoch 3: 100%|██████████| 5079/5079 [08:19<00:00, 10.17batch/s]\n"
     ]
    },
    {
     "name": "stdout",
     "output_type": "stream",
     "text": [
      "Train NMSE: 0.05168372\n",
      "Val NMSE: 0.05779302\n",
      "Test NMSE: 0.057907958\n"
     ]
    },
    {
     "name": "stderr",
     "output_type": "stream",
     "text": [
      "Epoch 4: 100%|██████████| 5079/5079 [08:19<00:00,  9.16batch/s]2024-07-13 12:19:35.357708: W tensorflow/core/framework/local_rendezvous.cc:404] Local rendezvous is aborting with status: OUT_OF_RANGE: End of sequence\n",
      "Epoch 4: 100%|██████████| 5079/5079 [08:19<00:00, 10.16batch/s]\n"
     ]
    },
    {
     "name": "stdout",
     "output_type": "stream",
     "text": [
      "Train NMSE: 0.05161106\n",
      "Val NMSE: 0.057686467\n",
      "Test NMSE: 0.05780144\n"
     ]
    },
    {
     "name": "stderr",
     "output_type": "stream",
     "text": [
      "Epoch 5: 100%|█████████▉| 5078/5079 [08:14<00:00, 10.50batch/s]2024-07-13 12:27:50.010594: W tensorflow/core/framework/local_rendezvous.cc:404] Local rendezvous is aborting with status: OUT_OF_RANGE: End of sequence\n",
      "Epoch 5: 100%|██████████| 5079/5079 [08:14<00:00, 10.27batch/s]\n"
     ]
    },
    {
     "name": "stdout",
     "output_type": "stream",
     "text": [
      "Train NMSE: 0.051557545\n",
      "Val NMSE: 0.057608344\n",
      "Test NMSE: 0.05772297\n"
     ]
    },
    {
     "name": "stderr",
     "output_type": "stream",
     "text": [
      "Epoch 6: 100%|██████████| 5079/5079 [08:31<00:00, 10.30batch/s]2024-07-13 12:36:21.374568: W tensorflow/core/framework/local_rendezvous.cc:404] Local rendezvous is aborting with status: OUT_OF_RANGE: End of sequence\n",
      "Epoch 6: 100%|██████████| 5079/5079 [08:31<00:00,  9.93batch/s]\n"
     ]
    },
    {
     "name": "stdout",
     "output_type": "stream",
     "text": [
      "Train NMSE: 0.051514916\n",
      "Val NMSE: 0.05754762\n",
      "Test NMSE: 0.05766192\n"
     ]
    },
    {
     "name": "stderr",
     "output_type": "stream",
     "text": [
      "Epoch 7: 100%|██████████| 5079/5079 [08:04<00:00, 10.75batch/s]2024-07-13 12:44:25.381022: W tensorflow/core/framework/local_rendezvous.cc:404] Local rendezvous is aborting with status: OUT_OF_RANGE: End of sequence\n",
      "Epoch 7: 100%|██████████| 5079/5079 [08:04<00:00, 10.49batch/s]\n"
     ]
    },
    {
     "name": "stdout",
     "output_type": "stream",
     "text": [
      "Train NMSE: 0.051479563\n",
      "Val NMSE: 0.057497036\n",
      "Test NMSE: 0.057609312\n"
     ]
    },
    {
     "name": "stderr",
     "output_type": "stream",
     "text": [
      "Epoch 8: 100%|██████████| 5079/5079 [08:01<00:00, 11.15batch/s]2024-07-13 12:52:26.829732: W tensorflow/core/framework/local_rendezvous.cc:404] Local rendezvous is aborting with status: OUT_OF_RANGE: End of sequence\n",
      "Epoch 8: 100%|██████████| 5079/5079 [08:01<00:00, 10.55batch/s]\n"
     ]
    },
    {
     "name": "stdout",
     "output_type": "stream",
     "text": [
      "Train NMSE: 0.051450174\n",
      "Val NMSE: 0.05745362\n",
      "Test NMSE: 0.05756592\n"
     ]
    },
    {
     "name": "stderr",
     "output_type": "stream",
     "text": [
      "Epoch 9: 100%|█████████▉| 5078/5079 [07:54<00:00, 10.30batch/s]2024-07-13 13:00:21.769793: W tensorflow/core/framework/local_rendezvous.cc:404] Local rendezvous is aborting with status: OUT_OF_RANGE: End of sequence\n",
      "Epoch 9: 100%|██████████| 5079/5079 [07:54<00:00, 10.69batch/s]\n"
     ]
    },
    {
     "name": "stdout",
     "output_type": "stream",
     "text": [
      "Train NMSE: 0.0514243\n",
      "Val NMSE: 0.057415716\n",
      "Test NMSE: 0.057528626\n"
     ]
    },
    {
     "name": "stderr",
     "output_type": "stream",
     "text": [
      "Epoch 10: 100%|██████████| 5079/5079 [07:52<00:00,  9.66batch/s]2024-07-13 13:08:14.720028: W tensorflow/core/framework/local_rendezvous.cc:404] Local rendezvous is aborting with status: OUT_OF_RANGE: End of sequence\n",
      "Epoch 10: 100%|██████████| 5079/5079 [07:52<00:00, 10.74batch/s]\n"
     ]
    },
    {
     "name": "stdout",
     "output_type": "stream",
     "text": [
      "Train NMSE: 0.051400926\n",
      "Val NMSE: 0.05738173\n",
      "Test NMSE: 0.05749357\n"
     ]
    },
    {
     "name": "stderr",
     "output_type": "stream",
     "text": [
      "Epoch 11: 100%|█████████▉| 5078/5079 [07:51<00:00, 10.88batch/s]2024-07-13 13:16:06.743672: W tensorflow/core/framework/local_rendezvous.cc:404] Local rendezvous is aborting with status: OUT_OF_RANGE: End of sequence\n",
      "Epoch 11: 100%|██████████| 5079/5079 [07:52<00:00, 10.76batch/s]\n"
     ]
    },
    {
     "name": "stdout",
     "output_type": "stream",
     "text": [
      "Train NMSE: 0.051380523\n",
      "Val NMSE: 0.057352357\n",
      "Test NMSE: 0.05746416\n"
     ]
    },
    {
     "name": "stderr",
     "output_type": "stream",
     "text": [
      "Epoch 12: 100%|█████████▉| 5078/5079 [07:51<00:00, 10.99batch/s]2024-07-13 13:23:58.523386: W tensorflow/core/framework/local_rendezvous.cc:404] Local rendezvous is aborting with status: OUT_OF_RANGE: End of sequence\n",
      "Epoch 12: 100%|██████████| 5079/5079 [07:51<00:00, 10.77batch/s]\n"
     ]
    },
    {
     "name": "stdout",
     "output_type": "stream",
     "text": [
      "Train NMSE: 0.051361836\n",
      "Val NMSE: 0.057326827\n",
      "Test NMSE: 0.057437226\n"
     ]
    },
    {
     "name": "stderr",
     "output_type": "stream",
     "text": [
      "Epoch 13: 100%|█████████▉| 5078/5079 [07:50<00:00, 10.78batch/s]2024-07-13 13:31:49.595404: W tensorflow/core/framework/local_rendezvous.cc:404] Local rendezvous is aborting with status: OUT_OF_RANGE: End of sequence\n",
      "Epoch 13: 100%|██████████| 5079/5079 [07:51<00:00, 10.78batch/s]\n"
     ]
    },
    {
     "name": "stdout",
     "output_type": "stream",
     "text": [
      "Train NMSE: 0.051345117\n",
      "Val NMSE: 0.057302974\n",
      "Test NMSE: 0.057412393\n"
     ]
    },
    {
     "name": "stderr",
     "output_type": "stream",
     "text": [
      "Epoch 14: 100%|██████████| 5079/5079 [07:49<00:00, 10.70batch/s]2024-07-13 13:39:39.363477: W tensorflow/core/framework/local_rendezvous.cc:404] Local rendezvous is aborting with status: OUT_OF_RANGE: End of sequence\n",
      "Epoch 14: 100%|██████████| 5079/5079 [07:49<00:00, 10.81batch/s]\n"
     ]
    },
    {
     "name": "stdout",
     "output_type": "stream",
     "text": [
      "Train NMSE: 0.051329374\n",
      "Val NMSE: 0.057280663\n",
      "Test NMSE: 0.05738926\n"
     ]
    },
    {
     "name": "stderr",
     "output_type": "stream",
     "text": [
      "Epoch 15: 100%|█████████▉| 5078/5079 [07:52<00:00, 11.34batch/s]2024-07-13 13:47:31.949272: W tensorflow/core/framework/local_rendezvous.cc:404] Local rendezvous is aborting with status: OUT_OF_RANGE: End of sequence\n",
      "Epoch 15: 100%|██████████| 5079/5079 [07:52<00:00, 10.75batch/s]\n"
     ]
    },
    {
     "name": "stdout",
     "output_type": "stream",
     "text": [
      "Train NMSE: 0.0513149\n",
      "Val NMSE: 0.057260245\n",
      "Test NMSE: 0.05736839\n"
     ]
    },
    {
     "name": "stderr",
     "output_type": "stream",
     "text": [
      "Epoch 16: 100%|█████████▉| 5078/5079 [07:49<00:00, 10.85batch/s]2024-07-13 13:55:21.297839: W tensorflow/core/framework/local_rendezvous.cc:404] Local rendezvous is aborting with status: OUT_OF_RANGE: End of sequence\n",
      "Epoch 16: 100%|██████████| 5079/5079 [07:49<00:00, 10.82batch/s]\n"
     ]
    },
    {
     "name": "stdout",
     "output_type": "stream",
     "text": [
      "Train NMSE: 0.051301204\n",
      "Val NMSE: 0.057241037\n",
      "Test NMSE: 0.05734915\n"
     ]
    },
    {
     "name": "stderr",
     "output_type": "stream",
     "text": [
      "Epoch 17: 100%|█████████▉| 5078/5079 [07:50<00:00, 10.16batch/s]2024-07-13 14:03:12.015023: W tensorflow/core/framework/local_rendezvous.cc:404] Local rendezvous is aborting with status: OUT_OF_RANGE: End of sequence\n",
      "Epoch 17: 100%|██████████| 5079/5079 [07:50<00:00, 10.79batch/s]\n"
     ]
    },
    {
     "name": "stdout",
     "output_type": "stream",
     "text": [
      "Train NMSE: 0.051288668\n",
      "Val NMSE: 0.057223465\n",
      "Test NMSE: 0.057331022\n"
     ]
    },
    {
     "name": "stderr",
     "output_type": "stream",
     "text": [
      "Epoch 18: 100%|██████████| 5079/5079 [07:49<00:00, 10.62batch/s]2024-07-13 14:11:01.648147: W tensorflow/core/framework/local_rendezvous.cc:404] Local rendezvous is aborting with status: OUT_OF_RANGE: End of sequence\n",
      "Epoch 18: 100%|██████████| 5079/5079 [07:49<00:00, 10.81batch/s]\n"
     ]
    },
    {
     "name": "stdout",
     "output_type": "stream",
     "text": [
      "Train NMSE: 0.0512769\n",
      "Val NMSE: 0.05720672\n",
      "Test NMSE: 0.05731429\n"
     ]
    },
    {
     "name": "stderr",
     "output_type": "stream",
     "text": [
      "Epoch 19: 100%|██████████| 5079/5079 [07:50<00:00, 10.56batch/s]2024-07-13 14:18:52.143094: W tensorflow/core/framework/local_rendezvous.cc:404] Local rendezvous is aborting with status: OUT_OF_RANGE: End of sequence\n",
      "Epoch 19: 100%|██████████| 5079/5079 [07:50<00:00, 10.80batch/s]\n"
     ]
    },
    {
     "name": "stdout",
     "output_type": "stream",
     "text": [
      "Train NMSE: 0.051265907\n",
      "Val NMSE: 0.057190802\n",
      "Test NMSE: 0.05729861\n"
     ]
    },
    {
     "name": "stderr",
     "output_type": "stream",
     "text": [
      "Epoch 20: 100%|██████████| 5079/5079 [07:49<00:00, 11.01batch/s]2024-07-13 14:26:41.449881: W tensorflow/core/framework/local_rendezvous.cc:404] Local rendezvous is aborting with status: OUT_OF_RANGE: End of sequence\n",
      "Epoch 20: 100%|██████████| 5079/5079 [07:49<00:00, 10.82batch/s]"
     ]
    },
    {
     "name": "stdout",
     "output_type": "stream",
     "text": [
      "Train NMSE: 0.05125568\n",
      "Val NMSE: 0.057175927\n",
      "Test NMSE: 0.057283297\n"
     ]
    },
    {
     "name": "stderr",
     "output_type": "stream",
     "text": [
      "\n"
     ]
    }
   ],
   "source": [
    "# Initialize variables\n",
    "nmse_train_results = np.zeros(NUM_EPOCHS)\n",
    "nmse_val_results = np.zeros(NUM_EPOCHS)\n",
    "nmse_test_results = np.zeros(NUM_EPOCHS)\n",
    "\n",
    "# Create the model\n",
    "model = DictionaryFilter(NUM_MOVIES, NUM_FACTORS, INIT_SCALE, TRAIN_LAMBDA)\n",
    "nmse_train = NMSE()\n",
    "nmse_val = NMSE()\n",
    "nmse_test = NMSE()\n",
    "\n",
    "# Create the dataset\n",
    "dataset = create_full_dataset()\n",
    "\n",
    "# Train the model\n",
    "for epoch in range(NUM_EPOCHS):\n",
    "    progress_bar = tqdm(total=NUM_USERS // BATCH_SIZE, desc=f\"Epoch {epoch+1}\", unit=\"batch\")\n",
    "    \n",
    "    for train_batch, val_batch, test_batch in dataset:\n",
    "        x = model(train_batch)\n",
    "        nmse_train.update_state(train_batch, tf.matmul(model.C, x), tf.cast(tf.not_equal(train_batch, 0.0), tf.float32))\n",
    "        nmse_val.update_state(val_batch, tf.matmul(model.C, x), tf.cast(tf.not_equal(val_batch, 0.0), tf.float32))\n",
    "        nmse_test.update_state(test_batch, tf.matmul(model.C, x), tf.cast(tf.not_equal(test_batch, 0.0), tf.float32))\n",
    "        progress_bar.update(1)\n",
    "    \n",
    "    progress_bar.close()\n",
    "\n",
    "    print(\"Train NMSE:\", nmse_train.result().numpy())\n",
    "    print(\"Val NMSE:\", nmse_val.result().numpy())\n",
    "    print(\"Test NMSE:\", nmse_test.result().numpy())\n",
    "    nmse_train_results[epoch] = nmse_train.result().numpy()\n",
    "    nmse_val_results[epoch] = nmse_val.result().numpy()\n",
    "    nmse_test_results[epoch] = nmse_test.result().numpy()"
   ]
  },
  {
   "cell_type": "code",
   "execution_count": 10,
   "metadata": {},
   "outputs": [
    {
     "data": {
      "image/png": "[encoded data removed]",
      "text/plain": [
       "<Figure size 640x480 with 1 Axes>"
      ]
     },
     "metadata": {},
     "output_type": "display_data"
    }
   ],
   "source": [
    "# Plot NMSE vs number of epochs\n",
    "plt.plot(np.arange(1, NUM_EPOCHS+1), nmse_train_results, marker='.', label='Train')\n",
    "plt.plot(np.arange(1, NUM_EPOCHS+1), nmse_val_results, marker='.', label='Validation')\n",
    "plt.xlabel('Epochs')\n",
    "plt.ylabel('NMSE')\n",
    "plt.title('NMSE vs Epochs')\n",
    "plt.legend()\n",
    "plt.grid()\n",
    "plt.show()"
   ]
  },
  {
   "cell_type": "code",
   "execution_count": 11,
   "metadata": {},
   "outputs": [],
   "source": [
    "# Save results to a CSV file\n",
    "results = pd.DataFrame({\n",
    "    'Train Results': nmse_train_results,\n",
    "    'Validation Results': nmse_val_results,\n",
    "    'Test Results': nmse_test_results\n",
    "})\n",
    "results.to_csv('Results/ML25M/num_epochs.csv', index=False)"
   ]
  },
  {
   "cell_type": "code",
   "execution_count": 12,
   "metadata": {},
   "outputs": [
    {
     "data": {
      "text/plain": [
       "'Results/ML25M/model_weights'"
      ]
     },
     "execution_count": 12,
     "metadata": {},
     "output_type": "execute_result"
    }
   ],
   "source": [
    "# Save model weights\n",
    "model_path = \"Results/ML25M/model_weights\"\n",
    "checkpoint = tf.train.Checkpoint(model=model)\n",
    "checkpoint.write(model_path)"
   ]
  },
  {
   "cell_type": "code",
   "execution_count": 13,
   "metadata": {},
   "outputs": [
    {
     "data": {
      "text/plain": [
       "[('_CHECKPOINTABLE_OBJECT_GRAPH', []),\n",
       " ('model/C/.ATTRIBUTES/VARIABLE_VALUE', [59047, 16]),\n",
       " ('model/V/.ATTRIBUTES/VARIABLE_VALUE', [16, 16])]"
      ]
     },
     "execution_count": 13,
     "metadata": {},
     "output_type": "execute_result"
    }
   ],
   "source": [
    "# Check variables in the model\n",
    "tf.train.list_variables(model_path)"
   ]
  },
  {
   "cell_type": "code",
   "execution_count": 14,
   "metadata": {},
   "outputs": [
    {
     "data": {
      "text/plain": [
       "<tensorflow.python.checkpoint.checkpoint.CheckpointLoadStatus at 0x7fa917df8850>"
      ]
     },
     "execution_count": 14,
     "metadata": {},
     "output_type": "execute_result"
    }
   ],
   "source": [
    "# Load model weights\n",
    "model_path = \"Results/ML25M/model_weights\"\n",
    "model = DictionaryFilter(NUM_MOVIES, NUM_FACTORS, INIT_SCALE, TRAIN_LAMBDA)\n",
    "checkpoint = tf.train.Checkpoint(model=model)\n",
    "checkpoint.restore(model_path)"
   ]
  },
  {
   "cell_type": "code",
   "execution_count": 15,
   "metadata": {},
   "outputs": [],
   "source": [
    "# Evaluate the model on the first test batch\n",
    "dataset = create_full_dataset()\n",
    "train_batch, val_batch, test_batch = next(iter(dataset))\n",
    "x = model(train_batch)\n",
    "pred = tf.matmul(model.C, x)"
   ]
  },
  {
   "cell_type": "code",
   "execution_count": 16,
   "metadata": {},
   "outputs": [
    {
     "name": "stdout",
     "output_type": "stream",
     "text": [
      "i: 0, j: 1, True: 3.5, Pred: 4.186559677124023\n",
      "i: 1, j: 8, True: 5.0, Pred: 4.502417087554932\n",
      "i: 2, j: 22, True: 5.0, Pred: 3.459651470184326\n",
      "i: 5, j: 22, True: 4.0, Pred: 4.245947360992432\n",
      "i: 6, j: 7, True: 1.0, Pred: 3.6868903636932373\n",
      "i: 9, j: 6, True: 3.0, Pred: 2.772533416748047\n",
      "i: 15, j: 24, True: 3.0, Pred: 3.9837825298309326\n",
      "i: 16, j: 6, True: 4.0, Pred: 4.518820285797119\n",
      "i: 20, j: 24, True: 3.0, Pred: 3.435581922531128\n",
      "i: 21, j: 11, True: 3.0, Pred: 3.3841960430145264\n",
      "i: 24, j: 22, True: 4.0, Pred: 4.381397247314453\n",
      "i: 26, j: 11, True: 2.0, Pred: 2.836233377456665\n",
      "i: 30, j: 23, True: 4.0, Pred: 3.9863500595092773\n",
      "i: 31, j: 25, True: 4.5, Pred: 3.5070531368255615\n",
      "i: 33, j: 31, True: 3.0, Pred: 4.006397247314453\n",
      "i: 38, j: 31, True: 3.0, Pred: 3.8079299926757812\n",
      "i: 43, j: 19, True: 3.0, Pred: 3.057725191116333\n",
      "i: 49, j: 11, True: 5.0, Pred: 4.670222282409668\n",
      "i: 53, j: 11, True: 2.0, Pred: 3.704169988632202\n",
      "i: 60, j: 8, True: 4.0, Pred: 4.263418674468994\n",
      "i: 68, j: 28, True: 3.0, Pred: 3.4960784912109375\n",
      "i: 87, j: 28, True: 3.5, Pred: 2.1579957008361816\n",
      "i: 93, j: 4, True: 3.0, Pred: 3.4041895866394043\n",
      "i: 93, j: 7, True: 4.0, Pred: 3.7605788707733154\n",
      "i: 108, j: 14, True: 3.0, Pred: 4.323477745056152\n",
      "i: 108, j: 18, True: 3.0, Pred: 3.482578992843628\n",
      "i: 109, j: 22, True: 4.0, Pred: 4.668227195739746\n",
      "i: 111, j: 4, True: 3.0, Pred: 3.7505762577056885\n",
      "i: 139, j: 14, True: 5.0, Pred: 4.236170768737793\n",
      "i: 142, j: 24, True: 3.0, Pred: 3.218660831451416\n",
      "i: 145, j: 4, True: 5.0, Pred: 3.833483934402466\n",
      "i: 148, j: 11, True: 2.0, Pred: 3.953643321990967\n",
      "i: 151, j: 12, True: 1.0, Pred: 2.6107661724090576\n",
      "i: 158, j: 17, True: 3.0, Pred: 2.3982505798339844\n",
      "i: 159, j: 31, True: 4.0, Pred: 4.173801898956299\n",
      "i: 163, j: 17, True: 3.0, Pred: 3.598539113998413\n",
      "i: 163, j: 22, True: 3.0, Pred: 3.726644992828369\n",
      "i: 163, j: 24, True: 3.0, Pred: 3.2762677669525146\n",
      "i: 163, j: 30, True: 2.5, Pred: 2.562312364578247\n",
      "i: 171, j: 2, True: 3.0, Pred: 2.935814142227173\n",
      "i: 171, j: 17, True: 1.0, Pred: 2.509770154953003\n",
      "i: 173, j: 11, True: 3.5, Pred: 3.3044252395629883\n",
      "i: 174, j: 11, True: 5.0, Pred: 3.498462677001953\n",
      "i: 196, j: 7, True: 5.0, Pred: 3.66396427154541\n",
      "i: 201, j: 11, True: 2.5, Pred: 2.5579097270965576\n",
      "i: 206, j: 12, True: 3.5, Pred: 2.3451905250549316\n",
      "i: 213, j: 24, True: 4.0, Pred: 3.529198169708252\n",
      "i: 214, j: 22, True: 4.0, Pred: 3.743795871734619\n",
      "i: 219, j: 11, True: 3.0, Pred: 3.4891088008880615\n",
      "i: 221, j: 4, True: 4.0, Pred: 4.2096781730651855\n",
      "i: 222, j: 7, True: 2.0, Pred: 3.760305881500244\n",
      "i: 222, j: 8, True: 5.0, Pred: 4.36977481842041\n",
      "i: 228, j: 21, True: 1.0, Pred: 3.1844029426574707\n",
      "i: 228, j: 22, True: 4.0, Pred: 3.5453062057495117\n",
      "i: 228, j: 31, True: 2.0, Pred: 2.9106557369232178\n",
      "i: 229, j: 22, True: 4.0, Pred: 4.170814037322998\n",
      "i: 250, j: 7, True: 4.0, Pred: 3.543952465057373\n",
      "i: 250, j: 17, True: 4.0, Pred: 3.2599432468414307\n",
      "i: 250, j: 21, True: 4.0, Pred: 4.4548540115356445\n",
      "i: 257, j: 11, True: 5.0, Pred: 4.293610572814941\n",
      "i: 257, j: 22, True: 5.0, Pred: 4.621712684631348\n",
      "i: 273, j: 8, True: 4.0, Pred: 4.023385524749756\n",
      "i: 278, j: 24, True: 4.0, Pred: 3.224529504776001\n",
      "i: 289, j: 11, True: 4.0, Pred: 4.136197566986084\n",
      "i: 289, j: 17, True: 4.0, Pred: 3.474729299545288\n",
      "i: 289, j: 18, True: 3.0, Pred: 4.067732810974121\n",
      "i: 292, j: 3, True: 4.0, Pred: 4.363249778747559\n",
      "i: 292, j: 9, True: 4.5, Pred: 4.768031120300293\n",
      "i: 292, j: 18, True: 3.5, Pred: 4.2390360832214355\n",
      "i: 292, j: 21, True: 3.0, Pred: 4.00993537902832\n",
      "i: 292, j: 24, True: 5.0, Pred: 3.9406561851501465\n",
      "i: 292, j: 32, True: 4.5, Pred: 4.006674766540527\n",
      "i: 311, j: 24, True: 2.0, Pred: 2.804445266723633\n",
      "i: 312, j: 7, True: 2.0, Pred: 3.819291353225708\n",
      "i: 312, j: 24, True: 3.0, Pred: 2.7760531902313232\n",
      "i: 312, j: 27, True: 5.0, Pred: 4.148857593536377\n",
      "i: 313, j: 11, True: 2.0, Pred: 2.392810106277466\n",
      "i: 314, j: 1, True: 5.0, Pred: 4.651360988616943\n",
      "i: 314, j: 5, True: 5.0, Pred: 4.571993350982666\n",
      "i: 314, j: 31, True: 5.0, Pred: 4.461989402770996\n",
      "i: 324, j: 6, True: 3.0, Pred: 2.798053741455078\n",
      "i: 332, j: 4, True: 5.0, Pred: 3.741053342819214\n",
      "i: 334, j: 30, True: 2.5, Pred: 2.2143030166625977\n",
      "i: 339, j: 24, True: 3.0, Pred: 3.1684186458587646\n",
      "i: 344, j: 14, True: 5.0, Pred: 3.855775833129883\n",
      "i: 344, j: 30, True: 2.0, Pred: 2.6306562423706055\n",
      "i: 346, j: 11, True: 3.0, Pred: 2.987762689590454\n",
      "i: 348, j: 17, True: 4.0, Pred: 3.28891921043396\n",
      "i: 351, j: 11, True: 4.0, Pred: 4.215301513671875\n",
      "i: 351, j: 14, True: 5.0, Pred: 4.442641258239746\n",
      "i: 351, j: 26, True: 5.0, Pred: 3.8454203605651855\n",
      "i: 353, j: 7, True: 4.0, Pred: 3.7225000858306885\n",
      "i: 359, j: 17, True: 4.5, Pred: 3.82112193107605\n",
      "i: 359, j: 18, True: 2.0, Pred: 3.4125328063964844\n",
      "i: 362, j: 12, True: 4.0, Pred: 3.124959707260132\n",
      "i: 365, j: 22, True: 3.0, Pred: 3.853245496749878\n",
      "i: 367, j: 30, True: 1.5, Pred: 2.391021966934204\n",
      "i: 371, j: 11, True: 3.0, Pred: 2.8639776706695557\n",
      "i: 372, j: 29, True: 1.5, Pred: 4.54888391494751\n",
      "i: 375, j: 24, True: 3.0, Pred: 3.258070945739746\n",
      "i: 375, j: 31, True: 4.0, Pred: 3.8476922512054443\n",
      "i: 405, j: 8, True: 3.0, Pred: 3.7781219482421875\n",
      "i: 405, j: 11, True: 2.0, Pred: 2.435750722885132\n",
      "i: 408, j: 28, True: 1.5, Pred: 3.0317623615264893\n",
      "i: 415, j: 24, True: 3.0, Pred: 2.7585208415985107\n",
      "i: 423, j: 7, True: 4.0, Pred: 3.492307186126709\n",
      "i: 423, j: 24, True: 5.0, Pred: 3.5969350337982178\n",
      "i: 427, j: 8, True: 3.0, Pred: 4.098466396331787\n",
      "i: 428, j: 11, True: 1.5, Pred: 2.631458282470703\n",
      "i: 429, j: 21, True: 4.0, Pred: 4.73052453994751\n",
      "i: 429, j: 30, True: 0.5, Pred: 2.4206836223602295\n",
      "i: 436, j: 22, True: 4.0, Pred: 3.932168960571289\n",
      "i: 437, j: 11, True: 2.0, Pred: 2.5870048999786377\n",
      "i: 445, j: 11, True: 3.0, Pred: 2.2793939113616943\n",
      "i: 447, j: 22, True: 4.0, Pred: 4.054520606994629\n",
      "i: 450, j: 12, True: 1.5, Pred: 2.619704484939575\n",
      "i: 452, j: 9, True: 3.5, Pred: 3.945066213607788\n",
      "i: 452, j: 22, True: 5.0, Pred: 4.591900825500488\n",
      "i: 466, j: 11, True: 4.0, Pred: 3.5114376544952393\n",
      "i: 469, j: 8, True: 4.0, Pred: 4.05718469619751\n",
      "i: 475, j: 11, True: 4.0, Pred: 3.708329439163208\n",
      "i: 475, j: 12, True: 4.0, Pred: 4.381261348724365\n",
      "i: 475, j: 30, True: 2.0, Pred: 2.7481284141540527\n",
      "i: 484, j: 11, True: 1.5, Pred: 2.109825372695923\n",
      "i: 486, j: 4, True: 3.0, Pred: 4.224898338317871\n",
      "i: 489, j: 7, True: 3.0, Pred: 3.8876755237579346\n",
      "i: 495, j: 11, True: 4.0, Pred: 2.970123767852783\n",
      "i: 504, j: 24, True: 5.0, Pred: 3.6488990783691406\n",
      "i: 506, j: 7, True: 4.0, Pred: 3.610335111618042\n",
      "i: 510, j: 22, True: 5.0, Pred: 4.155664443969727\n",
      "i: 511, j: 8, True: 3.0, Pred: 3.975454092025757\n",
      "i: 515, j: 12, True: 3.5, Pred: 2.9509260654449463\n",
      "i: 522, j: 20, True: 5.0, Pred: 4.422138690948486\n",
      "i: 522, j: 26, True: 4.0, Pred: 3.5666959285736084\n",
      "i: 522, j: 30, True: 2.5, Pred: 2.81795597076416\n",
      "i: 523, j: 11, True: 2.0, Pred: 2.0876901149749756\n",
      "i: 524, j: 22, True: 4.0, Pred: 4.2775750160217285\n",
      "i: 526, j: 11, True: 3.0, Pred: 3.2426443099975586\n",
      "i: 530, j: 24, True: 5.0, Pred: 3.5725221633911133\n",
      "i: 533, j: 11, True: 4.0, Pred: 3.430039882659912\n",
      "i: 534, j: 30, True: 3.0, Pred: 2.412071704864502\n",
      "i: 536, j: 17, True: 3.0, Pred: 3.059121608734131\n",
      "i: 538, j: 11, True: 3.0, Pred: 3.038689374923706\n",
      "i: 545, j: 7, True: 2.0, Pred: 3.2877938747406006\n",
      "i: 545, j: 11, True: 4.0, Pred: 3.8196916580200195\n",
      "i: 545, j: 12, True: 4.5, Pred: 4.283541679382324\n",
      "i: 568, j: 7, True: 4.0, Pred: 3.8520007133483887\n",
      "i: 577, j: 8, True: 3.0, Pred: 3.635941982269287\n",
      "i: 578, j: 8, True: 5.0, Pred: 4.532844066619873\n",
      "i: 578, j: 11, True: 3.0, Pred: 2.505082845687866\n",
      "i: 580, j: 1, True: 2.0, Pred: 3.9932098388671875\n",
      "i: 580, j: 4, True: 4.0, Pred: 3.8424179553985596\n",
      "i: 581, j: 8, True: 3.0, Pred: 4.163417816162109\n",
      "i: 581, j: 12, True: 4.0, Pred: 4.809596538543701\n",
      "i: 581, j: 22, True: 2.0, Pred: 4.3851165771484375\n",
      "i: 581, j: 24, True: 3.0, Pred: 3.797440528869629\n",
      "i: 581, j: 25, True: 5.0, Pred: 3.1612436771392822\n",
      "i: 581, j: 31, True: 4.0, Pred: 4.038721561431885\n",
      "i: 582, j: 4, True: 3.0, Pred: 3.7596139907836914\n",
      "i: 582, j: 7, True: 3.0, Pred: 3.9884562492370605\n",
      "i: 582, j: 8, True: 4.0, Pred: 4.200876235961914\n",
      "i: 582, j: 30, True: 1.5, Pred: 2.5314173698425293\n",
      "i: 584, j: 8, True: 4.0, Pred: 4.020721912384033\n",
      "i: 585, j: 5, True: 4.0, Pred: 4.367334842681885\n",
      "i: 585, j: 6, True: 4.0, Pred: 3.954188585281372\n",
      "i: 585, j: 9, True: 4.5, Pred: 4.687389850616455\n",
      "i: 585, j: 32, True: 3.5, Pred: 4.166749000549316\n",
      "i: 586, j: 8, True: 5.0, Pred: 4.061423301696777\n",
      "i: 586, j: 18, True: 2.5, Pred: 3.463519334793091\n",
      "i: 587, j: 6, True: 4.0, Pred: 3.569652557373047\n",
      "i: 587, j: 17, True: 2.5, Pred: 3.4260196685791016\n",
      "i: 587, j: 24, True: 3.0, Pred: 3.644209384918213\n",
      "i: 589, j: 26, True: 5.0, Pred: 4.291193962097168\n",
      "i: 597, j: 11, True: 3.0, Pred: 2.5042409896850586\n",
      "i: 600, j: 11, True: 5.0, Pred: 4.091006278991699\n",
      "i: 605, j: 11, True: 3.0, Pred: 3.6401100158691406\n",
      "i: 637, j: 11, True: 2.0, Pred: 3.1486637592315674\n",
      "i: 637, j: 12, True: 3.5, Pred: 3.81915283203125\n",
      "i: 637, j: 30, True: 3.0, Pred: 2.571587085723877\n",
      "i: 718, j: 30, True: 2.5, Pred: 2.575340747833252\n",
      "i: 721, j: 14, True: 3.0, Pred: 3.1847341060638428\n",
      "i: 721, j: 17, True: 4.0, Pred: 3.349390745162964\n",
      "i: 725, j: 20, True: 5.0, Pred: 4.4068379402160645\n",
      "i: 725, j: 27, True: 5.0, Pred: 5.4487385749816895\n",
      "i: 729, j: 18, True: 3.5, Pred: 4.204012393951416\n",
      "i: 762, j: 14, True: 5.0, Pred: 5.15681266784668\n",
      "i: 762, j: 17, True: 4.5, Pred: 2.856638193130493\n",
      "i: 762, j: 22, True: 4.0, Pred: 4.490165710449219\n",
      "i: 764, j: 7, True: 2.0, Pred: 4.062406063079834\n",
      "i: 764, j: 30, True: 2.0, Pred: 2.2985548973083496\n",
      "i: 768, j: 17, True: 3.0, Pred: 2.3947982788085938\n",
      "i: 770, j: 4, True: 2.0, Pred: 3.415261745452881\n",
      "i: 772, j: 30, True: 1.5, Pred: 2.100419521331787\n",
      "i: 786, j: 4, True: 5.0, Pred: 3.6328797340393066\n",
      "i: 786, j: 17, True: 4.0, Pred: 3.5059056282043457\n",
      "i: 789, j: 7, True: 3.0, Pred: 3.87485671043396\n",
      "i: 820, j: 11, True: 4.0, Pred: 3.6013236045837402\n",
      "i: 834, j: 8, True: 4.0, Pred: 4.189576625823975\n",
      "i: 840, j: 2, True: 5.0, Pred: 4.607295989990234\n",
      "i: 840, j: 8, True: 3.0, Pred: 3.5465474128723145\n",
      "i: 840, j: 11, True: 4.0, Pred: 4.7622971534729\n",
      "i: 883, j: 7, True: 4.0, Pred: 3.515021562576294\n",
      "i: 891, j: 22, True: 4.0, Pred: 4.703859329223633\n",
      "i: 892, j: 22, True: 5.0, Pred: 4.522128582000732\n",
      "i: 893, j: 11, True: 3.0, Pred: 3.614213466644287\n",
      "i: 898, j: 5, True: 5.0, Pred: 3.5850040912628174\n",
      "i: 903, j: 2, True: 5.0, Pred: 4.446200370788574\n",
      "i: 903, j: 3, True: 4.0, Pred: 4.225554943084717\n",
      "i: 903, j: 7, True: 5.0, Pred: 3.3307323455810547\n",
      "i: 903, j: 27, True: 5.0, Pred: 5.542106628417969\n",
      "i: 905, j: 11, True: 4.5, Pred: 3.300894021987915\n",
      "i: 922, j: 8, True: 4.0, Pred: 4.608441352844238\n",
      "i: 932, j: 1, True: 4.5, Pred: 4.051118850708008\n",
      "i: 947, j: 18, True: 4.0, Pred: 3.955655097961426\n",
      "i: 948, j: 26, True: 4.0, Pred: 3.7173728942871094\n",
      "i: 950, j: 8, True: 3.0, Pred: 3.8167409896850586\n",
      "i: 988, j: 8, True: 4.0, Pred: 4.3556227684021\n",
      "i: 990, j: 8, True: 3.0, Pred: 4.087729454040527\n",
      "i: 990, j: 11, True: 3.0, Pred: 2.7752885818481445\n",
      "i: 993, j: 4, True: 3.0, Pred: 3.11053466796875\n",
      "i: 994, j: 8, True: 3.0, Pred: 4.152139663696289\n",
      "i: 996, j: 8, True: 4.0, Pred: 3.8750460147857666\n",
      "i: 1006, j: 7, True: 3.0, Pred: 3.265443801879883\n",
      "i: 1009, j: 7, True: 3.0, Pred: 3.683851480484009\n",
      "i: 1013, j: 3, True: 4.0, Pred: 3.217881202697754\n",
      "i: 1013, j: 11, True: 4.0, Pred: 4.004275321960449\n",
      "i: 1013, j: 26, True: 3.0, Pred: 3.1035239696502686\n",
      "i: 1024, j: 4, True: 3.0, Pred: 3.6593503952026367\n",
      "i: 1024, j: 11, True: 4.0, Pred: 2.7907941341400146\n",
      "i: 1025, j: 7, True: 2.0, Pred: 3.9978842735290527\n",
      "i: 1036, j: 11, True: 4.5, Pred: 3.5048179626464844\n",
      "i: 1052, j: 11, True: 4.5, Pred: 4.181119441986084\n",
      "i: 1052, j: 30, True: 2.0, Pred: 2.405646800994873\n",
      "i: 1053, j: 29, True: 4.0, Pred: 2.872865676879883\n",
      "i: 1055, j: 26, True: 4.0, Pred: 4.162014961242676\n",
      "i: 1062, j: 22, True: 5.0, Pred: 4.540353298187256\n",
      "i: 1062, j: 32, True: 4.0, Pred: 3.9316632747650146\n",
      "i: 1063, j: 22, True: 5.0, Pred: 4.4797773361206055\n",
      "i: 1064, j: 11, True: 3.5, Pred: 2.459052562713623\n",
      "i: 1065, j: 8, True: 4.0, Pred: 4.11023473739624\n",
      "i: 1067, j: 17, True: 1.0, Pred: 2.887789487838745\n",
      "i: 1067, j: 22, True: 5.0, Pred: 4.315365314483643\n",
      "i: 1070, j: 4, True: 3.0, Pred: 3.9583168029785156\n",
      "i: 1073, j: 11, True: 2.5, Pred: 2.458695888519287\n",
      "i: 1077, j: 22, True: 4.0, Pred: 4.224674701690674\n",
      "i: 1096, j: 8, True: 4.0, Pred: 4.1207780838012695\n",
      "i: 1097, j: 22, True: 5.0, Pred: 4.115230560302734\n",
      "i: 1099, j: 2, True: 3.5, Pred: 3.914881944656372\n",
      "i: 1099, j: 22, True: 4.0, Pred: 4.086421966552734\n",
      "i: 1101, j: 7, True: 2.0, Pred: 3.5385665893554688\n",
      "i: 1108, j: 3, True: 4.5, Pred: 4.246822357177734\n",
      "i: 1108, j: 12, True: 4.0, Pred: 4.870687007904053\n",
      "i: 1108, j: 14, True: 5.0, Pred: 4.90619421005249\n",
      "i: 1108, j: 17, True: 4.5, Pred: 3.3997325897216797\n",
      "i: 1119, j: 22, True: 5.0, Pred: 4.266026973724365\n",
      "i: 1120, j: 11, True: 5.0, Pred: 4.215529441833496\n",
      "i: 1154, j: 30, True: 2.0, Pred: 2.5234925746917725\n",
      "i: 1156, j: 22, True: 4.0, Pred: 4.596125602722168\n",
      "i: 1164, j: 15, True: 4.5, Pred: 4.90513277053833\n",
      "i: 1164, j: 19, True: 5.0, Pred: 4.610541343688965\n",
      "i: 1164, j: 30, True: 3.0, Pred: 2.747300386428833\n",
      "i: 1165, j: 8, True: 3.0, Pred: 3.696657419204712\n",
      "i: 1165, j: 11, True: 3.0, Pred: 3.11737060546875\n",
      "i: 1166, j: 1, True: 5.0, Pred: 4.896543502807617\n",
      "i: 1166, j: 5, True: 5.0, Pred: 5.437857627868652\n",
      "i: 1166, j: 9, True: 5.0, Pred: 4.193917274475098\n",
      "i: 1168, j: 25, True: 3.0, Pred: 3.1265602111816406\n",
      "i: 1168, j: 30, True: 2.0, Pred: 3.047403573989868\n",
      "i: 1170, j: 7, True: 3.0, Pred: 3.6244523525238037\n",
      "i: 1170, j: 12, True: 4.0, Pred: 4.613702297210693\n",
      "i: 1170, j: 17, True: 4.0, Pred: 3.704599618911743\n",
      "i: 1170, j: 19, True: 5.0, Pred: 4.695617198944092\n",
      "i: 1170, j: 22, True: 3.0, Pred: 4.659215450286865\n",
      "i: 1171, j: 2, True: 4.0, Pred: 4.521275520324707\n",
      "i: 1171, j: 12, True: 5.0, Pred: 4.442012786865234\n",
      "i: 1171, j: 18, True: 4.0, Pred: 4.314615249633789\n",
      "i: 1173, j: 7, True: 4.0, Pred: 3.751126289367676\n",
      "i: 1173, j: 10, True: 2.5, Pred: 3.245114326477051\n",
      "i: 1174, j: 8, True: 3.0, Pred: 3.3615686893463135\n",
      "i: 1175, j: 12, True: 4.5, Pred: 4.011576175689697\n",
      "i: 1175, j: 27, True: 5.0, Pred: 5.106122016906738\n",
      "i: 1176, j: 11, True: 4.5, Pred: 4.273436546325684\n",
      "i: 1177, j: 8, True: 4.0, Pred: 2.9240384101867676\n",
      "i: 1177, j: 17, True: 5.0, Pred: 2.7783849239349365\n",
      "i: 1179, j: 7, True: 3.0, Pred: 3.541630744934082\n",
      "i: 1182, j: 30, True: 3.0, Pred: 2.919854164123535\n",
      "i: 1183, j: 11, True: 4.0, Pred: 4.204137802124023\n",
      "i: 1188, j: 11, True: 5.0, Pred: 4.4633355140686035\n",
      "i: 1189, j: 17, True: 5.0, Pred: 3.2368083000183105\n",
      "i: 1190, j: 30, True: 2.5, Pred: 2.8485050201416016\n",
      "i: 1190, j: 32, True: 5.0, Pred: 4.104264259338379\n",
      "i: 1191, j: 8, True: 4.0, Pred: 3.055811882019043\n",
      "i: 1194, j: 11, True: 4.0, Pred: 4.258490085601807\n",
      "i: 1202, j: 22, True: 5.0, Pred: 4.556121826171875\n",
      "i: 1207, j: 2, True: 4.0, Pred: 4.149378299713135\n",
      "i: 1207, j: 22, True: 2.0, Pred: 4.6133809089660645\n",
      "i: 1211, j: 11, True: 4.5, Pred: 3.3637282848358154\n",
      "i: 1213, j: 14, True: 5.0, Pred: 5.005434036254883\n",
      "i: 1216, j: 22, True: 5.0, Pred: 4.336508274078369\n",
      "i: 1217, j: 19, True: 4.5, Pred: 4.551180362701416\n",
      "i: 1225, j: 17, True: 4.0, Pred: 3.2136058807373047\n",
      "i: 1226, j: 7, True: 4.0, Pred: 3.6338765621185303\n",
      "i: 1232, j: 4, True: 4.0, Pred: 4.17437744140625\n",
      "i: 1232, j: 8, True: 3.0, Pred: 3.689859628677368\n",
      "i: 1233, j: 8, True: 1.0, Pred: 3.7275445461273193\n",
      "i: 1237, j: 2, True: 3.5, Pred: 4.2435302734375\n",
      "i: 1237, j: 3, True: 2.5, Pred: 3.609894037246704\n",
      "i: 1237, j: 7, True: 4.0, Pred: 3.8899617195129395\n",
      "i: 1237, j: 22, True: 5.0, Pred: 4.328314304351807\n",
      "i: 1237, j: 26, True: 4.0, Pred: 3.4574856758117676\n",
      "i: 1238, j: 4, True: 4.0, Pred: 3.3532893657684326\n",
      "i: 1238, j: 8, True: 4.0, Pred: 3.831899642944336\n",
      "i: 1254, j: 1, True: 5.0, Pred: 3.8163111209869385\n",
      "i: 1257, j: 4, True: 3.0, Pred: 3.7557947635650635\n",
      "i: 1258, j: 4, True: 4.0, Pred: 4.800301551818848\n",
      "i: 1258, j: 8, True: 4.0, Pred: 4.353631973266602\n",
      "i: 1258, j: 14, True: 4.0, Pred: 4.17389440536499\n",
      "i: 1260, j: 22, True: 5.0, Pred: 4.474551677703857\n",
      "i: 1264, j: 22, True: 3.0, Pred: 3.8814077377319336\n",
      "i: 1268, j: 4, True: 4.0, Pred: 3.965658664703369\n",
      "i: 1268, j: 8, True: 3.0, Pred: 4.282539367675781\n",
      "i: 1270, j: 17, True: 0.5, Pred: 3.3302481174468994\n",
      "i: 1270, j: 22, True: 5.0, Pred: 4.456714630126953\n",
      "i: 1286, j: 2, True: 3.5, Pred: 3.610485553741455\n",
      "i: 1292, j: 8, True: 3.0, Pred: 3.370729923248291\n",
      "i: 1309, j: 4, True: 3.0, Pred: 3.9661362171173096\n",
      "i: 1331, j: 11, True: 1.0, Pred: 3.0942747592926025\n",
      "i: 1334, j: 8, True: 4.0, Pred: 4.241988658905029\n",
      "i: 1335, j: 19, True: 4.0, Pred: 3.863128423690796\n",
      "i: 1336, j: 19, True: 4.5, Pred: 3.5695598125457764\n",
      "i: 1338, j: 1, True: 4.5, Pred: 3.9179327487945557\n",
      "i: 1338, j: 22, True: 5.0, Pred: 4.081788539886475\n",
      "i: 1340, j: 1, True: 5.0, Pred: 3.7213451862335205\n",
      "i: 1343, j: 8, True: 1.0, Pred: 3.7233667373657227\n",
      "i: 1344, j: 11, True: 4.0, Pred: 3.1029789447784424\n",
      "i: 1351, j: 11, True: 4.0, Pred: 3.7686197757720947\n",
      "i: 1351, j: 26, True: 1.0, Pred: 3.3285772800445557\n",
      "i: 1355, j: 7, True: 4.0, Pred: 3.4791102409362793\n",
      "i: 1369, j: 4, True: 5.0, Pred: 3.8613603115081787\n",
      "i: 1369, j: 11, True: 3.0, Pred: 3.0454211235046387\n",
      "i: 1369, j: 27, True: 5.0, Pred: 4.884922504425049\n",
      "i: 1371, j: 7, True: 3.0, Pred: 3.8953614234924316\n",
      "i: 1400, j: 7, True: 2.0, Pred: 3.7497620582580566\n",
      "i: 1401, j: 12, True: 2.5, Pred: 3.415513277053833\n",
      "i: 1422, j: 27, True: 5.0, Pred: 4.3778886795043945\n",
      "i: 1424, j: 22, True: 4.0, Pred: 4.458168029785156\n",
      "i: 1433, j: 11, True: 1.5, Pred: 3.428938150405884\n",
      "i: 1452, j: 12, True: 4.0, Pred: 3.587447166442871\n",
      "i: 1452, j: 22, True: 4.0, Pred: 4.094850063323975\n",
      "i: 1466, j: 11, True: 4.5, Pred: 2.8817713260650635\n",
      "i: 1466, j: 22, True: 5.0, Pred: 3.8274569511413574\n",
      "i: 1475, j: 17, True: 3.0, Pred: 3.178572177886963\n",
      "i: 1510, j: 18, True: 2.5, Pred: 3.109220266342163\n",
      "i: 1523, j: 11, True: 3.5, Pred: 3.4540390968322754\n",
      "i: 1523, j: 17, True: 4.0, Pred: 3.652639150619507\n",
      "i: 1523, j: 30, True: 3.0, Pred: 2.553412675857544\n",
      "i: 1546, j: 7, True: 2.0, Pred: 3.550715684890747\n",
      "i: 1550, j: 30, True: 1.0, Pred: 2.2702629566192627\n",
      "i: 1552, j: 22, True: 3.0, Pred: 4.354854583740234\n",
      "i: 1559, j: 11, True: 4.0, Pred: 4.117315292358398\n",
      "i: 1559, j: 22, True: 5.0, Pred: 4.625781059265137\n",
      "i: 1566, j: 22, True: 5.0, Pred: 4.064549446105957\n",
      "i: 1566, j: 30, True: 3.0, Pred: 2.5205178260803223\n",
      "i: 1575, j: 11, True: 3.0, Pred: 3.3032054901123047\n",
      "i: 1591, j: 17, True: 3.5, Pred: 3.3233377933502197\n",
      "i: 1591, j: 22, True: 5.0, Pred: 3.832780599594116\n",
      "i: 1601, j: 22, True: 5.0, Pred: 3.8022959232330322\n",
      "i: 1610, j: 1, True: 4.5, Pred: 3.4776415824890137\n",
      "i: 1611, j: 22, True: 3.0, Pred: 4.305853366851807\n",
      "i: 1611, j: 28, True: 3.5, Pred: 3.921765089035034\n",
      "i: 1618, j: 11, True: 4.5, Pred: 3.37796688079834\n",
      "i: 1620, j: 29, True: 3.5, Pred: 3.537727117538452\n",
      "i: 1628, j: 18, True: 4.0, Pred: 2.932957410812378\n",
      "i: 1630, j: 30, True: 2.0, Pred: 2.489382743835449\n",
      "i: 1637, j: 22, True: 4.0, Pred: 4.00214147567749\n",
      "i: 1640, j: 5, True: 5.0, Pred: 3.7354750633239746\n",
      "i: 1655, j: 7, True: 4.0, Pred: 4.096068859100342\n",
      "i: 1655, j: 12, True: 3.5, Pred: 3.2552616596221924\n",
      "i: 1663, j: 22, True: 4.0, Pred: 4.024476528167725\n",
      "i: 1688, j: 11, True: 3.5, Pred: 2.4499192237854004\n",
      "i: 1707, j: 11, True: 4.5, Pred: 3.9195072650909424\n",
      "i: 1715, j: 22, True: 2.0, Pred: 4.266580104827881\n",
      "i: 1749, j: 11, True: 2.0, Pred: 3.409632444381714\n",
      "i: 1752, j: 22, True: 5.0, Pred: 4.585864543914795\n",
      "i: 1769, j: 22, True: 2.0, Pred: 4.761539459228516\n",
      "i: 1793, j: 2, True: 2.0, Pred: 2.615388870239258\n",
      "i: 1796, j: 22, True: 3.0, Pred: 3.782400369644165\n",
      "i: 1818, j: 1, True: 4.0, Pred: 3.7972252368927\n",
      "i: 1820, j: 18, True: 3.0, Pred: 3.528318405151367\n",
      "i: 1828, j: 30, True: 2.0, Pred: 2.1395881175994873\n",
      "i: 1832, j: 12, True: 3.5, Pred: 3.8991212844848633\n",
      "i: 1834, j: 11, True: 2.0, Pred: 3.294450521469116\n",
      "i: 1865, j: 22, True: 5.0, Pred: 4.474490165710449\n",
      "i: 1868, j: 22, True: 5.0, Pred: 4.18384313583374\n",
      "i: 1870, j: 22, True: 5.0, Pred: 4.331284046173096\n",
      "i: 1871, j: 9, True: 3.5, Pred: 3.1790318489074707\n",
      "i: 1871, j: 11, True: 4.0, Pred: 3.6276426315307617\n",
      "i: 1872, j: 30, True: 3.5, Pred: 2.6695711612701416\n",
      "i: 1879, j: 11, True: 5.0, Pred: 3.710862636566162\n",
      "i: 1911, j: 11, True: 2.5, Pred: 3.532787561416626\n",
      "i: 1911, j: 17, True: 4.0, Pred: 3.918443202972412\n",
      "i: 1911, j: 30, True: 3.0, Pred: 2.602621555328369\n",
      "i: 1913, j: 22, True: 3.0, Pred: 3.542316198348999\n",
      "i: 1915, j: 11, True: 2.0, Pred: 2.430332660675049\n",
      "i: 1922, j: 0, True: 2.5, Pred: 2.8422718048095703\n",
      "i: 1923, j: 30, True: 2.0, Pred: 2.66375470161438\n",
      "i: 1939, j: 12, True: 4.5, Pred: 4.471752643585205\n",
      "i: 1939, j: 15, True: 4.0, Pred: 4.602442741394043\n",
      "i: 1939, j: 30, True: 2.5, Pred: 2.835988998413086\n",
      "i: 1953, j: 11, True: 1.0, Pred: 2.5959882736206055\n",
      "i: 1965, j: 19, True: 3.0, Pred: 3.461946964263916\n",
      "i: 1969, j: 22, True: 4.0, Pred: 3.8715403079986572\n",
      "i: 1979, j: 0, True: 2.5, Pred: 4.351448059082031\n",
      "i: 1991, j: 18, True: 2.0, Pred: 3.3358945846557617\n",
      "i: 1992, j: 1, True: 1.5, Pred: 3.538529396057129\n",
      "i: 1992, j: 11, True: 2.5, Pred: 3.305633306503296\n",
      "i: 1992, j: 18, True: 2.5, Pred: 2.9891932010650635\n",
      "i: 1992, j: 30, True: 3.0, Pred: 2.773571014404297\n",
      "i: 2018, j: 11, True: 4.0, Pred: 2.9953348636627197\n",
      "i: 2025, j: 22, True: 5.0, Pred: 4.167795181274414\n",
      "i: 2054, j: 11, True: 4.5, Pred: 3.249850273132324\n",
      "i: 2054, j: 22, True: 4.0, Pred: 3.6471681594848633\n",
      "i: 2055, j: 26, True: 5.0, Pred: 3.6585848331451416\n",
      "i: 2060, j: 22, True: 4.0, Pred: 4.258634090423584\n",
      "i: 2071, j: 25, True: 3.5, Pred: 3.3186001777648926\n",
      "i: 2075, j: 14, True: 5.0, Pred: 4.18181848526001\n",
      "i: 2084, j: 11, True: 4.5, Pred: 3.355661630630493\n",
      "i: 2084, j: 17, True: 4.0, Pred: 3.0326061248779297\n",
      "i: 2084, j: 30, True: 1.0, Pred: 2.4472408294677734\n",
      "i: 2103, j: 11, True: 4.0, Pred: 3.3644332885742188\n",
      "i: 2141, j: 12, True: 3.5, Pred: 4.04741096496582\n",
      "i: 2145, j: 22, True: 2.0, Pred: 3.6202945709228516\n",
      "i: 2162, j: 11, True: 3.0, Pred: 2.292509078979492\n",
      "i: 2182, j: 23, True: 4.0, Pred: 4.196482181549072\n",
      "i: 2197, j: 12, True: 4.0, Pred: 4.40420389175415\n",
      "i: 2205, j: 12, True: 2.5, Pred: 2.7203633785247803\n",
      "i: 2210, j: 22, True: 4.0, Pred: 3.8122854232788086\n",
      "i: 2227, j: 11, True: 2.0, Pred: 3.335696220397949\n",
      "i: 2233, j: 1, True: 1.5, Pred: 3.90685772895813\n",
      "i: 2233, j: 11, True: 3.5, Pred: 4.681678295135498\n",
      "i: 2236, j: 11, True: 2.0, Pred: 2.8589725494384766\n",
      "i: 2238, j: 10, True: 2.5, Pred: 3.317534923553467\n",
      "i: 2238, j: 13, True: 4.0, Pred: 4.781832218170166\n",
      "i: 2238, j: 30, True: 2.5, Pred: 2.5694472789764404\n",
      "i: 2245, j: 22, True: 4.0, Pred: 4.302822113037109\n",
      "i: 2265, j: 11, True: 3.0, Pred: 3.1167924404144287\n",
      "i: 2290, j: 11, True: 1.0, Pred: 2.548147439956665\n",
      "i: 2292, j: 11, True: 1.0, Pred: 2.6328787803649902\n",
      "i: 2299, j: 11, True: 3.5, Pred: 3.6457982063293457\n",
      "i: 2303, j: 22, True: 2.0, Pred: 3.50555419921875\n",
      "i: 2305, j: 11, True: 4.0, Pred: 3.896758794784546\n",
      "i: 2315, j: 14, True: 3.0, Pred: 3.8959038257598877\n",
      "i: 2319, j: 22, True: 3.0, Pred: 3.7881782054901123\n",
      "i: 2322, j: 11, True: 4.5, Pred: 3.344135046005249\n",
      "i: 2326, j: 22, True: 2.0, Pred: 4.256534576416016\n",
      "i: 2336, j: 14, True: 5.0, Pred: 4.969720840454102\n",
      "i: 2356, j: 11, True: 2.0, Pred: 2.0340988636016846\n",
      "i: 2379, j: 22, True: 4.0, Pred: 3.5897884368896484\n",
      "i: 2383, j: 22, True: 5.0, Pred: 4.002593994140625\n",
      "i: 2387, j: 11, True: 3.5, Pred: 2.366661787033081\n",
      "i: 2390, j: 11, True: 3.5, Pred: 3.1829476356506348\n",
      "i: 2411, j: 12, True: 5.0, Pred: 4.303296089172363\n",
      "i: 2413, j: 22, True: 4.0, Pred: 3.4571516513824463\n",
      "i: 2429, j: 30, True: 2.0, Pred: 2.753350019454956\n",
      "i: 2480, j: 18, True: 4.0, Pred: 4.092096328735352\n",
      "i: 2480, j: 25, True: 5.0, Pred: 3.625847578048706\n",
      "i: 2480, j: 30, True: 2.0, Pred: 2.5587496757507324\n",
      "i: 2481, j: 11, True: 3.0, Pred: 2.9091954231262207\n",
      "i: 2482, j: 0, True: 4.0, Pred: 2.678626537322998\n",
      "i: 2549, j: 30, True: 3.0, Pred: 2.5525050163269043\n",
      "i: 2550, j: 2, True: 3.0, Pred: 3.5259649753570557\n",
      "i: 2591, j: 22, True: 3.0, Pred: 3.507711887359619\n",
      "i: 2602, j: 23, True: 4.0, Pred: 3.3735129833221436\n",
      "i: 2607, j: 11, True: 3.0, Pred: 2.6329565048217773\n",
      "i: 2608, j: 27, True: 5.0, Pred: 4.598150730133057\n",
      "i: 2614, j: 11, True: 4.0, Pred: 2.762087345123291\n",
      "i: 2614, j: 17, True: 4.0, Pred: 3.6519861221313477\n",
      "i: 2614, j: 22, True: 4.0, Pred: 3.931704044342041\n",
      "i: 2618, j: 11, True: 4.0, Pred: 2.650995969772339\n",
      "i: 2647, j: 11, True: 4.0, Pred: 3.3636345863342285\n",
      "i: 2655, j: 28, True: 4.0, Pred: 2.8192460536956787\n",
      "i: 2669, j: 1, True: 0.5, Pred: 3.6515774726867676\n",
      "i: 2669, j: 12, True: 5.0, Pred: 3.961778163909912\n",
      "i: 2670, j: 1, True: 4.0, Pred: 4.244678974151611\n",
      "i: 2678, j: 27, True: 5.0, Pred: 4.194387912750244\n",
      "i: 2696, j: 11, True: 5.0, Pred: 3.6798741817474365\n",
      "i: 2718, j: 18, True: 4.5, Pred: 4.312123775482178\n",
      "i: 2734, j: 27, True: 4.0, Pred: 4.515597343444824\n",
      "i: 2766, j: 12, True: 4.0, Pred: 4.551208972930908\n",
      "i: 2779, j: 30, True: 2.5, Pred: 2.778413772583008\n",
      "i: 2780, j: 19, True: 3.0, Pred: 3.855590343475342\n",
      "i: 2789, j: 11, True: 2.0, Pred: 3.054656505584717\n",
      "i: 2796, j: 11, True: 2.5, Pred: 2.963397741317749\n",
      "i: 2809, j: 11, True: 1.0, Pred: 3.097883939743042\n",
      "i: 2810, j: 11, True: 1.0, Pred: 3.5157899856567383\n",
      "i: 2823, j: 9, True: 3.0, Pred: 3.292083740234375\n",
      "i: 2826, j: 14, True: 5.0, Pred: 4.585025310516357\n",
      "i: 2830, j: 26, True: 5.0, Pred: 3.719010353088379\n",
      "i: 2852, j: 9, True: 3.0, Pred: 3.7869133949279785\n",
      "i: 2855, j: 17, True: 3.0, Pred: 2.9995486736297607\n",
      "i: 2857, j: 19, True: 4.5, Pred: 4.028977870941162\n",
      "i: 2861, j: 11, True: 2.0, Pred: 1.9585078954696655\n",
      "i: 2867, j: 13, True: 5.0, Pred: 4.877895355224609\n",
      "i: 2875, j: 30, True: 3.0, Pred: 2.5808863639831543\n",
      "i: 2895, j: 29, True: 5.0, Pred: 3.6097521781921387\n",
      "i: 2901, j: 3, True: 3.5, Pred: 2.7904040813446045\n",
      "i: 2905, j: 30, True: 2.5, Pred: 2.5165317058563232\n",
      "i: 2914, j: 22, True: 4.0, Pred: 4.542243957519531\n",
      "i: 2940, j: 12, True: 4.0, Pred: 3.590959072113037\n",
      "i: 2946, j: 26, True: 4.0, Pred: 3.579505443572998\n",
      "i: 2988, j: 30, True: 3.0, Pred: 2.414820432662964\n",
      "i: 3008, j: 19, True: 4.0, Pred: 3.8032968044281006\n",
      "i: 3055, j: 1, True: 2.0, Pred: 3.6785717010498047\n",
      "i: 3055, j: 11, True: 3.5, Pred: 3.9258809089660645\n",
      "i: 3074, j: 22, True: 5.0, Pred: 4.267447471618652\n",
      "i: 3082, j: 1, True: 3.5, Pred: 3.514312982559204\n",
      "i: 3082, j: 12, True: 4.0, Pred: 3.7836320400238037\n",
      "i: 3093, j: 11, True: 2.0, Pred: 3.144421100616455\n",
      "i: 3105, j: 19, True: 5.0, Pred: 4.010218620300293\n",
      "i: 3157, j: 11, True: 3.5, Pred: 3.695225954055786\n",
      "i: 3181, j: 11, True: 2.0, Pred: 3.186354160308838\n",
      "i: 3203, j: 11, True: 4.5, Pred: 2.6658027172088623\n",
      "i: 3207, j: 27, True: 4.0, Pred: 4.910584926605225\n",
      "i: 3235, j: 18, True: 4.0, Pred: 4.111023426055908\n",
      "i: 3261, j: 12, True: 3.5, Pred: 2.5920822620391846\n",
      "i: 3262, j: 17, True: 3.5, Pred: 2.857071876525879\n",
      "i: 3264, j: 11, True: 2.0, Pred: 2.8846001625061035\n",
      "i: 3292, j: 11, True: 1.0, Pred: 3.61550235748291\n",
      "i: 3293, j: 11, True: 3.0, Pred: 2.649813652038574\n",
      "i: 3313, j: 2, True: 3.5, Pred: 3.551487445831299\n",
      "i: 3324, j: 30, True: 2.5, Pred: 2.332331895828247\n",
      "i: 3380, j: 28, True: 3.5, Pred: 4.625814914703369\n",
      "i: 3382, j: 1, True: 2.0, Pred: 3.583078384399414\n",
      "i: 3385, j: 18, True: 2.5, Pred: 3.5208401679992676\n",
      "i: 3396, j: 26, True: 3.0, Pred: 3.8340461254119873\n",
      "i: 3401, j: 17, True: 3.0, Pred: 2.927790403366089\n",
      "i: 3479, j: 11, True: 3.5, Pred: 4.017612934112549\n",
      "i: 3479, j: 30, True: 3.0, Pred: 2.817681074142456\n",
      "i: 3482, j: 11, True: 3.0, Pred: 3.1005985736846924\n",
      "i: 3500, j: 30, True: 2.0, Pred: 2.116879463195801\n",
      "i: 3524, j: 23, True: 4.0, Pred: 3.892869234085083\n",
      "i: 3524, j: 30, True: 2.0, Pred: 2.0926287174224854\n",
      "i: 3525, j: 3, True: 2.5, Pred: 2.9513540267944336\n",
      "i: 3580, j: 3, True: 3.5, Pred: 3.414480447769165\n",
      "i: 3580, j: 19, True: 4.5, Pred: 3.986085891723633\n",
      "i: 3639, j: 11, True: 1.5, Pred: 3.2037763595581055\n",
      "i: 3641, j: 30, True: 2.5, Pred: 2.1604204177856445\n",
      "i: 3650, j: 2, True: 4.0, Pred: 3.6144773960113525\n",
      "i: 3684, j: 2, True: 3.0, Pred: 3.000760555267334\n",
      "i: 3692, j: 11, True: 2.0, Pred: 3.3871588706970215\n",
      "i: 3692, j: 17, True: 4.0, Pred: 3.5393118858337402\n",
      "i: 3693, j: 11, True: 2.0, Pred: 2.957152843475342\n",
      "i: 3724, j: 11, True: 1.0, Pred: 2.388892889022827\n",
      "i: 3725, j: 2, True: 2.5, Pred: 3.212357759475708\n",
      "i: 3725, j: 3, True: 3.0, Pred: 2.48533296585083\n",
      "i: 3760, j: 11, True: 1.5, Pred: 2.619819164276123\n",
      "i: 3760, j: 14, True: 4.0, Pred: 3.7172935009002686\n",
      "i: 3813, j: 1, True: 3.0, Pred: 3.6399269104003906\n",
      "i: 3841, j: 18, True: 3.0, Pred: 2.194288492202759\n",
      "i: 3844, j: 1, True: 3.0, Pred: 3.664958953857422\n",
      "i: 3844, j: 11, True: 2.0, Pred: 3.158785581588745\n",
      "i: 3844, j: 30, True: 2.5, Pred: 2.393584966659546\n",
      "i: 3863, j: 11, True: 5.0, Pred: 3.7839784622192383\n",
      "i: 3864, j: 2, True: 3.0, Pred: 3.290834665298462\n",
      "i: 3882, j: 9, True: 4.0, Pred: 2.2937846183776855\n",
      "i: 3912, j: 1, True: 5.0, Pred: 3.471766948699951\n",
      "i: 3914, j: 23, True: 3.5, Pred: 4.156920433044434\n",
      "i: 3915, j: 1, True: 3.5, Pred: 3.8058383464813232\n",
      "i: 3918, j: 18, True: 3.5, Pred: 3.486584186553955\n",
      "i: 3919, j: 1, True: 3.0, Pred: 3.2182867527008057\n",
      "i: 3919, j: 2, True: 4.0, Pred: 3.781508445739746\n",
      "i: 3919, j: 25, True: 3.0, Pred: 3.5730273723602295\n",
      "i: 3923, j: 2, True: 4.5, Pred: 4.147159576416016\n",
      "i: 3923, j: 12, True: 4.5, Pred: 4.11217737197876\n",
      "i: 3935, j: 11, True: 2.5, Pred: 3.229170560836792\n",
      "i: 3965, j: 2, True: 3.0, Pred: 3.1313138008117676\n",
      "i: 4001, j: 11, True: 4.0, Pred: 3.9805617332458496\n",
      "i: 4040, j: 0, True: 5.0, Pred: 4.102283000946045\n",
      "i: 4044, j: 18, True: 3.5, Pred: 3.0930840969085693\n",
      "i: 4122, j: 2, True: 4.0, Pred: 4.502359867095947\n",
      "i: 4122, j: 12, True: 4.5, Pred: 4.6131672859191895\n",
      "i: 4158, j: 2, True: 4.5, Pred: 4.278325080871582\n",
      "i: 4165, j: 17, True: 4.0, Pred: 2.9668688774108887\n",
      "i: 4201, j: 11, True: 4.0, Pred: 4.037163734436035\n",
      "i: 4201, j: 12, True: 4.0, Pred: 4.107487201690674\n",
      "i: 4201, j: 30, True: 2.0, Pred: 2.584906578063965\n",
      "i: 4203, j: 0, True: 3.0, Pred: 4.504384517669678\n",
      "i: 4203, j: 3, True: 3.5, Pred: 3.832102060317993\n",
      "i: 4205, j: 18, True: 1.5, Pred: 2.1497788429260254\n",
      "i: 4207, j: 18, True: 3.5, Pred: 3.6034767627716064\n",
      "i: 4238, j: 2, True: 3.0, Pred: 3.365758180618286\n",
      "i: 4239, j: 2, True: 4.0, Pred: 3.2177982330322266\n",
      "i: 4273, j: 11, True: 4.0, Pred: 2.7955987453460693\n",
      "i: 4278, j: 2, True: 4.0, Pred: 3.855022430419922\n",
      "i: 4283, j: 2, True: 3.0, Pred: 3.2871382236480713\n",
      "i: 4283, j: 20, True: 0.5, Pred: 2.6382222175598145\n",
      "i: 4288, j: 30, True: 2.5, Pred: 1.9676529169082642\n",
      "i: 4314, j: 30, True: 4.0, Pred: 2.4720327854156494\n",
      "i: 4319, j: 22, True: 3.0, Pred: 3.595951557159424\n",
      "i: 4341, j: 18, True: 2.5, Pred: 3.0588293075561523\n",
      "i: 4466, j: 11, True: 4.0, Pred: 2.887266159057617\n",
      "i: 4466, j: 19, True: 1.0, Pred: 3.681929349899292\n",
      "i: 4533, j: 18, True: 2.0, Pred: 2.6769511699676514\n",
      "i: 4535, j: 18, True: 3.5, Pred: 3.3826959133148193\n",
      "i: 4538, j: 2, True: 4.0, Pred: 3.145089626312256\n",
      "i: 4596, j: 2, True: 3.0, Pred: 3.6227896213531494\n",
      "i: 4598, j: 11, True: 4.0, Pred: 3.47367000579834\n",
      "i: 4615, j: 17, True: 4.0, Pred: 3.113750457763672\n",
      "i: 4722, j: 18, True: 2.5, Pred: 3.521040439605713\n",
      "i: 4738, j: 30, True: 2.5, Pred: 2.4290785789489746\n",
      "i: 4768, j: 20, True: 4.0, Pred: 3.9226431846618652\n",
      "i: 4780, j: 1, True: 5.0, Pred: 3.9304518699645996\n",
      "i: 4857, j: 1, True: 4.0, Pred: 4.0474934577941895\n",
      "i: 4857, j: 17, True: 4.0, Pred: 3.538677215576172\n",
      "i: 4857, j: 18, True: 2.5, Pred: 3.365367889404297\n",
      "i: 4869, j: 2, True: 3.5, Pred: 3.804142475128174\n",
      "i: 4873, j: 11, True: 4.5, Pred: 3.834663152694702\n",
      "i: 4887, j: 2, True: 4.0, Pred: 4.2148895263671875\n",
      "i: 4887, j: 10, True: 4.0, Pred: 2.7412333488464355\n",
      "i: 4887, j: 12, True: 4.5, Pred: 4.953065395355225\n",
      "i: 4889, j: 29, True: 3.0, Pred: 3.7367820739746094\n",
      "i: 4904, j: 1, True: 2.0, Pred: 3.738194227218628\n",
      "i: 4954, j: 22, True: 5.0, Pred: 4.459005832672119\n",
      "i: 4966, j: 18, True: 4.0, Pred: 3.462231397628784\n",
      "i: 5110, j: 18, True: 3.0, Pred: 3.110008955001831\n",
      "i: 5111, j: 3, True: 2.0, Pred: 2.7945430278778076\n",
      "i: 5136, j: 12, True: 4.0, Pred: 3.3022680282592773\n",
      "i: 5158, j: 2, True: 3.5, Pred: 3.6186695098876953\n",
      "i: 5183, j: 2, True: 5.0, Pred: 4.184488296508789\n",
      "i: 5270, j: 11, True: 3.5, Pred: 2.750216484069824\n",
      "i: 5296, j: 30, True: 3.0, Pred: 2.223137855529785\n",
      "i: 5337, j: 2, True: 3.5, Pred: 3.9369165897369385\n",
      "i: 5337, j: 20, True: 4.5, Pred: 4.108043193817139\n",
      "i: 5351, j: 12, True: 3.0, Pred: 2.9687623977661133\n",
      "i: 5351, j: 18, True: 2.5, Pred: 2.637164831161499\n",
      "i: 5355, j: 12, True: 2.0, Pred: 3.077469825744629\n",
      "i: 5364, j: 30, True: 1.0, Pred: 2.3170535564422607\n",
      "i: 5373, j: 18, True: 2.0, Pred: 2.9521493911743164\n",
      "i: 5394, j: 2, True: 3.0, Pred: 3.335117816925049\n",
      "i: 5508, j: 11, True: 4.0, Pred: 4.133862018585205\n",
      "i: 5508, j: 15, True: 5.0, Pred: 4.460342884063721\n",
      "i: 5520, j: 2, True: 3.0, Pred: 3.8229546546936035\n",
      "i: 5573, j: 0, True: 2.0, Pred: 3.6351523399353027\n",
      "i: 5655, j: 0, True: 5.0, Pred: 3.5947999954223633\n",
      "i: 5673, j: 2, True: 2.0, Pred: 3.313401937484741\n",
      "i: 5684, j: 11, True: 4.0, Pred: 2.9143760204315186\n",
      "i: 5704, j: 2, True: 3.5, Pred: 3.4754693508148193\n",
      "i: 5704, j: 18, True: 3.5, Pred: 3.0235707759857178\n",
      "i: 5760, j: 11, True: 3.0, Pred: 2.7770180702209473\n",
      "i: 5760, j: 18, True: 2.5, Pred: 2.986912727355957\n",
      "i: 5770, j: 12, True: 3.5, Pred: 3.4699277877807617\n",
      "i: 5832, j: 11, True: 3.5, Pred: 3.174510955810547\n",
      "i: 5833, j: 2, True: 4.0, Pred: 3.6431822776794434\n",
      "i: 5833, j: 30, True: 3.0, Pred: 2.5742502212524414\n",
      "i: 5840, j: 2, True: 4.0, Pred: 4.180369853973389\n",
      "i: 5840, j: 20, True: 5.0, Pred: 5.466527462005615\n",
      "i: 5843, j: 1, True: 4.0, Pred: 3.6897408962249756\n",
      "i: 5904, j: 15, True: 5.0, Pred: 4.530593395233154\n",
      "i: 5947, j: 2, True: 3.5, Pred: 3.7702572345733643\n",
      "i: 6142, j: 11, True: 4.0, Pred: 2.383382797241211\n",
      "i: 6169, j: 2, True: 2.5, Pred: 3.8105907440185547\n",
      "i: 6175, j: 1, True: 2.0, Pred: 3.0604517459869385\n",
      "i: 6185, j: 11, True: 3.5, Pred: 3.282982587814331\n",
      "i: 6199, j: 1, True: 5.0, Pred: 3.4800198078155518\n",
      "i: 6221, j: 1, True: 5.0, Pred: 3.85518217086792\n",
      "i: 6238, j: 15, True: 4.5, Pred: 4.5052103996276855\n",
      "i: 6238, j: 18, True: 5.0, Pred: 4.34962272644043\n",
      "i: 6258, j: 3, True: 3.0, Pred: 3.4216854572296143\n",
      "i: 6258, j: 12, True: 4.0, Pred: 4.205798625946045\n",
      "i: 6258, j: 16, True: 2.5, Pred: 3.648118019104004\n",
      "i: 6258, j: 18, True: 2.5, Pred: 3.6444597244262695\n",
      "i: 6258, j: 30, True: 3.0, Pred: 2.7639827728271484\n",
      "i: 6259, j: 30, True: 2.5, Pred: 2.21238374710083\n",
      "i: 6318, j: 30, True: 1.5, Pred: 2.223095178604126\n",
      "i: 6379, j: 2, True: 3.0, Pred: 4.0270233154296875\n",
      "i: 6379, j: 9, True: 4.5, Pred: 3.586550712585449\n",
      "i: 6379, j: 12, True: 5.0, Pred: 3.796926736831665\n",
      "i: 6414, j: 12, True: 2.5, Pred: 3.15083909034729\n",
      "i: 6416, j: 20, True: 5.0, Pred: 4.429817199707031\n",
      "i: 6425, j: 19, True: 4.0, Pred: 3.2675108909606934\n",
      "i: 6441, j: 19, True: 4.0, Pred: 2.8429207801818848\n",
      "i: 6463, j: 2, True: 3.5, Pred: 3.5851144790649414\n",
      "i: 6588, j: 2, True: 4.0, Pred: 4.267390727996826\n",
      "i: 6630, j: 1, True: 3.0, Pred: 3.562112808227539\n",
      "i: 6631, j: 17, True: 4.0, Pred: 3.350353717803955\n",
      "i: 6650, j: 18, True: 4.0, Pred: 3.372398853302002\n",
      "i: 6664, j: 30, True: 4.0, Pred: 2.604696035385132\n",
      "i: 6740, j: 11, True: 3.5, Pred: 3.2495148181915283\n",
      "i: 6744, j: 11, True: 4.0, Pred: 3.3058559894561768\n",
      "i: 6751, j: 2, True: 4.5, Pred: 4.131603717803955\n",
      "i: 6809, j: 12, True: 3.0, Pred: 2.765932559967041\n",
      "i: 6965, j: 2, True: 4.0, Pred: 4.331406116485596\n",
      "i: 7022, j: 2, True: 4.5, Pred: 4.057106971740723\n",
      "i: 7022, j: 12, True: 3.5, Pred: 4.211701393127441\n",
      "i: 7022, j: 18, True: 3.5, Pred: 3.683260679244995\n",
      "i: 7028, j: 3, True: 4.0, Pred: 3.5081095695495605\n",
      "i: 7028, j: 10, True: 4.0, Pred: 2.7599081993103027\n",
      "i: 7037, j: 1, True: 0.5, Pred: 3.5537805557250977\n",
      "i: 7048, j: 30, True: 1.5, Pred: 2.5241801738739014\n",
      "i: 7168, j: 2, True: 3.0, Pred: 3.3715133666992188\n",
      "i: 7193, j: 18, True: 2.0, Pred: 3.5598270893096924\n",
      "i: 7199, j: 3, True: 3.0, Pred: 3.4208977222442627\n",
      "i: 7202, j: 0, True: 3.5, Pred: 3.581857204437256\n",
      "i: 7240, j: 0, True: 4.0, Pred: 3.7061219215393066\n",
      "i: 7299, j: 3, True: 3.5, Pred: 4.014744281768799\n",
      "i: 7299, j: 18, True: 3.5, Pred: 3.382282257080078\n",
      "i: 7305, j: 9, True: 1.0, Pred: 2.6715610027313232\n",
      "i: 7305, j: 30, True: 2.5, Pred: 2.149742603302002\n",
      "i: 7315, j: 17, True: 4.0, Pred: 2.7561941146850586\n",
      "i: 7319, j: 12, True: 2.0, Pred: 3.0761194229125977\n",
      "i: 7549, j: 0, True: 2.5, Pred: 3.33613657951355\n",
      "i: 7593, j: 0, True: 3.5, Pred: 3.5052309036254883\n",
      "i: 7621, j: 30, True: 2.5, Pred: 2.3410189151763916\n",
      "i: 7654, j: 18, True: 5.0, Pred: 3.4980387687683105\n",
      "i: 7734, j: 11, True: 3.5, Pred: 3.4549343585968018\n",
      "i: 7734, j: 30, True: 1.5, Pred: 2.2464981079101562\n",
      "i: 7739, j: 11, True: 3.0, Pred: 3.7818121910095215\n",
      "i: 7744, j: 2, True: 4.0, Pred: 3.6177566051483154\n",
      "i: 7878, j: 17, True: 0.5, Pred: 3.5006370544433594\n",
      "i: 7894, j: 18, True: 5.0, Pred: 3.352634906768799\n",
      "i: 7909, j: 12, True: 4.0, Pred: 3.3336973190307617\n",
      "i: 7910, j: 17, True: 4.0, Pred: 2.7555384635925293\n",
      "i: 7928, j: 12, True: 3.0, Pred: 3.8310396671295166\n",
      "i: 7931, j: 11, True: 3.5, Pred: 3.4816179275512695\n",
      "i: 7931, j: 18, True: 2.5, Pred: 3.1770412921905518\n",
      "i: 7953, j: 2, True: 3.0, Pred: 2.9718196392059326\n",
      "i: 7982, j: 30, True: 3.0, Pred: 2.4419219493865967\n",
      "i: 8070, j: 12, True: 4.5, Pred: 4.194946765899658\n",
      "i: 8072, j: 0, True: 4.0, Pred: 4.498648643493652\n",
      "i: 8095, j: 9, True: 3.5, Pred: 2.704119920730591\n",
      "i: 8146, j: 2, True: 3.5, Pred: 3.1993024349212646\n",
      "i: 8158, j: 11, True: 3.5, Pred: 3.736421823501587\n",
      "i: 8159, j: 13, True: 4.0, Pred: 4.695467472076416\n",
      "i: 8232, j: 18, True: 2.0, Pred: 3.3801751136779785\n",
      "i: 8233, j: 30, True: 2.0, Pred: 2.6023061275482178\n",
      "i: 8234, j: 30, True: 2.5, Pred: 2.2520506381988525\n",
      "i: 8246, j: 1, True: 4.5, Pred: 4.128889560699463\n",
      "i: 8246, j: 2, True: 4.0, Pred: 3.86692214012146\n",
      "i: 8246, j: 30, True: 2.0, Pred: 2.960951566696167\n",
      "i: 8253, j: 30, True: 2.5, Pred: 2.7566516399383545\n",
      "i: 8269, j: 2, True: 4.0, Pred: 3.610851287841797\n",
      "i: 8407, j: 30, True: 3.5, Pred: 2.157217502593994\n",
      "i: 8879, j: 18, True: 3.0, Pred: 3.566347599029541\n",
      "i: 8986, j: 20, True: 4.5, Pred: 4.0662841796875\n",
      "i: 9035, j: 18, True: 5.0, Pred: 3.8216447830200195\n",
      "i: 9143, j: 0, True: 4.5, Pred: 3.5682790279388428\n",
      "i: 9262, j: 18, True: 4.0, Pred: 3.1305766105651855\n",
      "i: 9304, j: 0, True: 3.0, Pred: 3.4564757347106934\n",
      "i: 9306, j: 30, True: 3.0, Pred: 2.7381603717803955\n",
      "i: 9356, j: 2, True: 3.0, Pred: 3.46152663230896\n",
      "i: 9362, j: 1, True: 4.5, Pred: 4.049687385559082\n",
      "i: 9428, j: 1, True: 5.0, Pred: 3.5811445713043213\n",
      "i: 9435, j: 2, True: 3.5, Pred: 3.1953699588775635\n",
      "i: 9447, j: 1, True: 0.5, Pred: 3.1626601219177246\n",
      "i: 9453, j: 18, True: 5.0, Pred: 3.9806485176086426\n",
      "i: 9592, j: 18, True: 3.5, Pred: 4.278594970703125\n",
      "i: 9602, j: 2, True: 4.0, Pred: 3.3820173740386963\n",
      "i: 9616, j: 2, True: 4.5, Pred: 3.403430223464966\n",
      "i: 9863, j: 11, True: 4.0, Pred: 3.010570764541626\n",
      "i: 9863, j: 12, True: 4.0, Pred: 3.4256720542907715\n",
      "i: 9863, j: 29, True: 4.5, Pred: 3.237978935241699\n",
      "i: 9950, j: 11, True: 4.0, Pred: 3.1655046939849854\n",
      "i: 9950, j: 18, True: 3.5, Pred: 3.2120778560638428\n",
      "i: 9951, j: 12, True: 0.5, Pred: 3.3910512924194336\n",
      "i: 9973, j: 11, True: 3.5, Pred: 2.9229469299316406\n",
      "i: 9979, j: 1, True: 5.0, Pred: 3.4852328300476074\n",
      "i: 10000, j: 3, True: 3.5, Pred: 3.5386962890625\n",
      "i: 10000, j: 20, True: 5.0, Pred: 4.5417985916137695\n",
      "i: 10013, j: 30, True: 1.5, Pred: 1.907528281211853\n",
      "i: 10024, j: 11, True: 4.0, Pred: 3.2995333671569824\n",
      "i: 10053, j: 2, True: 3.0, Pred: 3.3694260120391846\n",
      "i: 10053, j: 3, True: 2.5, Pred: 2.934455394744873\n",
      "i: 10053, j: 12, True: 3.5, Pred: 2.932271718978882\n",
      "i: 10072, j: 1, True: 0.5, Pred: 3.5931663513183594\n",
      "i: 10072, j: 12, True: 3.5, Pred: 3.2817721366882324\n",
      "i: 10111, j: 13, True: 4.0, Pred: 4.523387908935547\n",
      "i: 10116, j: 11, True: 4.5, Pred: 2.678572416305542\n",
      "i: 10167, j: 12, True: 3.5, Pred: 3.737976312637329\n",
      "i: 10167, j: 19, True: 4.0, Pred: 3.7857165336608887\n",
      "i: 10167, j: 30, True: 2.0, Pred: 2.607710361480713\n",
      "i: 10202, j: 2, True: 4.0, Pred: 4.0619611740112305\n",
      "i: 10232, j: 12, True: 2.0, Pred: 2.57784366607666\n",
      "i: 10246, j: 2, True: 4.0, Pred: 3.7666726112365723\n",
      "i: 10255, j: 12, True: 3.5, Pred: 3.9910709857940674\n",
      "i: 10316, j: 12, True: 4.0, Pred: 3.847142219543457\n",
      "i: 10332, j: 2, True: 3.0, Pred: 3.6078789234161377\n",
      "i: 10406, j: 11, True: 4.0, Pred: 3.428481340408325\n",
      "i: 10448, j: 18, True: 2.5, Pred: 3.3428194522857666\n",
      "i: 10465, j: 11, True: 3.5, Pred: 2.990657329559326\n",
      "i: 10551, j: 2, True: 4.0, Pred: 3.6961371898651123\n",
      "i: 10677, j: 20, True: 4.5, Pred: 4.617794036865234\n",
      "i: 10677, j: 30, True: 3.0, Pred: 2.3016552925109863\n",
      "i: 10677, j: 32, True: 3.0, Pred: 3.949554681777954\n",
      "i: 10718, j: 12, True: 4.0, Pred: 3.515334367752075\n",
      "i: 10801, j: 2, True: 3.5, Pred: 3.3012285232543945\n",
      "i: 10802, j: 18, True: 2.0, Pred: 3.138340711593628\n",
      "i: 10828, j: 2, True: 3.0, Pred: 3.122290849685669\n",
      "i: 10834, j: 18, True: 2.0, Pred: 2.796555995941162\n",
      "i: 10907, j: 30, True: 2.0, Pred: 2.4327995777130127\n",
      "i: 11015, j: 2, True: 4.0, Pred: 3.812364101409912\n",
      "i: 11048, j: 11, True: 3.5, Pred: 3.0183756351470947\n",
      "i: 11067, j: 12, True: 3.5, Pred: 3.1196744441986084\n",
      "i: 11115, j: 2, True: 4.5, Pred: 4.364266395568848\n",
      "i: 11115, j: 12, True: 3.5, Pred: 4.342238903045654\n",
      "i: 11122, j: 12, True: 5.0, Pred: 4.522630214691162\n",
      "i: 11160, j: 30, True: 2.0, Pred: 2.558145046234131\n",
      "i: 11161, j: 2, True: 4.0, Pred: 4.47418212890625\n",
      "i: 11206, j: 2, True: 4.0, Pred: 3.6340272426605225\n",
      "i: 11244, j: 3, True: 1.0, Pred: 3.411256790161133\n",
      "i: 11289, j: 2, True: 4.0, Pred: 3.584726572036743\n",
      "i: 11326, j: 18, True: 3.5, Pred: 3.6380300521850586\n",
      "i: 11352, j: 18, True: 3.0, Pred: 3.0906875133514404\n",
      "i: 11359, j: 2, True: 4.0, Pred: 3.985502004623413\n",
      "i: 11359, j: 3, True: 4.5, Pred: 4.183949947357178\n",
      "i: 11359, j: 12, True: 4.5, Pred: 4.009246826171875\n",
      "i: 11405, j: 29, True: 2.0, Pred: 3.2723302841186523\n",
      "i: 11445, j: 12, True: 4.0, Pred: 3.5525166988372803\n",
      "i: 11445, j: 18, True: 3.0, Pred: 2.789046049118042\n",
      "i: 11445, j: 30, True: 2.0, Pred: 2.2595317363739014\n",
      "i: 11460, j: 30, True: 2.0, Pred: 2.156954050064087\n",
      "i: 11476, j: 3, True: 2.5, Pred: 4.263420581817627\n",
      "i: 11545, j: 25, True: 5.0, Pred: 3.45135235786438\n",
      "i: 11558, j: 12, True: 3.0, Pred: 2.5399773120880127\n",
      "i: 11620, j: 25, True: 4.0, Pred: 3.3683085441589355\n",
      "i: 11695, j: 2, True: 4.0, Pred: 3.1146137714385986\n",
      "i: 11697, j: 18, True: 3.0, Pred: 2.8411173820495605\n",
      "i: 11729, j: 10, True: 4.5, Pred: 2.781574010848999\n",
      "i: 11735, j: 2, True: 4.0, Pred: 3.968566656112671\n",
      "i: 11755, j: 12, True: 4.0, Pred: 3.513026237487793\n",
      "i: 11771, j: 2, True: 3.0, Pred: 3.8157122135162354\n",
      "i: 11808, j: 30, True: 2.5, Pred: 2.6178529262542725\n",
      "i: 11883, j: 11, True: 4.5, Pred: 3.4214210510253906\n",
      "i: 11905, j: 12, True: 3.5, Pred: 2.897789716720581\n",
      "i: 11924, j: 2, True: 4.0, Pred: 3.9824717044830322\n",
      "i: 11929, j: 2, True: 5.0, Pred: 4.555342674255371\n",
      "i: 11971, j: 12, True: 3.5, Pred: 2.9873437881469727\n",
      "i: 12042, j: 30, True: 2.0, Pred: 2.501155138015747\n",
      "i: 12104, j: 2, True: 4.0, Pred: 3.818485975265503\n",
      "i: 12104, j: 12, True: 3.0, Pred: 3.549151659011841\n",
      "i: 12107, j: 2, True: 3.0, Pred: 4.208085060119629\n",
      "i: 12107, j: 3, True: 4.5, Pred: 4.00131368637085\n",
      "i: 12107, j: 12, True: 4.0, Pred: 3.800910234451294\n",
      "i: 12178, j: 30, True: 3.0, Pred: 2.7288854122161865\n",
      "i: 12216, j: 18, True: 2.5, Pred: 3.8359341621398926\n",
      "i: 12315, j: 12, True: 0.5, Pred: 2.876171112060547\n",
      "i: 12319, j: 18, True: 2.5, Pred: 3.4335851669311523\n",
      "i: 12319, j: 30, True: 2.0, Pred: 2.6704535484313965\n",
      "i: 12352, j: 2, True: 3.0, Pred: 3.328366994857788\n",
      "i: 12424, j: 3, True: 4.0, Pred: 4.379134654998779\n",
      "i: 12426, j: 2, True: 4.0, Pred: 3.3831417560577393\n",
      "i: 12429, j: 30, True: 4.0, Pred: 2.348047971725464\n",
      "i: 12543, j: 2, True: 3.0, Pred: 3.672508955001831\n",
      "i: 12586, j: 3, True: 4.0, Pred: 3.593703508377075\n",
      "i: 12588, j: 2, True: 4.0, Pred: 3.652885675430298\n",
      "i: 12614, j: 2, True: 3.0, Pred: 3.1250627040863037\n",
      "i: 12665, j: 12, True: 4.0, Pred: 2.9871137142181396\n",
      "i: 12705, j: 12, True: 4.0, Pred: 2.930840492248535\n",
      "i: 12737, j: 2, True: 4.0, Pred: 3.569913625717163\n",
      "i: 12752, j: 18, True: 3.5, Pred: 3.4273507595062256\n",
      "i: 12816, j: 12, True: 2.5, Pred: 3.3766822814941406\n",
      "i: 12823, j: 2, True: 3.5, Pred: 3.3588013648986816\n",
      "i: 12872, j: 11, True: 4.5, Pred: 3.6042041778564453\n",
      "i: 12896, j: 2, True: 4.0, Pred: 3.852540969848633\n",
      "i: 13034, j: 2, True: 4.0, Pred: 3.9780561923980713\n",
      "i: 13098, j: 30, True: 2.0, Pred: 2.2157247066497803\n",
      "i: 13117, j: 18, True: 4.0, Pred: 3.292059898376465\n",
      "i: 13272, j: 2, True: 4.0, Pred: 3.2481095790863037\n",
      "i: 13272, j: 20, True: 3.0, Pred: 3.095850944519043\n",
      "i: 13280, j: 2, True: 4.0, Pred: 3.738473653793335\n",
      "i: 13280, j: 12, True: 3.0, Pred: 4.084044933319092\n",
      "i: 13307, j: 2, True: 4.0, Pred: 3.3218624591827393\n",
      "i: 13357, j: 18, True: 3.5, Pred: 3.7070417404174805\n",
      "i: 13357, j: 20, True: 4.5, Pred: 4.569339752197266\n",
      "i: 13377, j: 2, True: 4.0, Pred: 3.657294511795044\n",
      "i: 13377, j: 12, True: 4.0, Pred: 3.757373571395874\n",
      "i: 13397, j: 30, True: 3.0, Pred: 2.263843297958374\n",
      "i: 13455, j: 12, True: 1.0, Pred: 2.549731969833374\n",
      "i: 13570, j: 11, True: 4.5, Pred: 3.8776297569274902\n",
      "i: 13812, j: 2, True: 3.5, Pred: 3.5809764862060547\n",
      "i: 13814, j: 12, True: 4.0, Pred: 3.831024408340454\n",
      "i: 13976, j: 18, True: 2.5, Pred: 2.862779140472412\n",
      "i: 13988, j: 12, True: 2.5, Pred: 2.609405755996704\n",
      "i: 14017, j: 18, True: 3.5, Pred: 3.462021589279175\n",
      "i: 14094, j: 12, True: 4.0, Pred: 3.526961326599121\n",
      "i: 14094, j: 18, True: 3.5, Pred: 3.0245416164398193\n",
      "i: 14154, j: 12, True: 3.5, Pred: 3.249356985092163\n",
      "i: 14327, j: 3, True: 5.0, Pred: 4.44802713394165\n",
      "i: 14370, j: 12, True: 0.5, Pred: 3.4535109996795654\n",
      "i: 14468, j: 3, True: 2.0, Pred: 4.072735786437988\n",
      "i: 14484, j: 18, True: 4.0, Pred: 3.5560824871063232\n",
      "i: 14490, j: 3, True: 1.5, Pred: 3.4176928997039795\n",
      "i: 14490, j: 12, True: 4.0, Pred: 2.736985921859741\n",
      "i: 14667, j: 12, True: 2.0, Pred: 3.2691285610198975\n",
      "i: 14917, j: 2, True: 4.0, Pred: 3.867246150970459\n",
      "i: 14925, j: 12, True: 4.5, Pred: 4.496737003326416\n",
      "i: 14925, j: 20, True: 5.0, Pred: 5.113757610321045\n",
      "i: 15043, j: 18, True: 3.0, Pred: 3.6036360263824463\n",
      "i: 15199, j: 2, True: 3.0, Pred: 3.05342698097229\n",
      "i: 15455, j: 2, True: 4.0, Pred: 3.7519478797912598\n",
      "i: 15463, j: 18, True: 2.0, Pred: 3.834819793701172\n",
      "i: 15522, j: 20, True: 4.0, Pred: 4.028801918029785\n",
      "i: 15604, j: 2, True: 3.0, Pred: 3.3594584465026855\n",
      "i: 15658, j: 2, True: 4.0, Pred: 3.4531409740448\n",
      "i: 15658, j: 12, True: 3.5, Pred: 2.579672336578369\n",
      "i: 15658, j: 20, True: 3.0, Pred: 3.2635390758514404\n",
      "i: 15926, j: 20, True: 4.5, Pred: 4.201333522796631\n",
      "i: 16046, j: 18, True: 3.0, Pred: 2.9548139572143555\n",
      "i: 16294, j: 2, True: 4.0, Pred: 3.251962661743164\n",
      "i: 16298, j: 3, True: 4.0, Pred: 2.7638092041015625\n",
      "i: 16421, j: 2, True: 4.0, Pred: 3.67238187789917\n",
      "i: 16507, j: 2, True: 4.0, Pred: 3.898975133895874\n",
      "i: 16524, j: 2, True: 3.5, Pred: 3.5335543155670166\n",
      "i: 16555, j: 3, True: 1.0, Pred: 1.8041502237319946\n",
      "i: 16564, j: 28, True: 3.5, Pred: 2.851010322570801\n",
      "i: 16574, j: 2, True: 3.0, Pred: 3.0334765911102295\n",
      "i: 16703, j: 3, True: 2.5, Pred: 2.5037858486175537\n",
      "i: 16706, j: 12, True: 3.5, Pred: 3.7576019763946533\n",
      "i: 16706, j: 18, True: 1.0, Pred: 3.6495745182037354\n",
      "i: 16760, j: 2, True: 3.0, Pred: 3.6761257648468018\n",
      "i: 17043, j: 2, True: 4.0, Pred: 4.000303745269775\n",
      "i: 17064, j: 12, True: 3.0, Pred: 3.6922125816345215\n",
      "i: 17152, j: 2, True: 3.5, Pred: 3.5709638595581055\n",
      "i: 17268, j: 20, True: 3.5, Pred: 3.3510849475860596\n",
      "i: 17646, j: 18, True: 3.5, Pred: 3.9152991771698\n",
      "i: 17842, j: 2, True: 4.0, Pred: 3.4871089458465576\n",
      "i: 17923, j: 18, True: 4.0, Pred: 3.305014133453369\n",
      "i: 18114, j: 2, True: 4.0, Pred: 3.628161668777466\n",
      "i: 18280, j: 2, True: 4.0, Pred: 3.4716684818267822\n",
      "i: 18498, j: 18, True: 4.0, Pred: 3.0412826538085938\n",
      "i: 18509, j: 18, True: 3.5, Pred: 3.60975980758667\n",
      "i: 18611, j: 18, True: 4.0, Pred: 3.4784581661224365\n",
      "i: 18716, j: 2, True: 3.5, Pred: 4.072044849395752\n",
      "i: 18979, j: 2, True: 3.5, Pred: 3.552048444747925\n",
      "i: 19363, j: 18, True: 3.5, Pred: 3.4451773166656494\n",
      "i: 19628, j: 2, True: 4.0, Pred: 3.644412040710449\n",
      "i: 19628, j: 3, True: 1.5, Pred: 3.265684127807617\n",
      "i: 19628, j: 16, True: 5.0, Pred: 3.833037853240967\n",
      "i: 19669, j: 2, True: 4.0, Pred: 3.7713589668273926\n",
      "i: 19680, j: 2, True: 4.0, Pred: 3.763427257537842\n",
      "i: 19836, j: 2, True: 3.5, Pred: 3.517685651779175\n",
      "i: 19863, j: 16, True: 4.0, Pred: 3.959235906600952\n",
      "i: 20010, j: 18, True: 4.0, Pred: 3.5337584018707275\n",
      "i: 20069, j: 18, True: 5.0, Pred: 3.4166581630706787\n",
      "i: 20185, j: 2, True: 4.0, Pred: 3.916877031326294\n",
      "i: 20185, j: 3, True: 1.0, Pred: 4.335970401763916\n",
      "i: 20445, j: 2, True: 4.0, Pred: 3.564814567565918\n",
      "i: 20531, j: 18, True: 1.5, Pred: 3.079381227493286\n",
      "i: 20579, j: 18, True: 2.0, Pred: 3.5003061294555664\n",
      "i: 20682, j: 18, True: 3.5, Pred: 2.903165817260742\n",
      "i: 20691, j: 2, True: 3.5, Pred: 3.42195725440979\n",
      "i: 20706, j: 3, True: 5.0, Pred: 3.462800979614258\n",
      "i: 20846, j: 2, True: 3.5, Pred: 3.233645439147949\n",
      "i: 20978, j: 16, True: 3.0, Pred: 3.5832362174987793\n",
      "i: 21073, j: 2, True: 4.0, Pred: 4.45847749710083\n",
      "i: 21073, j: 3, True: 4.5, Pred: 4.357609272003174\n",
      "i: 21105, j: 2, True: 4.0, Pred: 4.350979804992676\n",
      "i: 21244, j: 18, True: 1.5, Pred: 3.46590256690979\n",
      "i: 21560, j: 13, True: 4.5, Pred: 4.644754409790039\n",
      "i: 21560, j: 16, True: 3.0, Pred: 3.867288112640381\n",
      "i: 21560, j: 18, True: 3.0, Pred: 3.631047487258911\n",
      "i: 21620, j: 2, True: 3.0, Pred: 3.4717845916748047\n",
      "i: 21673, j: 2, True: 3.0, Pred: 2.973554849624634\n",
      "i: 21716, j: 3, True: 4.5, Pred: 4.858154296875\n",
      "i: 21716, j: 18, True: 5.0, Pred: 4.257986068725586\n",
      "i: 21787, j: 20, True: 4.5, Pred: 4.292746543884277\n",
      "i: 21910, j: 2, True: 4.0, Pred: 3.1708505153656006\n",
      "i: 22172, j: 18, True: 3.5, Pred: 3.3766705989837646\n",
      "i: 22173, j: 18, True: 5.0, Pred: 3.493356943130493\n",
      "i: 22266, j: 2, True: 4.0, Pred: 4.128509044647217\n",
      "i: 22375, j: 3, True: 5.0, Pred: 4.1632795333862305\n",
      "i: 22381, j: 2, True: 4.0, Pred: 3.9480788707733154\n",
      "i: 22381, j: 18, True: 3.5, Pred: 3.6834423542022705\n",
      "i: 22780, j: 2, True: 4.0, Pred: 4.293327331542969\n",
      "i: 22780, j: 18, True: 3.5, Pred: 3.7221226692199707\n",
      "i: 22793, j: 2, True: 3.5, Pred: 3.524232864379883\n",
      "i: 23014, j: 2, True: 4.0, Pred: 3.882200241088867\n",
      "i: 23014, j: 20, True: 5.0, Pred: 3.6692168712615967\n",
      "i: 23323, j: 18, True: 2.5, Pred: 3.522897958755493\n",
      "i: 23455, j: 3, True: 4.5, Pred: 3.2621867656707764\n",
      "i: 24000, j: 18, True: 4.0, Pred: 3.8655457496643066\n",
      "i: 24533, j: 2, True: 3.5, Pred: 4.503148555755615\n",
      "i: 24535, j: 20, True: 5.0, Pred: 4.368539333343506\n",
      "i: 24538, j: 16, True: 4.0, Pred: 3.3227102756500244\n",
      "i: 24538, j: 20, True: 3.5, Pred: 4.000741004943848\n",
      "i: 24543, j: 3, True: 3.5, Pred: 4.162436485290527\n",
      "i: 24548, j: 3, True: 3.0, Pred: 3.5108134746551514\n",
      "i: 28451, j: 3, True: 4.0, Pred: 4.006113052368164\n",
      "i: 29217, j: 3, True: 3.0, Pred: 3.1315643787384033\n",
      "i: 29217, j: 18, True: 2.0, Pred: 3.3463597297668457\n",
      "i: 29561, j: 2, True: 3.5, Pred: 3.340329885482788\n",
      "i: 30492, j: 3, True: 5.0, Pred: 3.976285457611084\n",
      "i: 31093, j: 18, True: 3.5, Pred: 2.8772826194763184\n",
      "i: 31094, j: 18, True: 4.0, Pred: 4.002317905426025\n",
      "i: 31620, j: 3, True: 4.0, Pred: 2.9117963314056396\n",
      "i: 34023, j: 3, True: 2.0, Pred: 3.9724361896514893\n",
      "i: 34378, j: 2, True: 4.0, Pred: 3.7531774044036865\n",
      "i: 35336, j: 3, True: 4.5, Pred: 3.711880922317505\n",
      "i: 38088, j: 2, True: 3.5, Pred: 4.158667087554932\n",
      "i: 41903, j: 3, True: 3.5, Pred: 3.2939293384552\n",
      "i: 42953, j: 3, True: 5.0, Pred: 3.535653829574585\n",
      "i: 43300, j: 2, True: 3.5, Pred: 3.8168997764587402\n",
      "i: 43300, j: 13, True: 5.0, Pred: 4.267988681793213\n",
      "i: 44397, j: 3, True: 5.0, Pred: 3.7620441913604736\n",
      "i: 44872, j: 2, True: 3.5, Pred: 3.6892619132995605\n",
      "i: 57112, j: 3, True: 4.5, Pred: 3.5646440982818604\n"
     ]
    }
   ],
   "source": [
    "# Print the predictions\n",
    "for i, j in tf.where(tf.not_equal(test_batch, 0.0)):\n",
    "    print(f\"i: {i.numpy()}, j: {j.numpy()}, True: {test_batch[i, j].numpy()}, Pred: {pred[i, j].numpy()}\")"
   ]
  },
  {
   "cell_type": "code",
   "execution_count": null,
   "metadata": {},
   "outputs": [],
   "source": []
  }
 ],
 "metadata": {
  "kernelspec": {
   "display_name": "Python 3",
   "language": "python",
   "name": "python3"
  },
  "language_info": {
   "codemirror_mode": {
    "name": "ipython",
    "version": 3
   },
   "file_extension": ".py",
   "mimetype": "text/x-python",
   "name": "python",
   "nbconvert_exporter": "python",
   "pygments_lexer": "ipython3",
   "version": "3.10.12"
  }
 },
 "nbformat": 4,
 "nbformat_minor": 2
}
