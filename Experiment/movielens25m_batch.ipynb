{
 "cells": [
  {
   "cell_type": "markdown",
   "metadata": {},
   "source": [
    "# A tensorflow model for Dictionary Filter"
   ]
  },
  {
   "cell_type": "code",
   "execution_count": 1,
   "metadata": {},
   "outputs": [
    {
     "name": "stderr",
     "output_type": "stream",
     "text": [
      "2024-07-09 20:58:17.411895: I tensorflow/core/util/port.cc:113] oneDNN custom operations are on. You may see slightly different numerical results due to floating-point round-off errors from different computation orders. To turn them off, set the environment variable `TF_ENABLE_ONEDNN_OPTS=0`.\n",
      "2024-07-09 20:58:17.436275: I tensorflow/core/platform/cpu_feature_guard.cc:210] This TensorFlow binary is optimized to use available CPU instructions in performance-critical operations.\n",
      "To enable the following instructions: AVX2 AVX512F AVX512_VNNI AVX512_BF16 FMA, in other operations, rebuild TensorFlow with the appropriate compiler flags.\n",
      "2024-07-09 20:58:17.825510: W tensorflow/compiler/tf2tensorrt/utils/py_utils.cc:38] TF-TRT Warning: Could not find TensorRT\n"
     ]
    }
   ],
   "source": [
    "import numpy as np\n",
    "import pandas as pd\n",
    "import tensorflow as tf\n",
    "from tqdm import tqdm\n",
    "import time\n",
    "import matplotlib.pyplot as plt"
   ]
  },
  {
   "cell_type": "code",
   "execution_count": 2,
   "metadata": {},
   "outputs": [],
   "source": [
    "import sys\n",
    "sys.path.append('../Library')\n",
    "\n",
    "from Metrics.NMSE import NMSE\n",
    "from Modules.BatchGaussianDF import BatchGaussianDF as DictionaryFilter"
   ]
  },
  {
   "cell_type": "code",
   "execution_count": 3,
   "metadata": {},
   "outputs": [],
   "source": [
    "np.random.seed(42)\n",
    "tf.random.set_seed(42)"
   ]
  },
  {
   "cell_type": "markdown",
   "metadata": {},
   "source": [
    "## Test on Movie Lens 25M dataset"
   ]
  },
  {
   "cell_type": "code",
   "execution_count": 4,
   "metadata": {},
   "outputs": [
    {
     "data": {
      "text/html": [
       "<div>\n",
       "<style scoped>\n",
       "    .dataframe tbody tr th:only-of-type {\n",
       "        vertical-align: middle;\n",
       "    }\n",
       "\n",
       "    .dataframe tbody tr th {\n",
       "        vertical-align: top;\n",
       "    }\n",
       "\n",
       "    .dataframe thead th {\n",
       "        text-align: right;\n",
       "    }\n",
       "</style>\n",
       "<table border=\"1\" class=\"dataframe\">\n",
       "  <thead>\n",
       "    <tr style=\"text-align: right;\">\n",
       "      <th></th>\n",
       "      <th>Movie Index</th>\n",
       "      <th>User Index</th>\n",
       "      <th>Rating</th>\n",
       "    </tr>\n",
       "  </thead>\n",
       "  <tbody>\n",
       "    <tr>\n",
       "      <th>0</th>\n",
       "      <td>7242</td>\n",
       "      <td>58197</td>\n",
       "      <td>3.5</td>\n",
       "    </tr>\n",
       "    <tr>\n",
       "      <th>1</th>\n",
       "      <td>21105</td>\n",
       "      <td>149680</td>\n",
       "      <td>4.0</td>\n",
       "    </tr>\n",
       "    <tr>\n",
       "      <th>2</th>\n",
       "      <td>6762</td>\n",
       "      <td>15512</td>\n",
       "      <td>4.5</td>\n",
       "    </tr>\n",
       "    <tr>\n",
       "      <th>3</th>\n",
       "      <td>2538</td>\n",
       "      <td>128</td>\n",
       "      <td>3.0</td>\n",
       "    </tr>\n",
       "    <tr>\n",
       "      <th>4</th>\n",
       "      <td>522</td>\n",
       "      <td>112086</td>\n",
       "      <td>5.0</td>\n",
       "    </tr>\n",
       "  </tbody>\n",
       "</table>\n",
       "</div>"
      ],
      "text/plain": [
       "   Movie Index  User Index  Rating\n",
       "0         7242       58197     3.5\n",
       "1        21105      149680     4.0\n",
       "2         6762       15512     4.5\n",
       "3         2538         128     3.0\n",
       "4          522      112086     5.0"
      ]
     },
     "execution_count": 4,
     "metadata": {},
     "output_type": "execute_result"
    }
   ],
   "source": [
    "# Read the dataset\n",
    "dataset = pd.read_csv('../Data/MovieLens/Recommended/dataset.csv')\n",
    "\n",
    "# Display the dataset\n",
    "dataset.head()"
   ]
  },
  {
   "cell_type": "code",
   "execution_count": 5,
   "metadata": {},
   "outputs": [
    {
     "name": "stdout",
     "output_type": "stream",
     "text": [
      "Train data shape: (18000798, 3)\n",
      "Validation data shape: (2000089, 3)\n",
      "Test data shape: (4999208, 3)\n"
     ]
    }
   ],
   "source": [
    "from sklearn.model_selection import train_test_split\n",
    "from AdvancedModelSelection import user_based_train_test_split\n",
    "\n",
    "# Split the dataset into train and test data\n",
    "train_val_data, test_data = user_based_train_test_split(dataset, test_size=0.2, random_state=42)\n",
    "\n",
    "# Split the train and validation data\n",
    "train_data, val_data = train_test_split(train_val_data, test_size=0.1, random_state=42)\n",
    "\n",
    "# Print the shapes of train and test data\n",
    "print(\"Train data shape:\", train_data.shape)\n",
    "print(\"Validation data shape:\", val_data.shape)\n",
    "print(\"Test data shape:\", test_data.shape)"
   ]
  },
  {
   "cell_type": "code",
   "execution_count": 6,
   "metadata": {},
   "outputs": [],
   "source": [
    "NUM_MOVIES = dataset['Movie Index'].max() + 1\n",
    "NUM_USERS = dataset['User Index'].max() + 1\n",
    "NUM_FACTORS = 16\n",
    "BATCH_SIZE = 32\n",
    "SIGMA = 0.2\n",
    "INIT_SCALE = dataset['Rating'].mean() / NUM_FACTORS\n",
    "NUM_EPOCHS = 20"
   ]
  },
  {
   "cell_type": "code",
   "execution_count": 7,
   "metadata": {},
   "outputs": [
    {
     "name": "stderr",
     "output_type": "stream",
     "text": [
      "2024-07-09 20:58:56.553364: I external/local_xla/xla/stream_executor/cuda/cuda_executor.cc:984] could not open file to read NUMA node: /sys/bus/pci/devices/0000:01:00.0/numa_node\n",
      "Your kernel may have been built without NUMA support.\n",
      "2024-07-09 20:58:56.569392: I external/local_xla/xla/stream_executor/cuda/cuda_executor.cc:984] could not open file to read NUMA node: /sys/bus/pci/devices/0000:01:00.0/numa_node\n",
      "Your kernel may have been built without NUMA support.\n",
      "2024-07-09 20:58:56.569449: I external/local_xla/xla/stream_executor/cuda/cuda_executor.cc:984] could not open file to read NUMA node: /sys/bus/pci/devices/0000:01:00.0/numa_node\n",
      "Your kernel may have been built without NUMA support.\n",
      "2024-07-09 20:58:56.570610: I external/local_xla/xla/stream_executor/cuda/cuda_executor.cc:984] could not open file to read NUMA node: /sys/bus/pci/devices/0000:01:00.0/numa_node\n",
      "Your kernel may have been built without NUMA support.\n",
      "2024-07-09 20:58:56.570647: I external/local_xla/xla/stream_executor/cuda/cuda_executor.cc:984] could not open file to read NUMA node: /sys/bus/pci/devices/0000:01:00.0/numa_node\n",
      "Your kernel may have been built without NUMA support.\n",
      "2024-07-09 20:58:56.570669: I external/local_xla/xla/stream_executor/cuda/cuda_executor.cc:984] could not open file to read NUMA node: /sys/bus/pci/devices/0000:01:00.0/numa_node\n",
      "Your kernel may have been built without NUMA support.\n",
      "2024-07-09 20:58:56.655486: I external/local_xla/xla/stream_executor/cuda/cuda_executor.cc:984] could not open file to read NUMA node: /sys/bus/pci/devices/0000:01:00.0/numa_node\n",
      "Your kernel may have been built without NUMA support.\n",
      "2024-07-09 20:58:56.655533: I external/local_xla/xla/stream_executor/cuda/cuda_executor.cc:984] could not open file to read NUMA node: /sys/bus/pci/devices/0000:01:00.0/numa_node\n",
      "Your kernel may have been built without NUMA support.\n",
      "2024-07-09 20:58:56.655539: I tensorflow/core/common_runtime/gpu/gpu_device.cc:2019] Could not identify NUMA node of platform GPU id 0, defaulting to 0.  Your kernel may not have been built with NUMA support.\n",
      "2024-07-09 20:58:56.655569: I external/local_xla/xla/stream_executor/cuda/cuda_executor.cc:984] could not open file to read NUMA node: /sys/bus/pci/devices/0000:01:00.0/numa_node\n",
      "Your kernel may have been built without NUMA support.\n",
      "2024-07-09 20:58:56.655587: I tensorflow/core/common_runtime/gpu/gpu_device.cc:1928] Created device /job:localhost/replica:0/task:0/device:GPU:0 with 9087 MB memory:  -> device: 0, name: NVIDIA GeForce RTX 4070, pci bus id: 0000:01:00.0, compute capability: 8.9\n"
     ]
    }
   ],
   "source": [
    "# Convert train data to sparse tensor\n",
    "train_sparse_tensor = tf.sparse.SparseTensor(\n",
    "    indices=train_data[['Movie Index', 'User Index']].values,\n",
    "    values=train_data['Rating'].values,\n",
    "    dense_shape=[NUM_MOVIES, NUM_USERS]\n",
    ")\n",
    "train_sparse_tensor = tf.sparse.reorder(train_sparse_tensor)\n",
    "\n",
    "# Convert validation data to sparse tensor\n",
    "val_sparse_tensor = tf.sparse.SparseTensor(\n",
    "    indices=val_data[['Movie Index', 'User Index']].values,\n",
    "    values=val_data['Rating'].values,\n",
    "    dense_shape=[NUM_MOVIES, NUM_USERS]\n",
    ")\n",
    "val_sparse_tensor = tf.sparse.reorder(val_sparse_tensor)\n",
    "\n",
    "# Convert test data to sparse tensor\n",
    "test_sparse_tensor = tf.sparse.SparseTensor(\n",
    "    indices=test_data[['Movie Index', 'User Index']].values,\n",
    "    values=test_data['Rating'].values,\n",
    "    dense_shape=[NUM_MOVIES, NUM_USERS]\n",
    ")\n",
    "test_sparse_tensor = tf.sparse.reorder(test_sparse_tensor)"
   ]
  },
  {
   "cell_type": "code",
   "execution_count": 8,
   "metadata": {},
   "outputs": [],
   "source": [
    "# Create dataset\n",
    "def create_train_dataset(batch_size=BATCH_SIZE):\n",
    "    def data_generator():\n",
    "        train_slices = tf.sparse.split(sp_input=train_sparse_tensor, num_split=NUM_USERS // batch_size, axis=1)\n",
    "        val_slices = tf.sparse.split(sp_input=val_sparse_tensor, num_split=NUM_USERS // batch_size, axis=1)\n",
    "        for i in range(NUM_USERS // batch_size):\n",
    "            yield (tf.sparse.to_dense(train_slices[i]), tf.sparse.to_dense(val_slices[i]))\n",
    "\n",
    "    dataset = tf.data.Dataset.from_generator(\n",
    "        data_generator, \n",
    "        output_signature=(\n",
    "            tf.TensorSpec(shape=[NUM_MOVIES, None], dtype=tf.float32),\n",
    "            tf.TensorSpec(shape=[NUM_MOVIES, None], dtype=tf.float32)\n",
    "        )\n",
    "    )\n",
    "\n",
    "    return dataset\n",
    "\n",
    "def create_full_dataset(batch_size=BATCH_SIZE):\n",
    "    def data_generator():\n",
    "        train_slices = tf.sparse.split(sp_input=train_sparse_tensor, num_split=NUM_USERS // batch_size, axis=1)\n",
    "        val_slices = tf.sparse.split(sp_input=val_sparse_tensor, num_split=NUM_USERS // batch_size, axis=1)\n",
    "        test_slices = tf.sparse.split(sp_input=test_sparse_tensor, num_split=NUM_USERS // batch_size, axis=1)\n",
    "        for i in range(NUM_USERS // batch_size):\n",
    "            yield (tf.sparse.to_dense(train_slices[i]), tf.sparse.to_dense(val_slices[i]), tf.sparse.to_dense(test_slices[i]))\n",
    "\n",
    "    dataset = tf.data.Dataset.from_generator(\n",
    "        data_generator, \n",
    "        output_signature=(\n",
    "            tf.TensorSpec(shape=[NUM_MOVIES, None], dtype=tf.float32),\n",
    "            tf.TensorSpec(shape=[NUM_MOVIES, None], dtype=tf.float32),\n",
    "            tf.TensorSpec(shape=[NUM_MOVIES, None], dtype=tf.float32)\n",
    "        )\n",
    "    )\n",
    "\n",
    "    return dataset"
   ]
  },
  {
   "cell_type": "markdown",
   "metadata": {},
   "source": [
    "## Experiments"
   ]
  },
  {
   "cell_type": "markdown",
   "metadata": {},
   "source": [
    "### 3. Number of epochs vs NMSE"
   ]
  },
  {
   "cell_type": "code",
   "execution_count": 9,
   "metadata": {},
   "outputs": [
    {
     "name": "stderr",
     "output_type": "stream",
     "text": [
      "Epoch 1:   0%|          | 0/5079 [00:00<?, ?batch/s]2024-07-09 20:59:08.415441: I tensorflow/core/util/cuda_solvers.cc:178] Creating GpuSolver handles for stream 0x55682a3290c0\n",
      "Epoch 1: 100%|██████████| 5079/5079 [08:39<00:00,  9.35batch/s]2024-07-09 21:07:44.250556: W tensorflow/core/framework/local_rendezvous.cc:404] Local rendezvous is aborting with status: OUT_OF_RANGE: End of sequence\n",
      "Epoch 1: 100%|██████████| 5079/5079 [08:39<00:00,  9.78batch/s]\n"
     ]
    },
    {
     "name": "stdout",
     "output_type": "stream",
     "text": [
      "Train NMSE: 0.053444315\n",
      "Val NMSE: 0.06548696\n",
      "Test NMSE: 0.06552806\n"
     ]
    },
    {
     "name": "stderr",
     "output_type": "stream",
     "text": [
      "Epoch 2: 100%|██████████| 5079/5079 [08:30<00:00, 10.20batch/s]2024-07-09 21:16:14.647324: W tensorflow/core/framework/local_rendezvous.cc:404] Local rendezvous is aborting with status: OUT_OF_RANGE: End of sequence\n",
      "Epoch 2: 100%|██████████| 5079/5079 [08:30<00:00,  9.95batch/s]\n"
     ]
    },
    {
     "name": "stdout",
     "output_type": "stream",
     "text": [
      "Train NMSE: 0.05317363\n",
      "Val NMSE: 0.06506505\n",
      "Test NMSE: 0.06509925\n"
     ]
    },
    {
     "name": "stderr",
     "output_type": "stream",
     "text": [
      "Epoch 3: 100%|█████████▉| 5078/5079 [08:29<00:00, 10.38batch/s]2024-07-09 21:24:44.383709: W tensorflow/core/framework/local_rendezvous.cc:404] Local rendezvous is aborting with status: OUT_OF_RANGE: End of sequence\n",
      "Epoch 3: 100%|██████████| 5079/5079 [08:29<00:00,  9.96batch/s]\n"
     ]
    },
    {
     "name": "stdout",
     "output_type": "stream",
     "text": [
      "Train NMSE: 0.053021777\n",
      "Val NMSE: 0.06482216\n",
      "Test NMSE: 0.06485248\n"
     ]
    },
    {
     "name": "stderr",
     "output_type": "stream",
     "text": [
      "Epoch 4: 100%|█████████▉| 5078/5079 [08:30<00:00, 10.28batch/s]2024-07-09 21:33:14.878524: W tensorflow/core/framework/local_rendezvous.cc:404] Local rendezvous is aborting with status: OUT_OF_RANGE: End of sequence\n",
      "Epoch 4: 100%|██████████| 5079/5079 [08:30<00:00,  9.95batch/s]\n"
     ]
    },
    {
     "name": "stdout",
     "output_type": "stream",
     "text": [
      "Train NMSE: 0.052917406\n",
      "Val NMSE: 0.06465724\n",
      "Test NMSE: 0.06469138\n"
     ]
    },
    {
     "name": "stderr",
     "output_type": "stream",
     "text": [
      "Epoch 5: 100%|█████████▉| 5078/5079 [08:29<00:00, 10.29batch/s]2024-07-09 21:41:44.487774: W tensorflow/core/framework/local_rendezvous.cc:404] Local rendezvous is aborting with status: OUT_OF_RANGE: End of sequence\n",
      "Epoch 5: 100%|██████████| 5079/5079 [08:29<00:00,  9.97batch/s]\n"
     ]
    },
    {
     "name": "stdout",
     "output_type": "stream",
     "text": [
      "Train NMSE: 0.052836966\n",
      "Val NMSE: 0.06452745\n",
      "Test NMSE: 0.06455962\n"
     ]
    },
    {
     "name": "stderr",
     "output_type": "stream",
     "text": [
      "Epoch 6: 100%|██████████| 5079/5079 [08:31<00:00,  9.65batch/s]2024-07-09 21:50:16.176311: W tensorflow/core/framework/local_rendezvous.cc:404] Local rendezvous is aborting with status: OUT_OF_RANGE: End of sequence\n",
      "Epoch 6: 100%|██████████| 5079/5079 [08:31<00:00,  9.93batch/s]\n"
     ]
    },
    {
     "name": "stdout",
     "output_type": "stream",
     "text": [
      "Train NMSE: 0.052771736\n",
      "Val NMSE: 0.06442264\n",
      "Test NMSE: 0.06445738\n"
     ]
    },
    {
     "name": "stderr",
     "output_type": "stream",
     "text": [
      "Epoch 7: 100%|██████████| 5079/5079 [08:39<00:00,  9.78batch/s]2024-07-09 21:58:55.425454: W tensorflow/core/framework/local_rendezvous.cc:404] Local rendezvous is aborting with status: OUT_OF_RANGE: End of sequence\n",
      "Epoch 7: 100%|██████████| 5079/5079 [08:39<00:00,  9.78batch/s]\n"
     ]
    },
    {
     "name": "stdout",
     "output_type": "stream",
     "text": [
      "Train NMSE: 0.052717403\n",
      "Val NMSE: 0.06433394\n",
      "Test NMSE: 0.064369634\n"
     ]
    },
    {
     "name": "stderr",
     "output_type": "stream",
     "text": [
      "Epoch 8: 100%|██████████| 5079/5079 [08:30<00:00,  9.61batch/s]2024-07-09 22:07:25.557284: W tensorflow/core/framework/local_rendezvous.cc:404] Local rendezvous is aborting with status: OUT_OF_RANGE: End of sequence\n",
      "Epoch 8: 100%|██████████| 5079/5079 [08:30<00:00,  9.96batch/s]\n"
     ]
    },
    {
     "name": "stdout",
     "output_type": "stream",
     "text": [
      "Train NMSE: 0.05267029\n",
      "Val NMSE: 0.06425487\n",
      "Test NMSE: 0.06429141\n"
     ]
    },
    {
     "name": "stderr",
     "output_type": "stream",
     "text": [
      "Epoch 9: 100%|██████████| 5079/5079 [08:35<00:00, 10.57batch/s]2024-07-09 22:16:00.798517: W tensorflow/core/framework/local_rendezvous.cc:404] Local rendezvous is aborting with status: OUT_OF_RANGE: End of sequence\n",
      "Epoch 9: 100%|██████████| 5079/5079 [08:35<00:00,  9.86batch/s]\n"
     ]
    },
    {
     "name": "stdout",
     "output_type": "stream",
     "text": [
      "Train NMSE: 0.052629475\n",
      "Val NMSE: 0.06418747\n",
      "Test NMSE: 0.06422408\n"
     ]
    },
    {
     "name": "stderr",
     "output_type": "stream",
     "text": [
      "Epoch 10: 100%|█████████▉| 5078/5079 [08:27<00:00,  9.98batch/s]2024-07-09 22:24:28.743582: W tensorflow/core/framework/local_rendezvous.cc:404] Local rendezvous is aborting with status: OUT_OF_RANGE: End of sequence\n",
      "Epoch 10: 100%|██████████| 5079/5079 [08:27<00:00, 10.00batch/s]\n"
     ]
    },
    {
     "name": "stdout",
     "output_type": "stream",
     "text": [
      "Train NMSE: 0.05259331\n",
      "Val NMSE: 0.06412669\n",
      "Test NMSE: 0.064165846\n"
     ]
    },
    {
     "name": "stderr",
     "output_type": "stream",
     "text": [
      "Epoch 11: 100%|█████████▉| 5078/5079 [08:58<00:00,  9.36batch/s]2024-07-09 22:33:27.838495: W tensorflow/core/framework/local_rendezvous.cc:404] Local rendezvous is aborting with status: OUT_OF_RANGE: End of sequence\n",
      "Epoch 11: 100%|██████████| 5079/5079 [08:59<00:00,  9.42batch/s]\n"
     ]
    },
    {
     "name": "stdout",
     "output_type": "stream",
     "text": [
      "Train NMSE: 0.052560825\n",
      "Val NMSE: 0.064074524\n",
      "Test NMSE: 0.06411125\n"
     ]
    },
    {
     "name": "stderr",
     "output_type": "stream",
     "text": [
      "Epoch 12: 100%|██████████| 5079/5079 [08:18<00:00,  9.99batch/s]2024-07-09 22:41:46.775296: W tensorflow/core/framework/local_rendezvous.cc:404] Local rendezvous is aborting with status: OUT_OF_RANGE: End of sequence\n",
      "Epoch 12: 100%|██████████| 5079/5079 [08:18<00:00, 10.18batch/s]\n"
     ]
    },
    {
     "name": "stdout",
     "output_type": "stream",
     "text": [
      "Train NMSE: 0.05253111\n",
      "Val NMSE: 0.064024165\n",
      "Test NMSE: 0.06406214\n"
     ]
    },
    {
     "name": "stderr",
     "output_type": "stream",
     "text": [
      "Epoch 13: 100%|█████████▉| 5078/5079 [08:23<00:00, 10.00batch/s]2024-07-09 22:50:10.117377: W tensorflow/core/framework/local_rendezvous.cc:404] Local rendezvous is aborting with status: OUT_OF_RANGE: End of sequence\n",
      "Epoch 13: 100%|██████████| 5079/5079 [08:23<00:00, 10.09batch/s]\n"
     ]
    },
    {
     "name": "stdout",
     "output_type": "stream",
     "text": [
      "Train NMSE: 0.052503962\n",
      "Val NMSE: 0.063979685\n",
      "Test NMSE: 0.06401806\n"
     ]
    },
    {
     "name": "stderr",
     "output_type": "stream",
     "text": [
      "Epoch 14: 100%|██████████| 5079/5079 [08:21<00:00,  9.63batch/s]2024-07-09 22:58:32.066613: W tensorflow/core/framework/local_rendezvous.cc:404] Local rendezvous is aborting with status: OUT_OF_RANGE: End of sequence\n",
      "Epoch 14: 100%|██████████| 5079/5079 [08:21<00:00, 10.12batch/s]\n"
     ]
    },
    {
     "name": "stdout",
     "output_type": "stream",
     "text": [
      "Train NMSE: 0.05247885\n",
      "Val NMSE: 0.06393966\n",
      "Test NMSE: 0.06397716\n"
     ]
    },
    {
     "name": "stderr",
     "output_type": "stream",
     "text": [
      "Epoch 15: 100%|█████████▉| 5078/5079 [08:25<00:00, 10.61batch/s]2024-07-09 23:06:57.388110: W tensorflow/core/framework/local_rendezvous.cc:404] Local rendezvous is aborting with status: OUT_OF_RANGE: End of sequence\n",
      "Epoch 15: 100%|██████████| 5079/5079 [08:25<00:00, 10.05batch/s]\n"
     ]
    },
    {
     "name": "stdout",
     "output_type": "stream",
     "text": [
      "Train NMSE: 0.052455753\n",
      "Val NMSE: 0.06390162\n",
      "Test NMSE: 0.063939385\n"
     ]
    },
    {
     "name": "stderr",
     "output_type": "stream",
     "text": [
      "Epoch 16: 100%|██████████| 5079/5079 [08:27<00:00, 10.46batch/s]2024-07-09 23:15:24.657953: W tensorflow/core/framework/local_rendezvous.cc:404] Local rendezvous is aborting with status: OUT_OF_RANGE: End of sequence\n",
      "Epoch 16: 100%|██████████| 5079/5079 [08:27<00:00, 10.01batch/s]\n"
     ]
    },
    {
     "name": "stdout",
     "output_type": "stream",
     "text": [
      "Train NMSE: 0.05243381\n",
      "Val NMSE: 0.06386645\n",
      "Test NMSE: 0.06390374\n"
     ]
    },
    {
     "name": "stderr",
     "output_type": "stream",
     "text": [
      "Epoch 17: 100%|█████████▉| 5078/5079 [08:31<00:00, 10.48batch/s]2024-07-09 23:23:55.924138: W tensorflow/core/framework/local_rendezvous.cc:404] Local rendezvous is aborting with status: OUT_OF_RANGE: End of sequence\n",
      "Epoch 17: 100%|██████████| 5079/5079 [08:31<00:00,  9.93batch/s]\n"
     ]
    },
    {
     "name": "stdout",
     "output_type": "stream",
     "text": [
      "Train NMSE: 0.05241354\n",
      "Val NMSE: 0.063833944\n",
      "Test NMSE: 0.063870355\n"
     ]
    },
    {
     "name": "stderr",
     "output_type": "stream",
     "text": [
      "Epoch 18: 100%|█████████▉| 5078/5079 [08:43<00:00, 10.41batch/s]2024-07-09 23:32:39.529381: W tensorflow/core/framework/local_rendezvous.cc:404] Local rendezvous is aborting with status: OUT_OF_RANGE: End of sequence\n",
      "Epoch 18: 100%|██████████| 5079/5079 [08:43<00:00,  9.70batch/s]\n"
     ]
    },
    {
     "name": "stdout",
     "output_type": "stream",
     "text": [
      "Train NMSE: 0.0523947\n",
      "Val NMSE: 0.0638026\n",
      "Test NMSE: 0.06383854\n"
     ]
    },
    {
     "name": "stderr",
     "output_type": "stream",
     "text": [
      "Epoch 19: 100%|██████████| 5079/5079 [08:25<00:00, 11.12batch/s]2024-07-09 23:41:05.055664: W tensorflow/core/framework/local_rendezvous.cc:404] Local rendezvous is aborting with status: OUT_OF_RANGE: End of sequence\n",
      "Epoch 19: 100%|██████████| 5079/5079 [08:25<00:00, 10.05batch/s]\n"
     ]
    },
    {
     "name": "stdout",
     "output_type": "stream",
     "text": [
      "Train NMSE: 0.052377146\n",
      "Val NMSE: 0.06377237\n",
      "Test NMSE: 0.06380909\n"
     ]
    },
    {
     "name": "stderr",
     "output_type": "stream",
     "text": [
      "Epoch 20: 100%|██████████| 5079/5079 [08:14<00:00,  8.63batch/s]2024-07-09 23:49:19.976105: W tensorflow/core/framework/local_rendezvous.cc:404] Local rendezvous is aborting with status: OUT_OF_RANGE: End of sequence\n",
      "Epoch 20: 100%|██████████| 5079/5079 [08:14<00:00, 10.26batch/s]"
     ]
    },
    {
     "name": "stdout",
     "output_type": "stream",
     "text": [
      "Train NMSE: 0.052360035\n",
      "Val NMSE: 0.06374551\n",
      "Test NMSE: 0.063781224\n"
     ]
    },
    {
     "name": "stderr",
     "output_type": "stream",
     "text": [
      "\n"
     ]
    }
   ],
   "source": [
    "# Initialize variables\n",
    "nmse_train_results = np.zeros(NUM_EPOCHS)\n",
    "nmse_val_results = np.zeros(NUM_EPOCHS)\n",
    "nmse_test_results = np.zeros(NUM_EPOCHS)\n",
    "\n",
    "# Create the model\n",
    "model = DictionaryFilter(NUM_MOVIES, NUM_FACTORS, INIT_SCALE, SIGMA)\n",
    "nmse_train = NMSE()\n",
    "nmse_val = NMSE()\n",
    "nmse_test = NMSE()\n",
    "\n",
    "# Create the dataset\n",
    "dataset = create_full_dataset()\n",
    "\n",
    "# Train the model\n",
    "for epoch in range(NUM_EPOCHS):\n",
    "    progress_bar = tqdm(total=NUM_USERS // BATCH_SIZE, desc=f\"Epoch {epoch+1}\", unit=\"batch\")\n",
    "    \n",
    "    for train_batch, val_batch, test_batch in dataset:\n",
    "        x = model(train_batch)\n",
    "        nmse_train.update_state(train_batch, tf.matmul(model.C, x), tf.cast(tf.not_equal(train_batch, 0.0), tf.float32))\n",
    "        nmse_val.update_state(val_batch, tf.matmul(model.C, x), tf.cast(tf.not_equal(val_batch, 0.0), tf.float32))\n",
    "        nmse_test.update_state(test_batch, tf.matmul(model.C, x), tf.cast(tf.not_equal(test_batch, 0.0), tf.float32))\n",
    "        progress_bar.update(1)\n",
    "    \n",
    "    progress_bar.close()\n",
    "\n",
    "    print(\"Train NMSE:\", nmse_train.result().numpy())\n",
    "    print(\"Val NMSE:\", nmse_val.result().numpy())\n",
    "    print(\"Test NMSE:\", nmse_test.result().numpy())\n",
    "    nmse_train_results[epoch] = nmse_train.result().numpy()\n",
    "    nmse_val_results[epoch] = nmse_val.result().numpy()\n",
    "    nmse_test_results[epoch] = nmse_test.result().numpy()"
   ]
  },
  {
   "cell_type": "code",
   "execution_count": 10,
   "metadata": {},
   "outputs": [
    {
     "data": {
      "image/png": "[encoded data removed]",
      "text/plain": [
       "<Figure size 640x480 with 1 Axes>"
      ]
     },
     "metadata": {},
     "output_type": "display_data"
    }
   ],
   "source": [
    "# Plot NMSE vs number of epochs\n",
    "plt.plot(np.arange(1, NUM_EPOCHS+1), nmse_train_results, marker='o', label='Train NMSE')\n",
    "plt.plot(np.arange(1, NUM_EPOCHS+1), nmse_val_results, marker='o', label='Validation NMSE')\n",
    "plt.xlabel('Epochs')\n",
    "plt.ylabel('NMSE')\n",
    "plt.title('NMSE vs Epochs')\n",
    "plt.legend()\n",
    "plt.grid()\n",
    "plt.show()"
   ]
  },
  {
   "cell_type": "code",
   "execution_count": 11,
   "metadata": {},
   "outputs": [],
   "source": [
    "# # Save results to a CSV file\n",
    "# results = pd.DataFrame({\n",
    "#     'Train Results': nmse_train_results,\n",
    "#     'Test Results': nmse_test_results\n",
    "# })\n",
    "# results.to_csv('Results/ML25M/num_epochs.csv', index=False)"
   ]
  },
  {
   "cell_type": "markdown",
   "metadata": {},
   "source": [
    "## Observations\n",
    "\n",
    "1. The gradient descend update for $X$ worked on test matrices:\n",
    "\n",
    "$$\n",
    "X^{(2)} = X^{(1)} - \\gamma \\nabla_X ||Y - CX||^2 = X^{(1)} - \\gamma C^T (CX - Y)\n",
    "$$\n",
    "\n",
    "2. However the masked approximation did not converge on MovieLens 100k dataset:\n",
    "\n",
    "$$\n",
    "X^{(2)} = X^{(1)} - \\gamma C^T (M \\odot CX - M \\odot Y)\n",
    "$$\n",
    "\n",
    "3. The updates for $C$ and $V$ from MVGMF took longer to run due to $n \\times n$ (batch size by batch size) matrix inversions while the averaging updates of DF do not involve such operations.\n",
    "\n",
    "4. Using MVGMF updates for $C$ and $V$ did not improve the algorithm's performance in term of NMSE."
   ]
  },
  {
   "cell_type": "markdown",
   "metadata": {},
   "source": []
  }
 ],
 "metadata": {
  "kernelspec": {
   "display_name": "Python 3",
   "language": "python",
   "name": "python3"
  },
  "language_info": {
   "codemirror_mode": {
    "name": "ipython",
    "version": 3
   },
   "file_extension": ".py",
   "mimetype": "text/x-python",
   "name": "python",
   "nbconvert_exporter": "python",
   "pygments_lexer": "ipython3",
   "version": "3.10.12"
  }
 },
 "nbformat": 4,
 "nbformat_minor": 2
}
