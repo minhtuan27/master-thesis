{
 "cells": [
  {
   "cell_type": "markdown",
   "metadata": {},
   "source": [
    "# A tensorflow model for Dictionary Filter"
   ]
  },
  {
   "cell_type": "code",
   "execution_count": 1,
   "metadata": {},
   "outputs": [
    {
     "name": "stderr",
     "output_type": "stream",
     "text": [
      "2024-07-29 15:23:04.550310: I tensorflow/core/util/port.cc:113] oneDNN custom operations are on. You may see slightly different numerical results due to floating-point round-off errors from different computation orders. To turn them off, set the environment variable `TF_ENABLE_ONEDNN_OPTS=0`.\n",
      "2024-07-29 15:23:04.576061: I tensorflow/core/platform/cpu_feature_guard.cc:210] This TensorFlow binary is optimized to use available CPU instructions in performance-critical operations.\n",
      "To enable the following instructions: AVX2 AVX512F AVX512_VNNI AVX512_BF16 FMA, in other operations, rebuild TensorFlow with the appropriate compiler flags.\n",
      "2024-07-29 15:23:04.967810: W tensorflow/compiler/tf2tensorrt/utils/py_utils.cc:38] TF-TRT Warning: Could not find TensorRT\n"
     ]
    }
   ],
   "source": [
    "import numpy as np\n",
    "import matplotlib.pyplot as plt\n",
    "import pandas as pd\n",
    "import tensorflow as tf"
   ]
  },
  {
   "cell_type": "code",
   "execution_count": 2,
   "metadata": {},
   "outputs": [],
   "source": [
    "import sys\n",
    "sys.path.append('../Library')\n",
    "\n",
    "from Metrics.NMSE import NMSE\n",
    "from Modules.BatchGaussianDF import BatchGaussianDF as DictionaryFilter"
   ]
  },
  {
   "cell_type": "markdown",
   "metadata": {},
   "source": [
    "## Test on Movie Lens 100k dataset"
   ]
  },
  {
   "cell_type": "code",
   "execution_count": 3,
   "metadata": {},
   "outputs": [
    {
     "data": {
      "text/html": [
       "<div>\n",
       "<style scoped>\n",
       "    .dataframe tbody tr th:only-of-type {\n",
       "        vertical-align: middle;\n",
       "    }\n",
       "\n",
       "    .dataframe tbody tr th {\n",
       "        vertical-align: top;\n",
       "    }\n",
       "\n",
       "    .dataframe thead th {\n",
       "        text-align: right;\n",
       "    }\n",
       "</style>\n",
       "<table border=\"1\" class=\"dataframe\">\n",
       "  <thead>\n",
       "    <tr style=\"text-align: right;\">\n",
       "      <th></th>\n",
       "      <th>Movie Index</th>\n",
       "      <th>User Index</th>\n",
       "      <th>Rating</th>\n",
       "    </tr>\n",
       "  </thead>\n",
       "  <tbody>\n",
       "    <tr>\n",
       "      <th>0</th>\n",
       "      <td>356</td>\n",
       "      <td>137</td>\n",
       "      <td>4.0</td>\n",
       "    </tr>\n",
       "    <tr>\n",
       "      <th>1</th>\n",
       "      <td>708</td>\n",
       "      <td>91</td>\n",
       "      <td>2.0</td>\n",
       "    </tr>\n",
       "    <tr>\n",
       "      <th>2</th>\n",
       "      <td>411</td>\n",
       "      <td>300</td>\n",
       "      <td>4.0</td>\n",
       "    </tr>\n",
       "    <tr>\n",
       "      <th>3</th>\n",
       "      <td>55</td>\n",
       "      <td>59</td>\n",
       "      <td>4.0</td>\n",
       "    </tr>\n",
       "    <tr>\n",
       "      <th>4</th>\n",
       "      <td>894</td>\n",
       "      <td>196</td>\n",
       "      <td>3.0</td>\n",
       "    </tr>\n",
       "  </tbody>\n",
       "</table>\n",
       "</div>"
      ],
      "text/plain": [
       "   Movie Index  User Index  Rating\n",
       "0          356         137     4.0\n",
       "1          708          91     2.0\n",
       "2          411         300     4.0\n",
       "3           55          59     4.0\n",
       "4          894         196     3.0"
      ]
     },
     "execution_count": 3,
     "metadata": {},
     "output_type": "execute_result"
    }
   ],
   "source": [
    "# Read the dataset\n",
    "dataset = pd.read_csv('../Data/MovieLens/Small/dataset.csv')\n",
    "\n",
    "# Display the dataset\n",
    "dataset.head()"
   ]
  },
  {
   "cell_type": "code",
   "execution_count": 4,
   "metadata": {},
   "outputs": [
    {
     "name": "stdout",
     "output_type": "stream",
     "text": [
      "Train data shape: (72837, 3)\n",
      "Validation data shape: (7530, 3)\n",
      "Test data shape: (19633, 3)\n"
     ]
    }
   ],
   "source": [
    "from AdvancedModelSelection import user_based_train_val_test_split\n",
    "\n",
    "# Split the dataset into train and test data\n",
    "train_data, val_data, test_data = user_based_train_val_test_split(dataset, test_size=0.2, val_size=0.1, random_state=42)\n",
    "\n",
    "# Print the shapes of train and test data\n",
    "print(\"Train data shape:\", train_data.shape)\n",
    "print(\"Validation data shape:\", val_data.shape)\n",
    "print(\"Test data shape:\", test_data.shape)"
   ]
  },
  {
   "cell_type": "code",
   "execution_count": 5,
   "metadata": {},
   "outputs": [],
   "source": [
    "NUM_MOVIES = dataset['Movie Index'].max() + 1\n",
    "NUM_USERS = dataset['User Index'].max() + 1\n",
    "NUM_FACTORS = 2\n",
    "BATCH_SIZE = 32\n",
    "SIGMA = 0.2\n",
    "GAMMA = 0.01\n",
    "INIT_SCALE = dataset['Rating'].mean() / NUM_FACTORS"
   ]
  },
  {
   "cell_type": "code",
   "execution_count": 6,
   "metadata": {},
   "outputs": [
    {
     "name": "stderr",
     "output_type": "stream",
     "text": [
      "2024-07-29 15:23:05.437690: I external/local_xla/xla/stream_executor/cuda/cuda_executor.cc:984] could not open file to read NUMA node: /sys/bus/pci/devices/0000:01:00.0/numa_node\n",
      "Your kernel may have been built without NUMA support.\n",
      "2024-07-29 15:23:05.457090: I external/local_xla/xla/stream_executor/cuda/cuda_executor.cc:984] could not open file to read NUMA node: /sys/bus/pci/devices/0000:01:00.0/numa_node\n",
      "Your kernel may have been built without NUMA support.\n",
      "2024-07-29 15:23:05.457128: I external/local_xla/xla/stream_executor/cuda/cuda_executor.cc:984] could not open file to read NUMA node: /sys/bus/pci/devices/0000:01:00.0/numa_node\n",
      "Your kernel may have been built without NUMA support.\n",
      "2024-07-29 15:23:05.459218: I external/local_xla/xla/stream_executor/cuda/cuda_executor.cc:984] could not open file to read NUMA node: /sys/bus/pci/devices/0000:01:00.0/numa_node\n",
      "Your kernel may have been built without NUMA support.\n",
      "2024-07-29 15:23:05.459247: I external/local_xla/xla/stream_executor/cuda/cuda_executor.cc:984] could not open file to read NUMA node: /sys/bus/pci/devices/0000:01:00.0/numa_node\n",
      "Your kernel may have been built without NUMA support.\n",
      "2024-07-29 15:23:05.459267: I external/local_xla/xla/stream_executor/cuda/cuda_executor.cc:984] could not open file to read NUMA node: /sys/bus/pci/devices/0000:01:00.0/numa_node\n",
      "Your kernel may have been built without NUMA support.\n",
      "2024-07-29 15:23:05.530700: I external/local_xla/xla/stream_executor/cuda/cuda_executor.cc:984] could not open file to read NUMA node: /sys/bus/pci/devices/0000:01:00.0/numa_node\n",
      "Your kernel may have been built without NUMA support.\n",
      "2024-07-29 15:23:05.530752: I external/local_xla/xla/stream_executor/cuda/cuda_executor.cc:984] could not open file to read NUMA node: /sys/bus/pci/devices/0000:01:00.0/numa_node\n",
      "Your kernel may have been built without NUMA support.\n",
      "2024-07-29 15:23:05.530761: I tensorflow/core/common_runtime/gpu/gpu_device.cc:2019] Could not identify NUMA node of platform GPU id 0, defaulting to 0.  Your kernel may not have been built with NUMA support.\n",
      "2024-07-29 15:23:05.530795: I external/local_xla/xla/stream_executor/cuda/cuda_executor.cc:984] could not open file to read NUMA node: /sys/bus/pci/devices/0000:01:00.0/numa_node\n",
      "Your kernel may have been built without NUMA support.\n",
      "2024-07-29 15:23:05.530818: I tensorflow/core/common_runtime/gpu/gpu_device.cc:1928] Created device /job:localhost/replica:0/task:0/device:GPU:0 with 9168 MB memory:  -> device: 0, name: NVIDIA GeForce RTX 4070, pci bus id: 0000:01:00.0, compute capability: 8.9\n"
     ]
    }
   ],
   "source": [
    "# Convert train data to sparse tensor\n",
    "train_sparse_tensor = tf.sparse.SparseTensor(\n",
    "    indices=train_data[['Movie Index', 'User Index']].values,\n",
    "    values=train_data['Rating'].values,\n",
    "    dense_shape=[NUM_MOVIES, NUM_USERS]\n",
    ")\n",
    "train_sparse_tensor = tf.sparse.reorder(train_sparse_tensor)\n",
    "\n",
    "# Convert validation data to sparse tensor\n",
    "val_sparse_tensor = tf.sparse.SparseTensor(\n",
    "    indices=val_data[['Movie Index', 'User Index']].values,\n",
    "    values=val_data['Rating'].values,\n",
    "    dense_shape=[NUM_MOVIES, NUM_USERS]\n",
    ")\n",
    "val_sparse_tensor = tf.sparse.reorder(val_sparse_tensor)\n",
    "\n",
    "# Convert test data to sparse tensor\n",
    "test_sparse_tensor = tf.sparse.SparseTensor(\n",
    "    indices=test_data[['Movie Index', 'User Index']].values,\n",
    "    values=test_data['Rating'].values,\n",
    "    dense_shape=[NUM_MOVIES, NUM_USERS]\n",
    ")\n",
    "test_sparse_tensor = tf.sparse.reorder(test_sparse_tensor)\n",
    "\n",
    "# Create dataset\n",
    "def data_generator():\n",
    "    train_slices = tf.sparse.split(sp_input=train_sparse_tensor, num_split=NUM_USERS // BATCH_SIZE, axis=1)\n",
    "    val_slices = tf.sparse.split(sp_input=val_sparse_tensor, num_split=NUM_USERS // BATCH_SIZE, axis=1)\n",
    "    test_slices = tf.sparse.split(sp_input=test_sparse_tensor, num_split=NUM_USERS // BATCH_SIZE, axis=1)\n",
    "    for i in range(NUM_USERS // BATCH_SIZE):\n",
    "        yield (tf.sparse.to_dense(train_slices[i]), tf.sparse.to_dense(val_slices[i]), tf.sparse.to_dense(test_slices[i]))\n",
    "\n",
    "dataset = tf.data.Dataset.from_generator(\n",
    "    data_generator, \n",
    "    output_signature=(\n",
    "        tf.TensorSpec(shape=[NUM_MOVIES, None], dtype=tf.float32),\n",
    "        tf.TensorSpec(shape=[NUM_MOVIES, None], dtype=tf.float32),\n",
    "        tf.TensorSpec(shape=[NUM_MOVIES, None], dtype=tf.float32)\n",
    "    )\n",
    ")"
   ]
  },
  {
   "cell_type": "code",
   "execution_count": 7,
   "metadata": {},
   "outputs": [
    {
     "name": "stdout",
     "output_type": "stream",
     "text": [
      "Epoch: 0\n"
     ]
    },
    {
     "name": "stderr",
     "output_type": "stream",
     "text": [
      "2024-07-29 15:23:08.665537: I tensorflow/core/util/cuda_solvers.cc:178] Creating GpuSolver handles for stream 0x55b2e06547f0\n",
      "2024-07-29 15:23:10.473390: W tensorflow/core/framework/local_rendezvous.cc:404] Local rendezvous is aborting with status: OUT_OF_RANGE: End of sequence\n"
     ]
    },
    {
     "name": "stdout",
     "output_type": "stream",
     "text": [
      "Train NMSE: 0.06990382\n",
      "Val NMSE: 0.074992076\n",
      "Test NMSE: 0.07356262\n",
      "Epoch: 1\n"
     ]
    },
    {
     "name": "stderr",
     "output_type": "stream",
     "text": [
      "2024-07-29 15:23:11.590718: W tensorflow/core/framework/local_rendezvous.cc:404] Local rendezvous is aborting with status: OUT_OF_RANGE: End of sequence\n"
     ]
    },
    {
     "name": "stdout",
     "output_type": "stream",
     "text": [
      "Train NMSE: 0.06841522\n",
      "Val NMSE: 0.07389672\n",
      "Test NMSE: 0.07248134\n",
      "Epoch: 2\n"
     ]
    },
    {
     "name": "stderr",
     "output_type": "stream",
     "text": [
      "2024-07-29 15:23:12.752391: W tensorflow/core/framework/local_rendezvous.cc:404] Local rendezvous is aborting with status: OUT_OF_RANGE: End of sequence\n"
     ]
    },
    {
     "name": "stdout",
     "output_type": "stream",
     "text": [
      "Train NMSE: 0.06793185\n",
      "Val NMSE: 0.07348814\n",
      "Test NMSE: 0.072063595\n",
      "Epoch: 3\n"
     ]
    },
    {
     "name": "stderr",
     "output_type": "stream",
     "text": [
      "2024-07-29 15:23:13.931479: W tensorflow/core/framework/local_rendezvous.cc:404] Local rendezvous is aborting with status: OUT_OF_RANGE: End of sequence\n"
     ]
    },
    {
     "name": "stdout",
     "output_type": "stream",
     "text": [
      "Train NMSE: 0.067635104\n",
      "Val NMSE: 0.073225066\n",
      "Test NMSE: 0.07182055\n",
      "Epoch: 4\n"
     ]
    },
    {
     "name": "stderr",
     "output_type": "stream",
     "text": [
      "2024-07-29 15:23:15.155993: W tensorflow/core/framework/local_rendezvous.cc:404] Local rendezvous is aborting with status: OUT_OF_RANGE: End of sequence\n"
     ]
    },
    {
     "name": "stdout",
     "output_type": "stream",
     "text": [
      "Train NMSE: 0.06742076\n",
      "Val NMSE: 0.07304524\n",
      "Test NMSE: 0.07163408\n",
      "Epoch: 5\n"
     ]
    },
    {
     "name": "stderr",
     "output_type": "stream",
     "text": [
      "2024-07-29 15:23:16.393035: W tensorflow/core/framework/local_rendezvous.cc:404] Local rendezvous is aborting with status: OUT_OF_RANGE: End of sequence\n"
     ]
    },
    {
     "name": "stdout",
     "output_type": "stream",
     "text": [
      "Train NMSE: 0.06725495\n",
      "Val NMSE: 0.07291221\n",
      "Test NMSE: 0.071482845\n",
      "Epoch: 6\n"
     ]
    },
    {
     "name": "stderr",
     "output_type": "stream",
     "text": [
      "2024-07-29 15:23:18.420202: W tensorflow/core/framework/local_rendezvous.cc:404] Local rendezvous is aborting with status: OUT_OF_RANGE: End of sequence\n"
     ]
    },
    {
     "name": "stdout",
     "output_type": "stream",
     "text": [
      "Train NMSE: 3480.1902\n",
      "Val NMSE: 42305.426\n",
      "Test NMSE: 37047.88\n",
      "Epoch: 7\n"
     ]
    },
    {
     "name": "stderr",
     "output_type": "stream",
     "text": [
      "2024-07-29 15:23:20.281454: W tensorflow/core/framework/local_rendezvous.cc:404] Local rendezvous is aborting with status: OUT_OF_RANGE: End of sequence\n"
     ]
    },
    {
     "name": "stdout",
     "output_type": "stream",
     "text": [
      "Train NMSE: 377.24945\n",
      "Val NMSE: 358.72025\n",
      "Test NMSE: 437.49036\n",
      "Epoch: 8\n"
     ]
    },
    {
     "name": "stderr",
     "output_type": "stream",
     "text": [
      "2024-07-29 15:23:22.083676: W tensorflow/core/framework/local_rendezvous.cc:404] Local rendezvous is aborting with status: OUT_OF_RANGE: End of sequence\n"
     ]
    },
    {
     "name": "stdout",
     "output_type": "stream",
     "text": [
      "Train NMSE: 174.00287\n",
      "Val NMSE: 167.65701\n",
      "Test NMSE: 204.72874\n",
      "Epoch: 9\n",
      "Train NMSE: 64.987274\n",
      "Val NMSE: 76.63723\n",
      "Test NMSE: 77.38152\n"
     ]
    },
    {
     "name": "stderr",
     "output_type": "stream",
     "text": [
      "2024-07-29 15:23:23.890846: W tensorflow/core/framework/local_rendezvous.cc:404] Local rendezvous is aborting with status: OUT_OF_RANGE: End of sequence\n"
     ]
    }
   ],
   "source": [
    "# Create the model\n",
    "model = DictionaryFilter(NUM_MOVIES, NUM_FACTORS, INIT_SCALE, SIGMA, GAMMA)\n",
    "nmse_train = NMSE()\n",
    "nmse_val = NMSE()\n",
    "nmse_test = NMSE()\n",
    "\n",
    "# Train the model\n",
    "for epoch in range(10):\n",
    "    print(\"Epoch:\", epoch)\n",
    "    for train_batch, val_batch, test_batch in dataset:\n",
    "        x = model(train_batch)\n",
    "        \n",
    "        # Perform some gradient descent approximations of X\n",
    "        if epoch > 5:\n",
    "            for _ in range(5):\n",
    "                x = model(train_batch, x)\n",
    "\n",
    "        nmse_train.update_state(train_batch, tf.matmul(model.C, x), tf.cast(tf.not_equal(train_batch, 0.0), tf.float32))\n",
    "        nmse_val.update_state(val_batch, tf.matmul(model.C, x), tf.cast(tf.not_equal(val_batch, 0.0), tf.float32))\n",
    "        nmse_test.update_state(test_batch, tf.matmul(model.C, x), tf.cast(tf.not_equal(test_batch, 0.0), tf.float32))\n",
    "    \n",
    "    print(\"Train NMSE:\", nmse_train.result().numpy())\n",
    "    print(\"Val NMSE:\", nmse_val.result().numpy())\n",
    "    print(\"Test NMSE:\", nmse_test.result().numpy())\n",
    "\n",
    "    nmse_train.reset_states()\n",
    "    nmse_val.reset_states()\n",
    "    nmse_test.reset_states()"
   ]
  },
  {
   "cell_type": "code",
   "execution_count": null,
   "metadata": {},
   "outputs": [],
   "source": []
  }
 ],
 "metadata": {
  "kernelspec": {
   "display_name": "Python 3",
   "language": "python",
   "name": "python3"
  },
  "language_info": {
   "codemirror_mode": {
    "name": "ipython",
    "version": 3
   },
   "file_extension": ".py",
   "mimetype": "text/x-python",
   "name": "python",
   "nbconvert_exporter": "python",
   "pygments_lexer": "ipython3",
   "version": "3.10.12"
  }
 },
 "nbformat": 4,
 "nbformat_minor": 2
}
