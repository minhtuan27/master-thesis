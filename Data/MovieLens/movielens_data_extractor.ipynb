{
 "cells": [
  {
   "cell_type": "markdown",
   "metadata": {},
   "source": [
    "# Movie Lens dataset\n",
    "\n",
    "## Extract a recommended sub-dataset\n",
    "Here, we extract the 25M dataset."
   ]
  },
  {
   "cell_type": "code",
   "execution_count": 1,
   "metadata": {},
   "outputs": [
    {
     "name": "stderr",
     "output_type": "stream",
     "text": [
      "2024-07-08 08:37:17.169485: I tensorflow/core/util/port.cc:113] oneDNN custom operations are on. You may see slightly different numerical results due to floating-point round-off errors from different computation orders. To turn them off, set the environment variable `TF_ENABLE_ONEDNN_OPTS=0`.\n",
      "2024-07-08 08:37:17.195173: I tensorflow/core/platform/cpu_feature_guard.cc:210] This TensorFlow binary is optimized to use available CPU instructions in performance-critical operations.\n",
      "To enable the following instructions: AVX2 AVX512F AVX512_VNNI AVX512_BF16 FMA, in other operations, rebuild TensorFlow with the appropriate compiler flags.\n",
      "2024-07-08 08:37:17.868147: W tensorflow/compiler/tf2tensorrt/utils/py_utils.cc:38] TF-TRT Warning: Could not find TensorRT\n",
      "2024-07-08 08:37:18.681367: I external/local_xla/xla/stream_executor/cuda/cuda_executor.cc:984] could not open file to read NUMA node: /sys/bus/pci/devices/0000:01:00.0/numa_node\n",
      "Your kernel may have been built without NUMA support.\n",
      "2024-07-08 08:37:18.751491: I external/local_xla/xla/stream_executor/cuda/cuda_executor.cc:984] could not open file to read NUMA node: /sys/bus/pci/devices/0000:01:00.0/numa_node\n",
      "Your kernel may have been built without NUMA support.\n",
      "2024-07-08 08:37:18.751539: I external/local_xla/xla/stream_executor/cuda/cuda_executor.cc:984] could not open file to read NUMA node: /sys/bus/pci/devices/0000:01:00.0/numa_node\n",
      "Your kernel may have been built without NUMA support.\n",
      "2024-07-08 08:37:18.753040: I external/local_xla/xla/stream_executor/cuda/cuda_executor.cc:984] could not open file to read NUMA node: /sys/bus/pci/devices/0000:01:00.0/numa_node\n",
      "Your kernel may have been built without NUMA support.\n",
      "2024-07-08 08:37:18.753068: I external/local_xla/xla/stream_executor/cuda/cuda_executor.cc:984] could not open file to read NUMA node: /sys/bus/pci/devices/0000:01:00.0/numa_node\n",
      "Your kernel may have been built without NUMA support.\n",
      "2024-07-08 08:37:18.753086: I external/local_xla/xla/stream_executor/cuda/cuda_executor.cc:984] could not open file to read NUMA node: /sys/bus/pci/devices/0000:01:00.0/numa_node\n",
      "Your kernel may have been built without NUMA support.\n",
      "2024-07-08 08:37:18.846503: I external/local_xla/xla/stream_executor/cuda/cuda_executor.cc:984] could not open file to read NUMA node: /sys/bus/pci/devices/0000:01:00.0/numa_node\n",
      "Your kernel may have been built without NUMA support.\n",
      "2024-07-08 08:37:18.846543: I external/local_xla/xla/stream_executor/cuda/cuda_executor.cc:984] could not open file to read NUMA node: /sys/bus/pci/devices/0000:01:00.0/numa_node\n",
      "Your kernel may have been built without NUMA support.\n",
      "2024-07-08 08:37:18.846549: I tensorflow/core/common_runtime/gpu/gpu_device.cc:2019] Could not identify NUMA node of platform GPU id 0, defaulting to 0.  Your kernel may not have been built with NUMA support.\n",
      "2024-07-08 08:37:18.846574: I external/local_xla/xla/stream_executor/cuda/cuda_executor.cc:984] could not open file to read NUMA node: /sys/bus/pci/devices/0000:01:00.0/numa_node\n",
      "Your kernel may have been built without NUMA support.\n",
      "2024-07-08 08:37:18.846593: I tensorflow/core/common_runtime/gpu/gpu_device.cc:1928] Created device /job:localhost/replica:0/task:0/device:GPU:0 with 9558 MB memory:  -> device: 0, name: NVIDIA GeForce RTX 4070, pci bus id: 0000:01:00.0, compute capability: 8.9\n"
     ]
    }
   ],
   "source": [
    "import tensorflow_datasets as tfds\n",
    "\n",
    "# Load the dataset\n",
    "dataset = tfds.load('movielens/25m-ratings', split='train')"
   ]
  },
  {
   "cell_type": "code",
   "execution_count": 2,
   "metadata": {},
   "outputs": [
    {
     "name": "stdout",
     "output_type": "stream",
     "text": [
      "{'movie_genres': <tf.Tensor: shape=(2,), dtype=int64, numpy=array([4, 5])>, 'movie_id': <tf.Tensor: shape=(), dtype=string, numpy=b'7367'>, 'movie_title': <tf.Tensor: shape=(), dtype=string, numpy=b'Ladykillers, The (2004)'>, 'timestamp': <tf.Tensor: shape=(), dtype=int64, numpy=1198090049>, 'user_id': <tf.Tensor: shape=(), dtype=string, numpy=b'58198'>, 'user_rating': <tf.Tensor: shape=(), dtype=float32, numpy=3.5>}\n",
      "{'movie_genres': <tf.Tensor: shape=(2,), dtype=int64, numpy=array([15, 11])>, 'movie_id': <tf.Tensor: shape=(), dtype=string, numpy=b'109487'>, 'movie_title': <tf.Tensor: shape=(), dtype=string, numpy=b'Interstellar (2014)'>, 'timestamp': <tf.Tensor: shape=(), dtype=int64, numpy=1438858445>, 'user_id': <tf.Tensor: shape=(), dtype=string, numpy=b'149681'>, 'user_rating': <tf.Tensor: shape=(), dtype=float32, numpy=4.0>}\n",
      "{'movie_genres': <tf.Tensor: shape=(5,), dtype=int64, numpy=array([ 5,  7, 13, 14, 16])>, 'movie_id': <tf.Tensor: shape=(), dtype=string, numpy=b'6885'>, 'movie_title': <tf.Tensor: shape=(), dtype=string, numpy=b'In the Cut (2003)'>, 'timestamp': <tf.Tensor: shape=(), dtype=int64, numpy=1111509138>, 'user_id': <tf.Tensor: shape=(), dtype=string, numpy=b'15513'>, 'user_rating': <tf.Tensor: shape=(), dtype=float32, numpy=4.5>}\n",
      "{'movie_genres': <tf.Tensor: shape=(2,), dtype=int64, numpy=array([ 4, 14])>, 'movie_id': <tf.Tensor: shape=(), dtype=string, numpy=b'2629'>, 'movie_title': <tf.Tensor: shape=(), dtype=string, numpy=b'Love Letter, The (1999)'>, 'timestamp': <tf.Tensor: shape=(), dtype=int64, numpy=940464847>, 'user_id': <tf.Tensor: shape=(), dtype=string, numpy=b'129'>, 'user_rating': <tf.Tensor: shape=(), dtype=float32, numpy=3.0>}\n",
      "{'movie_genres': <tf.Tensor: shape=(2,), dtype=int64, numpy=array([ 7, 18])>, 'movie_id': <tf.Tensor: shape=(), dtype=string, numpy=b'527'>, 'movie_title': <tf.Tensor: shape=(), dtype=string, numpy=b\"Schindler's List (1993)\">, 'timestamp': <tf.Tensor: shape=(), dtype=int64, numpy=1075606402>, 'user_id': <tf.Tensor: shape=(), dtype=string, numpy=b'112087'>, 'user_rating': <tf.Tensor: shape=(), dtype=float32, numpy=5.0>}\n",
      "{'movie_genres': <tf.Tensor: shape=(4,), dtype=int64, numpy=array([ 0,  1, 10, 15])>, 'movie_id': <tf.Tensor: shape=(), dtype=string, numpy=b'191367'>, 'movie_title': <tf.Tensor: shape=(), dtype=string, numpy=b'The Predator (2018)'>, 'timestamp': <tf.Tensor: shape=(), dtype=int64, numpy=1553629740>, 'user_id': <tf.Tensor: shape=(), dtype=string, numpy=b'103258'>, 'user_rating': <tf.Tensor: shape=(), dtype=float32, numpy=3.0>}\n",
      "{'movie_genres': <tf.Tensor: shape=(6,), dtype=int64, numpy=array([ 1,  2,  3,  4,  8, 11])>, 'movie_id': <tf.Tensor: shape=(), dtype=string, numpy=b'47124'>, 'movie_title': <tf.Tensor: shape=(), dtype=string, numpy=b'Ant Bully, The (2006)'>, 'timestamp': <tf.Tensor: shape=(), dtype=int64, numpy=1227601400>, 'user_id': <tf.Tensor: shape=(), dtype=string, numpy=b'69299'>, 'user_rating': <tf.Tensor: shape=(), dtype=float32, numpy=3.0>}\n",
      "{'movie_genres': <tf.Tensor: shape=(3,), dtype=int64, numpy=array([ 0,  1, 15])>, 'movie_id': <tf.Tensor: shape=(), dtype=string, numpy=b'2528'>, 'movie_title': <tf.Tensor: shape=(), dtype=string, numpy=b\"Logan's Run (1976)\">, 'timestamp': <tf.Tensor: shape=(), dtype=int64, numpy=954174399>, 'user_id': <tf.Tensor: shape=(), dtype=string, numpy=b'21197'>, 'user_rating': <tf.Tensor: shape=(), dtype=float32, numpy=4.0>}\n",
      "{'movie_genres': <tf.Tensor: shape=(4,), dtype=int64, numpy=array([ 5,  7,  8, 16])>, 'movie_id': <tf.Tensor: shape=(), dtype=string, numpy=b'1754'>, 'movie_title': <tf.Tensor: shape=(), dtype=string, numpy=b'Fallen (1998)'>, 'timestamp': <tf.Tensor: shape=(), dtype=int64, numpy=1149086284>, 'user_id': <tf.Tensor: shape=(), dtype=string, numpy=b'116447'>, 'user_rating': <tf.Tensor: shape=(), dtype=float32, numpy=2.5>}\n",
      "{'movie_genres': <tf.Tensor: shape=(3,), dtype=int64, numpy=array([ 0, 15, 16])>, 'movie_id': <tf.Tensor: shape=(), dtype=string, numpy=b'3527'>, 'movie_title': <tf.Tensor: shape=(), dtype=string, numpy=b'Predator (1987)'>, 'timestamp': <tf.Tensor: shape=(), dtype=int64, numpy=1036492943>, 'user_id': <tf.Tensor: shape=(), dtype=string, numpy=b'95791'>, 'user_rating': <tf.Tensor: shape=(), dtype=float32, numpy=3.0>}\n"
     ]
    },
    {
     "name": "stderr",
     "output_type": "stream",
     "text": [
      "2024-07-08 08:37:19.275446: W tensorflow/core/framework/local_rendezvous.cc:404] Local rendezvous is aborting with status: OUT_OF_RANGE: End of sequence\n"
     ]
    }
   ],
   "source": [
    "# Display the first 10 observations\n",
    "for i, data in enumerate(dataset.take(10)):\n",
    "    print(data)"
   ]
  },
  {
   "cell_type": "code",
   "execution_count": 3,
   "metadata": {},
   "outputs": [
    {
     "name": "stderr",
     "output_type": "stream",
     "text": [
      "Writing data:   0%|          | 0/25000095 [00:00<?, ?it/s]"
     ]
    },
    {
     "name": "stderr",
     "output_type": "stream",
     "text": [
      "Writing data: 100%|█████████▉| 25000063/25000095 [45:08<00:00, 9137.43it/s]2024-07-08 09:22:27.471900: W tensorflow/core/framework/local_rendezvous.cc:404] Local rendezvous is aborting with status: OUT_OF_RANGE: End of sequence\n",
      "Writing data: 100%|██████████| 25000095/25000095 [45:08<00:00, 9231.34it/s]"
     ]
    },
    {
     "name": "stdout",
     "output_type": "stream",
     "text": [
      "Data has been written to Recommended/dataset.csv\n"
     ]
    },
    {
     "name": "stderr",
     "output_type": "stream",
     "text": [
      "\n"
     ]
    }
   ],
   "source": [
    "import csv\n",
    "from tqdm import tqdm\n",
    "\n",
    "# Define the file path\n",
    "csv_file = 'Recommended/dataset.csv'\n",
    "\n",
    "# Open the CSV file in write mode\n",
    "with open(csv_file, 'w', newline='') as file:\n",
    "    writer = csv.writer(file)\n",
    "\n",
    "    # Write the column names to the CSV file\n",
    "    writer.writerow(['Movie Index', 'User Index', 'Rating'])\n",
    "\n",
    "    # Loop through the dataset and write the data to the CSV file with progress bar\n",
    "    for data in tqdm(dataset, total=len(dataset), desc=\"Writing data\"):\n",
    "        movie_id = data['movie_id'].numpy().decode()\n",
    "        user_id = data['user_id'].numpy().decode()\n",
    "        user_rating = data['user_rating'].numpy()\n",
    "        writer.writerow([movie_id, user_id, user_rating])\n",
    "\n",
    "print(\"Data has been written to\", csv_file)"
   ]
  },
  {
   "cell_type": "code",
   "execution_count": 4,
   "metadata": {},
   "outputs": [],
   "source": [
    "import pandas as pd\n",
    "\n",
    "# Read the CSV dataset file\n",
    "df = pd.read_csv('Recommended/dataset.csv')\n",
    "\n",
    "# Remap user ids\n",
    "df['User Index'] = df['User Index'].rank(method='dense') - 1\n",
    "\n",
    "# Remap movie ids\n",
    "df['Movie Index'] = df['Movie Index'].rank(method='dense') - 1\n",
    "\n",
    "# Convert the columns to integers\n",
    "df['User Index'] = df['User Index'].astype(int)\n",
    "df['Movie Index'] = df['Movie Index'].astype(int)\n",
    "\n",
    "# Write the updated dataset to the CSV file\n",
    "df.to_csv('Recommended/dataset.csv', index=False)"
   ]
  },
  {
   "cell_type": "code",
   "execution_count": 6,
   "metadata": {},
   "outputs": [
    {
     "name": "stdout",
     "output_type": "stream",
     "text": [
      "Movie ID range: 0 - 59046\n",
      "User ID range: 0 - 162540\n",
      "Unique Movie IDs: 59047\n",
      "Unique User IDs: 162541\n"
     ]
    }
   ],
   "source": [
    "# Read the CSV dataset file\n",
    "df = pd.read_csv('Recommended/dataset.csv')\n",
    "\n",
    "# Get the range of movie IDs and user IDs\n",
    "min_movie_id = df['Movie Index'].min()\n",
    "max_movie_id = df['Movie Index'].max()\n",
    "min_user_id = df['User Index'].min()\n",
    "max_user_id = df['User Index'].max()\n",
    "\n",
    "# Get the total number of unique movie IDs and user IDs\n",
    "unique_movie_ids = df['Movie Index'].nunique()\n",
    "unique_user_ids = df['User Index'].nunique()\n",
    "\n",
    "# Verify the range of movie IDs and user IDs\n",
    "print(\"Movie ID range:\", min_movie_id, \"-\", max_movie_id)\n",
    "print(\"User ID range:\", min_user_id, \"-\", max_user_id)\n",
    "print(\"Unique Movie IDs:\", unique_movie_ids)\n",
    "print(\"Unique User IDs:\", unique_user_ids)"
   ]
  },
  {
   "cell_type": "markdown",
   "metadata": {},
   "source": [
    "## For small dataset"
   ]
  },
  {
   "cell_type": "code",
   "execution_count": 7,
   "metadata": {},
   "outputs": [],
   "source": [
    "import tensorflow_datasets as tfds\n",
    "\n",
    "# Load the dataset\n",
    "dataset = tfds.load('movielens/100k-ratings', split='train')"
   ]
  },
  {
   "cell_type": "code",
   "execution_count": 8,
   "metadata": {},
   "outputs": [
    {
     "name": "stderr",
     "output_type": "stream",
     "text": [
      "2024-07-08 09:23:11.250857: W tensorflow/core/framework/local_rendezvous.cc:404] Local rendezvous is aborting with status: OUT_OF_RANGE: End of sequence\n",
      "/tmp/ipykernel_6929/2888648731.py:8: SettingWithCopyWarning: \n",
      "A value is trying to be set on a copy of a slice from a DataFrame.\n",
      "Try using .loc[row_indexer,col_indexer] = value instead\n",
      "\n",
      "See the caveats in the documentation: https://pandas.pydata.org/pandas-docs/stable/user_guide/indexing.html#returning-a-view-versus-a-copy\n",
      "  df['movie_id'] = pd.to_numeric(df['movie_id'])\n",
      "/tmp/ipykernel_6929/2888648731.py:9: SettingWithCopyWarning: \n",
      "A value is trying to be set on a copy of a slice from a DataFrame.\n",
      "Try using .loc[row_indexer,col_indexer] = value instead\n",
      "\n",
      "See the caveats in the documentation: https://pandas.pydata.org/pandas-docs/stable/user_guide/indexing.html#returning-a-view-versus-a-copy\n",
      "  df['movie_id'] = df['movie_id'] - 1\n",
      "/tmp/ipykernel_6929/2888648731.py:10: SettingWithCopyWarning: \n",
      "A value is trying to be set on a copy of a slice from a DataFrame.\n",
      "Try using .loc[row_indexer,col_indexer] = value instead\n",
      "\n",
      "See the caveats in the documentation: https://pandas.pydata.org/pandas-docs/stable/user_guide/indexing.html#returning-a-view-versus-a-copy\n",
      "  df['user_id'] = pd.to_numeric(df['user_id'])\n",
      "/tmp/ipykernel_6929/2888648731.py:11: SettingWithCopyWarning: \n",
      "A value is trying to be set on a copy of a slice from a DataFrame.\n",
      "Try using .loc[row_indexer,col_indexer] = value instead\n",
      "\n",
      "See the caveats in the documentation: https://pandas.pydata.org/pandas-docs/stable/user_guide/indexing.html#returning-a-view-versus-a-copy\n",
      "  df['user_id'] = df['user_id'] - 1\n",
      "/tmp/ipykernel_6929/2888648731.py:12: SettingWithCopyWarning: \n",
      "A value is trying to be set on a copy of a slice from a DataFrame\n",
      "\n",
      "See the caveats in the documentation: https://pandas.pydata.org/pandas-docs/stable/user_guide/indexing.html#returning-a-view-versus-a-copy\n",
      "  df.rename(columns={'user_rating': 'Rating', 'movie_id': 'Movie Index', 'user_id': 'User Index'}, inplace=True)\n"
     ]
    },
    {
     "data": {
      "text/html": [
       "<div>\n",
       "<style scoped>\n",
       "    .dataframe tbody tr th:only-of-type {\n",
       "        vertical-align: middle;\n",
       "    }\n",
       "\n",
       "    .dataframe tbody tr th {\n",
       "        vertical-align: top;\n",
       "    }\n",
       "\n",
       "    .dataframe thead th {\n",
       "        text-align: right;\n",
       "    }\n",
       "</style>\n",
       "<table border=\"1\" class=\"dataframe\">\n",
       "  <thead>\n",
       "    <tr style=\"text-align: right;\">\n",
       "      <th></th>\n",
       "      <th>Movie Index</th>\n",
       "      <th>User Index</th>\n",
       "      <th>Rating</th>\n",
       "    </tr>\n",
       "  </thead>\n",
       "  <tbody>\n",
       "    <tr>\n",
       "      <th>0</th>\n",
       "      <td>356</td>\n",
       "      <td>137</td>\n",
       "      <td>4.0</td>\n",
       "    </tr>\n",
       "    <tr>\n",
       "      <th>1</th>\n",
       "      <td>708</td>\n",
       "      <td>91</td>\n",
       "      <td>2.0</td>\n",
       "    </tr>\n",
       "    <tr>\n",
       "      <th>2</th>\n",
       "      <td>411</td>\n",
       "      <td>300</td>\n",
       "      <td>4.0</td>\n",
       "    </tr>\n",
       "    <tr>\n",
       "      <th>3</th>\n",
       "      <td>55</td>\n",
       "      <td>59</td>\n",
       "      <td>4.0</td>\n",
       "    </tr>\n",
       "    <tr>\n",
       "      <th>4</th>\n",
       "      <td>894</td>\n",
       "      <td>196</td>\n",
       "      <td>3.0</td>\n",
       "    </tr>\n",
       "  </tbody>\n",
       "</table>\n",
       "</div>"
      ],
      "text/plain": [
       "   Movie Index  User Index  Rating\n",
       "0          356         137     4.0\n",
       "1          708          91     2.0\n",
       "2          411         300     4.0\n",
       "3           55          59     4.0\n",
       "4          894         196     3.0"
      ]
     },
     "execution_count": 8,
     "metadata": {},
     "output_type": "execute_result"
    }
   ],
   "source": [
    "import pandas as pd\n",
    "\n",
    "# Create a pandas dataframe\n",
    "df = tfds.as_dataframe(dataset)\n",
    "\n",
    "# Extract the user id, movie id, and rating\n",
    "df = df[['movie_id', 'user_id', 'user_rating']]\n",
    "df['movie_id'] = pd.to_numeric(df['movie_id'])\n",
    "df['movie_id'] = df['movie_id'] - 1\n",
    "df['user_id'] = pd.to_numeric(df['user_id'])\n",
    "df['user_id'] = df['user_id'] - 1\n",
    "df.rename(columns={'user_rating': 'Rating', 'movie_id': 'Movie Index', 'user_id': 'User Index'}, inplace=True)\n",
    "\n",
    "# Display the dataframe\n",
    "df.head()"
   ]
  },
  {
   "cell_type": "code",
   "execution_count": 9,
   "metadata": {},
   "outputs": [
    {
     "name": "stderr",
     "output_type": "stream",
     "text": [
      "/tmp/ipykernel_6929/1170244081.py:2: SettingWithCopyWarning: \n",
      "A value is trying to be set on a copy of a slice from a DataFrame.\n",
      "Try using .loc[row_indexer,col_indexer] = value instead\n",
      "\n",
      "See the caveats in the documentation: https://pandas.pydata.org/pandas-docs/stable/user_guide/indexing.html#returning-a-view-versus-a-copy\n",
      "  df['User Index'] = df['User Index'].rank(method='dense') - 1\n",
      "/tmp/ipykernel_6929/1170244081.py:5: SettingWithCopyWarning: \n",
      "A value is trying to be set on a copy of a slice from a DataFrame.\n",
      "Try using .loc[row_indexer,col_indexer] = value instead\n",
      "\n",
      "See the caveats in the documentation: https://pandas.pydata.org/pandas-docs/stable/user_guide/indexing.html#returning-a-view-versus-a-copy\n",
      "  df['Movie Index'] = df['Movie Index'].rank(method='dense') - 1\n",
      "/tmp/ipykernel_6929/1170244081.py:8: SettingWithCopyWarning: \n",
      "A value is trying to be set on a copy of a slice from a DataFrame.\n",
      "Try using .loc[row_indexer,col_indexer] = value instead\n",
      "\n",
      "See the caveats in the documentation: https://pandas.pydata.org/pandas-docs/stable/user_guide/indexing.html#returning-a-view-versus-a-copy\n",
      "  df['User Index'] = df['User Index'].astype(int)\n",
      "/tmp/ipykernel_6929/1170244081.py:9: SettingWithCopyWarning: \n",
      "A value is trying to be set on a copy of a slice from a DataFrame.\n",
      "Try using .loc[row_indexer,col_indexer] = value instead\n",
      "\n",
      "See the caveats in the documentation: https://pandas.pydata.org/pandas-docs/stable/user_guide/indexing.html#returning-a-view-versus-a-copy\n",
      "  df['Movie Index'] = df['Movie Index'].astype(int)\n"
     ]
    }
   ],
   "source": [
    "# Remap user ids\n",
    "df['User Index'] = df['User Index'].rank(method='dense') - 1\n",
    "\n",
    "# Remap movie ids\n",
    "df['Movie Index'] = df['Movie Index'].rank(method='dense') - 1\n",
    "\n",
    "# Convert the columns to integers\n",
    "df['User Index'] = df['User Index'].astype(int)\n",
    "df['Movie Index'] = df['Movie Index'].astype(int)"
   ]
  },
  {
   "cell_type": "code",
   "execution_count": 10,
   "metadata": {},
   "outputs": [
    {
     "name": "stdout",
     "output_type": "stream",
     "text": [
      "Number of unique movie ids: 1682\n",
      "Number of unique user ids: 943\n",
      "Density of the dataset: 0.06304669364224531\n"
     ]
    }
   ],
   "source": [
    "unique_movie_ids = df['Movie Index'].nunique()\n",
    "unique_user_ids = df['User Index'].nunique()\n",
    "density = len(df) / (unique_movie_ids * unique_user_ids)\n",
    "\n",
    "print(\"Number of unique movie ids:\", unique_movie_ids)\n",
    "print(\"Number of unique user ids:\", unique_user_ids)\n",
    "print(\"Density of the dataset:\", density)"
   ]
  },
  {
   "cell_type": "code",
   "execution_count": 11,
   "metadata": {},
   "outputs": [],
   "source": [
    "df.to_csv('Small/dataset.csv', index=False)"
   ]
  },
  {
   "cell_type": "code",
   "execution_count": 12,
   "metadata": {},
   "outputs": [
    {
     "name": "stdout",
     "output_type": "stream",
     "text": [
      "Movie ID range: 0 - 1681\n",
      "User ID range: 0 - 942\n",
      "Unique Movie IDs: 1682\n",
      "Unique User IDs: 943\n"
     ]
    }
   ],
   "source": [
    "import pandas as pd\n",
    "\n",
    "# Read the CSV dataset file\n",
    "df = pd.read_csv('Small/dataset.csv')\n",
    "\n",
    "# Get the range of movie IDs and user IDs\n",
    "min_movie_id = df['Movie Index'].min()\n",
    "max_movie_id = df['Movie Index'].max()\n",
    "min_user_id = df['User Index'].min()\n",
    "max_user_id = df['User Index'].max()\n",
    "\n",
    "# Get the total number of unique movie IDs and user IDs\n",
    "unique_movie_ids = df['Movie Index'].nunique()\n",
    "unique_user_ids = df['User Index'].nunique()\n",
    "\n",
    "# Verify the range of movie IDs and user IDs\n",
    "print(\"Movie ID range:\", min_movie_id, \"-\", max_movie_id)\n",
    "print(\"User ID range:\", min_user_id, \"-\", max_user_id)\n",
    "print(\"Unique Movie IDs:\", unique_movie_ids)\n",
    "print(\"Unique User IDs:\", unique_user_ids)"
   ]
  },
  {
   "cell_type": "code",
   "execution_count": null,
   "metadata": {},
   "outputs": [],
   "source": []
  }
 ],
 "metadata": {
  "kernelspec": {
   "display_name": "Python 3",
   "language": "python",
   "name": "python3"
  },
  "language_info": {
   "codemirror_mode": {
    "name": "ipython",
    "version": 3
   },
   "file_extension": ".py",
   "mimetype": "text/x-python",
   "name": "python",
   "nbconvert_exporter": "python",
   "pygments_lexer": "ipython3",
   "version": "3.10.12"
  }
 },
 "nbformat": 4,
 "nbformat_minor": 2
}
